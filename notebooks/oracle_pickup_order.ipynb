{
 "cells": [
  {
   "cell_type": "code",
   "execution_count": 1,
   "metadata": {},
   "outputs": [],
   "source": [
    "import sys "
   ]
  },
  {
   "cell_type": "code",
   "execution_count": 2,
   "metadata": {},
   "outputs": [
    {
     "name": "stdout",
     "output_type": "stream",
     "text": [
      "/coc/pskynet3/hagrawal9/project/habitat/habitat-api\n"
     ]
    }
   ],
   "source": [
    "cd '/srv/share3/hagrawal9/project/habitat/habitat-api/'"
   ]
  },
  {
   "cell_type": "code",
   "execution_count": 23,
   "metadata": {},
   "outputs": [],
   "source": [
    "import gzip\n",
    "import json\n",
    "import os\n",
    "import sys\n",
    "from typing import Any, Dict, List, Optional, Type\n",
    "\n",
    "import attr\n",
    "import cv2\n",
    "import git\n",
    "import magnum as mn\n",
    "import numpy as np\n",
    "\n",
    "# %matplotlib inline\n",
    "from matplotlib import pyplot as plt\n",
    "from pathlib import Path\n",
    "from PIL import Image\n",
    "\n",
    "\n",
    "import habitat\n",
    "import habitat_sim\n",
    "from habitat.config import Config\n",
    "from habitat.core.registry import registry\n",
    "from habitat_sim.utils import viz_utils as vut\n",
    "from habitat.utils.visualizations import maps, fog_of_war\n",
    "from habitat.utils.visualizations.utils import observations_to_image\n",
    "\n",
    "from rearrangement.utils.planner import (\n",
    "    compute_traversable_map,\n",
    "    compute_distance_using_fmm,\n",
    "    find_dist_from_map,\n",
    "    compute_distance_mat_using_navmesh,\n",
    "    compute_distance_mat_using_fmm,\n",
    "    find_shortest_path_for_multiple_objects\n",
    ")\n",
    "from rearrangement.utils.visualization import (\n",
    "    get_top_down_map\n",
    ")\n",
    "from rearrangement.utils.geometry import (\n",
    "     geodesic_distance\n",
    ")\n",
    "from collections import defaultdict"
   ]
  },
  {
   "cell_type": "code",
   "execution_count": 24,
   "metadata": {},
   "outputs": [],
   "source": [
    "from habitat.datasets.rearrangement.rearrangement_dataset import RearrangementDatasetV0\n",
    "from habitat.tasks.rearrangement.rearrangement_task import RearrangementEpisode"
   ]
  },
  {
   "cell_type": "code",
   "execution_count": 25,
   "metadata": {},
   "outputs": [],
   "source": [
    "repo = git.Repo(\".\", search_parent_directories=True)\n",
    "dir_path = repo.working_tree_dir\n",
    "# %cd $dir_path\n",
    "data_path = os.path.join(dir_path, \"data\")\n",
    "output_directory = \"data/tutorials/output/\"  # @param {type:\"string\"}\n",
    "output_path = os.path.join(dir_path, output_directory)"
   ]
  },
  {
   "cell_type": "code",
   "execution_count": 26,
   "metadata": {},
   "outputs": [],
   "source": [
    "config = habitat.get_config(\"configs/tasks/rearrangement_gibson.yaml\")"
   ]
  },
  {
   "cell_type": "code",
   "execution_count": 27,
   "metadata": {},
   "outputs": [],
   "source": [
    "config.defrost()\n",
    "config.TASK.MEASUREMENTS = ['OBJECT_TO_GOAL_DISTANCE', 'AGENT_TO_OBJECT_DISTANCE', 'TOP_DOWN_MAP']\n",
    "config.freeze()"
   ]
  },
  {
   "cell_type": "code",
   "execution_count": 28,
   "metadata": {},
   "outputs": [
    {
     "data": {
      "text/plain": [
       "256"
      ]
     },
     "execution_count": 28,
     "metadata": {},
     "output_type": "execute_result"
    }
   ],
   "source": [
    "config.TASK.TOP_DOWN_MAP.MAP_RESOLUTION"
   ]
  },
  {
   "cell_type": "code",
   "execution_count": 29,
   "metadata": {},
   "outputs": [
    {
     "name": "stderr",
     "output_type": "stream",
     "text": [
      "2020-10-13 14:48:12,015 Initializing dataset RearrangementDataset-v0\n",
      "2020-10-13 14:48:15,797 initializing sim RearrangementSim-v0\n",
      "2020-10-13 14:48:20,171 Initializing task RearrangementTask-v0\n"
     ]
    }
   ],
   "source": [
    "try:\n",
    "    env.close()\n",
    "except:\n",
    "    pass\n",
    "env = habitat.Env(config)\n",
    "fog_of_war_mask = None\n",
    "pickup_order = {}\n"
   ]
  },
  {
   "cell_type": "code",
   "execution_count": 30,
   "metadata": {},
   "outputs": [],
   "source": [
    "# # Scratch Code\n",
    "# for objid in env._sim.get_existing_object_ids():\n",
    "#     if objid != env._sim.agent_object_id:\n",
    "#         episode_obj_id = env._task.sim_object_to_objid_mapping[objid]\n",
    "#         dist = geodesic_distance(env._sim.pathfinder, agent_pos, env.current_episode.objects[episode_obj_id].position)\n",
    "#         if dist == np.inf:\n",
    "#             print(\"Voila!!\")\n"
   ]
  },
  {
   "cell_type": "code",
   "execution_count": 31,
   "metadata": {},
   "outputs": [],
   "source": [
    "def compute_oracle_pickup_order(env):\n",
    "    obs = env.reset()\n",
    "    metrics = env.get_metrics()\n",
    "    episode = env.current_episode\n",
    "    metrics = env.get_metrics()\n",
    "\n",
    "    agent_pos = env._sim.get_agent(0).get_state().position\n",
    "    object_positions = [obj.position for obj in episode.objects]\n",
    "    goal_positions = [obj.position for obj in episode.goals]\n",
    "    \n",
    "    dist_mat = compute_distance_mat_using_navmesh(env._task._simple_pathfinder, agent_pos, object_positions, goal_positions)\n",
    "    route_indexes_navmesh, pickup_order_navmesh = find_shortest_path_for_multiple_objects(dist_mat)\n",
    "    \n",
    "#     top_down_map, fog_of_war_mask = get_top_down_map(\n",
    "#         env, env._task._simple_pathfinder, ignore_objects=True, fog_of_war_mask=None, draw_fow=False, \n",
    "#         draw_agent=False, draw_object_start_pos=False, draw_object_final_pos=False, draw_object_curr_pos=False\n",
    "#     )\n",
    "    \n",
    "    \n",
    "#     a_y, a_x = maps.to_grid(\n",
    "#         agent_position[2],\n",
    "#         agent_position[0],\n",
    "#         top_down_map.shape[0:2],\n",
    "#         sim=env._sim,\n",
    "#     )\n",
    "#     grid_object_positions = []\n",
    "#     grid_goal_positions = []\n",
    "\n",
    "#     for i, obj_pos in enumerate(object_positions):\n",
    "#         tdm_pos = maps.to_grid(\n",
    "#             obj_pos[2],\n",
    "#             obj_pos[0],\n",
    "#             top_down_map.shape[0:2],\n",
    "#             sim=env._sim,\n",
    "#         )\n",
    "#         grid_object_positions.append(tdm_pos)\n",
    "\n",
    "#     for i, goal_pos in enumerate(goal_positions):\n",
    "#         tdm_pos = maps.to_grid(\n",
    "#             goal_pos[2],\n",
    "#             goal_pos[0],\n",
    "#             top_down_map.shape[0:2],\n",
    "#             sim=env._sim,\n",
    "#         )\n",
    "\n",
    "#         grid_goal_positions.append(tdm_pos)\n",
    "\n",
    "#     tdmap = np.copy(top_down_map[:, :, 0])\n",
    "#     tdmap = tdmap / np.max(tdmap)\n",
    "#     dist_mat_map = compute_distance_mat_using_fmm(tdmap, [a_y, a_x], grid_object_positions, grid_goal_positions)\n",
    "    \n",
    "    \n",
    "#     route_indexes_map, pickup_order_map = find_shortest_path_for_multiple_objects(dist_mat_map/10)\n",
    "    \n",
    "    return {\n",
    "        'episode_id': episode.episode_id, \n",
    "        'scene_id': episode.scene_id,\n",
    "        'pickup_order': pickup_order_navmesh,\n",
    "#         'pickup_order_fmm': pickup_order_map \n",
    "    }"
   ]
  },
  {
   "cell_type": "code",
   "execution_count": 32,
   "metadata": {},
   "outputs": [
    {
     "name": "stdout",
     "output_type": "stream",
     "text": [
      "Episode ID: 939 Done: 35000 "
     ]
    }
   ],
   "source": [
    "while(len(pickup_order)!=35000):\n",
    "    data = compute_oracle_pickup_order(env)\n",
    "    pickup_order[data['episode_id'] + '_' + data['scene_id']] = data\n",
    "    print('\\rEpisode ID: {} Done: {}'.format(data['episode_id'], len(pickup_order)), end=\" \")"
   ]
  },
  {
   "cell_type": "code",
   "execution_count": 34,
   "metadata": {},
   "outputs": [],
   "source": [
    "with open('data/pickup_order.json','w') as f:\n",
    "    json.dump(pickup_order, f)"
   ]
  },
  {
   "cell_type": "code",
   "execution_count": null,
   "metadata": {},
   "outputs": [],
   "source": [
    "scene_episodes = defaultdict(list)\n",
    "for episode in env.episodes:\n",
    "    scene_episodes[episode.scene_id].append(episode.episode_id)"
   ]
  },
  {
   "cell_type": "code",
   "execution_count": 21,
   "metadata": {},
   "outputs": [
    {
     "name": "stdout",
     "output_type": "stream",
     "text": [
      "1000 data/scene_datasets/gibson_train_val/Montreal.glb\n"
     ]
    }
   ],
   "source": [
    "for key, value in scene_episodes.items():\n",
    "    print(len(value), key)"
   ]
  },
  {
   "cell_type": "code",
   "execution_count": null,
   "metadata": {},
   "outputs": [],
   "source": []
  }
 ],
 "metadata": {
  "kernelspec": {
   "display_name": "Python 3",
   "language": "python",
   "name": "python3"
  },
  "language_info": {
   "codemirror_mode": {
    "name": "ipython",
    "version": 3
   },
   "file_extension": ".py",
   "mimetype": "text/x-python",
   "name": "python",
   "nbconvert_exporter": "python",
   "pygments_lexer": "ipython3",
   "version": "3.6.10"
  }
 },
 "nbformat": 4,
 "nbformat_minor": 4
}
