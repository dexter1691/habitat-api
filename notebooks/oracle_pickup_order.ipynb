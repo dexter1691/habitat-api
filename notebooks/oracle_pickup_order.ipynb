{
 "cells": [
  {
   "cell_type": "code",
   "execution_count": 1,
   "metadata": {},
   "outputs": [],
   "source": [
    "import sys "
   ]
  },
  {
   "cell_type": "code",
   "execution_count": null,
   "metadata": {},
   "outputs": [],
   "source": [
    "cd '/srv/share3/hagrawal9/project/habitat/habitat-api/'"
   ]
  },
  {
   "cell_type": "code",
   "execution_count": null,
   "metadata": {},
   "outputs": [],
   "source": [
    "import gzip\n",
    "import json\n",
    "import os\n",
    "import sys\n",
    "from typing import Any, Dict, List, Optional, Type\n",
    "from copy import deepcopy\n",
    "\n",
    "import attr\n",
    "import cv2\n",
    "import git\n",
    "import magnum as mn\n",
    "import numpy as np\n",
    "\n",
    "# %matplotlib inline\n",
    "from matplotlib import pyplot as plt\n",
    "from pathlib import Path\n",
    "from PIL import Image\n",
    "\n",
    "\n",
    "import habitat\n",
    "import habitat_sim\n",
    "from habitat.config import Config\n",
    "from habitat.core.registry import registry\n",
    "from habitat_sim.utils import viz_utils as vut\n",
    "from habitat.utils.visualizations import maps, fog_of_war\n",
    "from habitat.utils.visualizations.utils import observations_to_image\n",
    "\n",
    "from rearrangement.utils.planner import (\n",
    "    compute_traversable_map,\n",
    "    compute_distance_using_fmm,\n",
    "    find_dist_from_map,\n",
    "    compute_distance_mat_using_navmesh,\n",
    "    compute_distance_mat_using_fmm,\n",
    "    find_shortest_path_for_multiple_objects\n",
    ")\n",
    "from rearrangement.utils.visualization import (\n",
    "    get_top_down_map\n",
    ")\n",
    "from rearrangement.utils.geometry import (\n",
    "     geodesic_distance\n",
    ")\n",
    "from collections import defaultdict"
   ]
  },
  {
   "cell_type": "code",
   "execution_count": 4,
   "metadata": {},
   "outputs": [],
   "source": [
    "from habitat.datasets.rearrangement.rearrangement_dataset import RearrangementDatasetV0\n",
    "from habitat.tasks.rearrangement.rearrangement_task import RearrangementEpisode"
   ]
  },
  {
   "cell_type": "code",
   "execution_count": 41,
   "metadata": {},
   "outputs": [],
   "source": [
    "repo = git.Repo(\".\", search_parent_directories=True)\n",
    "dir_path = repo.working_tree_dir\n",
    "# %cd $dir_path\n",
    "data_path = os.path.join(dir_path, \"data\")\n",
    "output_directory = \"data/tutorials/output/\"  # @param {type:\"string\"}\n",
    "output_path = os.path.join(dir_path, output_directory)"
   ]
  },
  {
   "cell_type": "code",
   "execution_count": 42,
   "metadata": {},
   "outputs": [],
   "source": [
    "config = habitat.get_config(\"configs/tasks/rearrangement_gibson.yaml\")"
   ]
  },
  {
   "cell_type": "code",
   "execution_count": 43,
   "metadata": {},
   "outputs": [],
   "source": [
    "config.defrost()\n",
    "config.TASK.MEASUREMENTS = ['OBJECT_TO_GOAL_DISTANCE', 'AGENT_TO_OBJECT_DISTANCE', 'TOP_DOWN_MAP']\n",
    "config.TASk.\n",
    "config.freeze()"
   ]
  },
  {
   "cell_type": "code",
   "execution_count": 44,
   "metadata": {},
   "outputs": [
    {
     "data": {
      "text/plain": [
       "256"
      ]
     },
     "execution_count": 44,
     "metadata": {},
     "output_type": "execute_result"
    }
   ],
   "source": [
    "config.TASK.TOP_DOWN_MAP.MAP_RESOLUTION"
   ]
  },
  {
   "cell_type": "code",
   "execution_count": 45,
   "metadata": {},
   "outputs": [
    {
     "name": "stderr",
     "output_type": "stream",
     "text": [
      "2020-10-18 18:29:57,271 Initializing dataset RearrangementDataset-v0\n",
      "2020-10-18 18:30:01,017 initializing sim RearrangementSim-v0\n",
      "2020-10-18 18:30:05,233 Initializing task RearrangementTask-v0\n"
     ]
    }
   ],
   "source": [
    "try:\n",
    "    env.close()\n",
    "except:\n",
    "    pass\n",
    "env = habitat.Env(config)\n",
    "fog_of_war_mask = None\n",
    "pickup_order = {}\n"
   ]
  },
  {
   "cell_type": "code",
   "execution_count": 46,
   "metadata": {},
   "outputs": [],
   "source": [
    "# # Scratch Code\n",
    "# for objid in env._sim.get_existing_object_ids():\n",
    "#     if objid != env._sim.agent_object_id:\n",
    "#         episode_obj_id = env._task.sim_object_to_objid_mapping[objid]\n",
    "#         dist = geodesic_distance(env._sim.pathfinder, agent_pos, env.current_episode.objects[episode_obj_id].position)\n",
    "#         if dist == np.inf:\n",
    "#             print(\"Voila!!\")\n"
   ]
  },
  {
   "cell_type": "code",
   "execution_count": 47,
   "metadata": {},
   "outputs": [],
   "source": [
    "def compute_oracle_pickup_order(env):\n",
    "    obs = env.reset()\n",
    "    metrics = env.get_metrics()\n",
    "    episode = env.current_episode\n",
    "    metrics = env.get_metrics()\n",
    "\n",
    "    agent_pos = env._sim.get_agent(0).get_state().position\n",
    "    object_positions = [obj.position for obj in episode.objects]\n",
    "    goal_positions = [obj.position for obj in episode.goals]\n",
    "    \n",
    "#     dist_mat = compute_distance_mat_using_navmesh(env._task._simple_pathfinder, agent_pos, object_positions, goal_positions)\n",
    "#     route_indexes_navmesh, pickup_order_navmesh = find_shortest_path_for_multiple_objects(dist_mat)\n",
    "    \n",
    "    top_down_map, fog_of_war_mask = get_top_down_map(\n",
    "        env, env._task._simple_pathfinder, ignore_objects=True, fog_of_war_mask=None, draw_fow=False, \n",
    "        draw_agent=False, draw_object_start_pos=False, draw_object_final_pos=False, draw_object_curr_pos=False\n",
    "    )\n",
    "    \n",
    "    \n",
    "    a_y, a_x = maps.to_grid(\n",
    "        agent_pos[2],\n",
    "        agent_pos[0],\n",
    "        top_down_map.shape[0:2],\n",
    "        sim=env._sim,\n",
    "    )\n",
    "    grid_object_positions = []\n",
    "    grid_goal_positions = []\n",
    "\n",
    "    for i, obj_pos in enumerate(object_positions):\n",
    "        tdm_pos = maps.to_grid(\n",
    "            obj_pos[2],\n",
    "            obj_pos[0],\n",
    "            top_down_map.shape[0:2],\n",
    "            sim=env._sim,\n",
    "        )\n",
    "        grid_object_positions.append(tdm_pos)\n",
    "\n",
    "    for i, goal_pos in enumerate(goal_positions):\n",
    "        tdm_pos = maps.to_grid(\n",
    "            goal_pos[2],\n",
    "            goal_pos[0],\n",
    "            top_down_map.shape[0:2],\n",
    "            sim=env._sim,\n",
    "        )\n",
    "\n",
    "        grid_goal_positions.append(tdm_pos)\n",
    "\n",
    "    tdmap = np.copy(top_down_map[:, :, 0])\n",
    "    tdmap = tdmap / np.max(tdmap)\n",
    "    dist_mat_map = compute_distance_mat_using_fmm(tdmap, [a_y, a_x], grid_object_positions, grid_goal_positions)\n",
    "    \n",
    "    \n",
    "    route_indexes_map, pickup_order_map = find_shortest_path_for_multiple_objects(dist_mat_map/3)\n",
    "    \n",
    "    return {\n",
    "        'episode_id': episode.episode_id, \n",
    "        'scene_id': episode.scene_id,\n",
    "#         'pickup_order': pickup_order_navmesh,\n",
    "        'pickup_order_fmm': pickup_order_map \n",
    "    }"
   ]
  },
  {
   "cell_type": "code",
   "execution_count": null,
   "metadata": {},
   "outputs": [
    {
     "name": "stdout",
     "output_type": "stream",
     "text": [
      "Episode ID: 375 Done: 2518  "
     ]
    }
   ],
   "source": [
    "while(len(pickup_order)!=35000):\n",
    "    data = compute_oracle_pickup_order(env)\n",
    "    pickup_order[data['episode_id'] + '_' + data['scene_id']] = data\n",
    "    print('\\rEpisode ID: {} Done: {} '.format(data['episode_id'], len(pickup_order)), end=\" \")"
   ]
  },
  {
   "cell_type": "code",
   "execution_count": null,
   "metadata": {},
   "outputs": [],
   "source": [
    "with open('data/pickup_order_tdmap_train.json','w') as f:\n",
    "    json.dump(pickup_order, f)"
   ]
  },
  {
   "cell_type": "code",
   "execution_count": 48,
   "metadata": {},
   "outputs": [],
   "source": [
    "with open('data/pickup_order_tdmap.json','r') as f:\n",
    "    pickup_order = json.load(f)"
   ]
  },
  {
   "cell_type": "code",
   "execution_count": 49,
   "metadata": {},
   "outputs": [
    {
     "name": "stdout",
     "output_type": "stream",
     "text": [
      "rearrangement_v1_train_n=1000_o=5_Monson.json.gz\n",
      "rearrangement_v1_train_n=1000_o=5_Scandinavia.json.gz\n",
      "rearrangement_v1_train_n=1000_o=5_Hobson.json.gz\n",
      "rearrangement_v1_train_n=1000_o=5_Barboursville.json.gz\n",
      "rearrangement_v1_train_n=1000_o=5_Mentasta.json.gz\n",
      "rearrangement_v1_train_n=1000_o=5_Avonia.json.gz\n",
      "rearrangement_v1_train_n=1000_o=5_Ewell.json.gz\n",
      "rearrangement_v1_train_n=1000_o=5_Gilbert.json.gz\n",
      "rearrangement_v1_train_n=1000_o=5_Sawpit.json.gz\n",
      "rearrangement_v1_train_n=1000_o=5_Montreal.json.gz\n",
      "rearrangement_v1_train_n=1000_o=5_Orason.json.gz\n",
      "rearrangement_v1_train_n=1000_o=5_Hainesburg.json.gz\n",
      "rearrangement_v1_train_n=1000_o=5_Helix.json.gz\n",
      "rearrangement_v1_train_n=1000_o=5_Westerville.json.gz\n",
      "rearrangement_v1_train_n=1000_o=5_Arona.json.gz\n",
      "rearrangement_v1_train_n=1000_o=5_Delton.json.gz\n",
      "rearrangement_v1_train_n=1000_o=5_Roeville.json.gz\n",
      "rearrangement_v1_train_n=1000_o=5_Euharlee.json.gz\n",
      "rearrangement_v1_train_n=1000_o=5_Hominy.json.gz\n",
      "rearrangement_v1_train_n=1000_o=5_Bowlus.json.gz\n",
      "rearrangement_v1_train_n=1000_o=5_Rancocas.json.gz\n",
      "rearrangement_v1_train_n=1000_o=5_Seatonville.json.gz\n",
      "rearrangement_v1_train_n=1000_o=5_Stilwell.json.gz\n",
      "rearrangement_v1_train_n=1000_o=5_Roxboro.json.gz\n",
      "rearrangement_v1_train_n=1000_o=5_Hercules.json.gz\n",
      "rearrangement_v1_train_n=1000_o=5_Whitethorn.json.gz\n",
      "rearrangement_v1_train_n=1000_o=5_Wesley.json.gz\n",
      "rearrangement_v1_train_n=1000_o=5_Fredericksburg.json.gz\n",
      "rearrangement_v1_train_n=1000_o=5_Stanleyville.json.gz\n",
      "rearrangement_v1_train_n=1000_o=5_Grantsville.json.gz\n",
      "rearrangement_v1_train_n=1000_o=5_Ovalo.json.gz\n",
      "rearrangement_v1_train_n=1000_o=5_Trail.json.gz\n",
      "rearrangement_v1_train_n=1000_o=5_Barranquitas.json.gz\n",
      "rearrangement_v1_train_n=1000_o=5_Cutlerville.json.gz\n",
      "rearrangement_v1_train_n=1000_o=5_Shelbiana.json.gz\n"
     ]
    }
   ],
   "source": [
    "updated_scene_data = []\n",
    "split = 'train'\n",
    "\n",
    "for filename in os.listdir('data/datasets/rearrangement/gibson/v1/{}/content/'.format(split)):\n",
    "    scene_id = filename.split('.')[0].split('_')[-1]\n",
    "    with gzip.open('data/datasets/rearrangement/gibson/v1/{}/content/'.format(split) + filename, \"rt\") as f:\n",
    "        scene_data = json.load(f)\n",
    "    updated_scene_data = deepcopy(scene_data)\n",
    "    \n",
    "    for i, episode in enumerate(scene_data['episodes']):\n",
    "        episode_id = episode['episode_id']\n",
    "        assert updated_scene_data['episodes'][i]['episode_id'] == episode['episode_id']\n",
    "        assert updated_scene_data['episodes'][i]['scene_id'] == episode['scene_id']\n",
    "        updated_scene_data['episodes'][i]['pickup_order'] = pickup_order[str(episode['episode_id']) + \"_\" + episode['scene_id']]['pickup_order']\n",
    "    \n",
    "    with gzip.open('data/datasets/rearrangement/gibson/v1/{}/content/'.format(split) + filename, \"wt\") as f:\n",
    "        json.dump(updated_scene_data, f)\n",
    "        \n",
    "    print(filename)"
   ]
  },
  {
   "cell_type": "code",
   "execution_count": null,
   "metadata": {},
   "outputs": [],
   "source": []
  }
 ],
 "metadata": {
  "kernelspec": {
   "display_name": "Python 3",
   "language": "python",
   "name": "python3"
  },
  "language_info": {
   "codemirror_mode": {
    "name": "ipython",
    "version": 3
   },
   "file_extension": ".py",
   "mimetype": "text/x-python",
   "name": "python",
   "nbconvert_exporter": "python",
   "pygments_lexer": "ipython3",
   "version": "3.6.10"
  }
 },
 "nbformat": 4,
 "nbformat_minor": 4
}
