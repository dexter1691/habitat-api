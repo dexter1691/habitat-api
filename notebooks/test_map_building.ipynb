{
 "cells": [
  {
   "cell_type": "code",
   "execution_count": 1,
   "metadata": {},
   "outputs": [],
   "source": [
    "import sys "
   ]
  },
  {
   "cell_type": "code",
   "execution_count": 2,
   "metadata": {},
   "outputs": [
    {
     "name": "stdout",
     "output_type": "stream",
     "text": [
      "/coc/testnvme/hagrawal9/project/habitat/habitat-api\n"
     ]
    }
   ],
   "source": [
    "cd '/srv/flash1/hagrawal9/project/habitat/habitat-api/'"
   ]
  },
  {
   "cell_type": "code",
   "execution_count": 3,
   "metadata": {},
   "outputs": [],
   "source": [
    "import gzip\n",
    "import json\n",
    "import copy\n",
    "import os\n",
    "import sys\n",
    "from typing import Any, Dict, List, Optional, Type\n",
    "from copy import deepcopy\n",
    "\n",
    "import attr\n",
    "import cv2\n",
    "import git\n",
    "import magnum as mn\n",
    "import numpy as np\n",
    "\n",
    "# %matplotlib inline\n",
    "from matplotlib import pyplot as plt\n",
    "from pathlib import Path\n",
    "from PIL import Image\n",
    "\n",
    "from rearrangement.task.sensors import GTEgoMap, GTEgoMapAnticipated\n",
    "\n",
    "import habitat\n",
    "import habitat_sim\n",
    "\n",
    "\n",
    "from habitat.config import Config\n",
    "from habitat.core.registry import registry\n",
    "from habitat_sim.utils import viz_utils as vut\n",
    "from habitat.utils.visualizations import maps, fog_of_war\n",
    "from habitat.utils.visualizations.utils import observations_to_image\n",
    "\n",
    "from rearrangement.utils.planner import (\n",
    "    compute_traversable_map,\n",
    "    compute_distance_using_fmm,\n",
    "    find_dist_from_map,\n",
    "    compute_distance_mat_using_navmesh,\n",
    "    compute_distance_mat_using_fmm,\n",
    "    find_shortest_path_for_multiple_objects\n",
    ")\n",
    "from rearrangement.utils.visualization import (\n",
    "    get_top_down_map\n",
    ")\n",
    "from rearrangement.utils.geometry import (\n",
    "     geodesic_distance\n",
    ")\n",
    "from collections import defaultdict"
   ]
  },
  {
   "cell_type": "code",
   "execution_count": 4,
   "metadata": {},
   "outputs": [],
   "source": [
    "from habitat.config import get_config"
   ]
  },
  {
   "cell_type": "code",
   "execution_count": 5,
   "metadata": {},
   "outputs": [
    {
     "data": {
      "text/plain": [
       "dict_keys(['TYPE', 'SUCCESS_DISTANCE', 'SENSORS', 'MEASUREMENTS', 'GOAL_SENSOR_UUID', 'POSSIBLE_ACTIONS', 'ACTIONS', 'POINTGOAL_SENSOR', 'POINTGOAL_WITH_GPS_COMPASS_SENSOR', 'OBJECTGOAL_SENSOR', 'IMAGEGOAL_SENSOR', 'HEADING_SENSOR', 'COMPASS_SENSOR', 'GPS_SENSOR', 'PROXIMITY_SENSOR', 'SUCCESS', 'SPL', 'SOFT_SPL', 'TOP_DOWN_MAP', 'COLLISIONS', 'QUESTION_SENSOR', 'CORRECT_ANSWER', 'EPISODE_INFO', 'INSTRUCTION_SENSOR', 'INSTRUCTION_SENSOR_UUID', 'DISTANCE_TO_GOAL', 'ANSWER_ACCURACY', 'GRIPPED_OBJECT_SENSOR', 'ALL_OBJECT_POSITIONS', 'ALL_OBJECT_GOALS', 'OBJECT_TO_GOAL_DISTANCE', 'AGENT_TO_OBJECT_DISTANCE', 'REARRANGEMENT_SPL', 'EPISODE_DISTANCE', 'ORACLE_NEXT_OBJECT_SENSOR', 'L2DIST_OBJECT_SENSOR', 'CLOSEST_OBJECT_SENSOR', 'RANDOM_OBJECT_SENSOR', 'MAP_NEXT_OBJECT_SENSOR', 'CONST_MAP_NEXT_OBJECT_SENSOR', 'NEXT_OBJECT_SENSOR_UUID', 'GT_EGO_MAP', 'GT_EGO_MAP_ANTICIPATED', 'EOR_TOP_DOWN_MAP'])"
      ]
     },
     "execution_count": 5,
     "metadata": {},
     "output_type": "execute_result"
    }
   ],
   "source": [
    "get_config().TASK.keys()"
   ]
  },
  {
   "cell_type": "code",
   "execution_count": 6,
   "metadata": {},
   "outputs": [],
   "source": [
    "from habitat.datasets.rearrangement.rearrangement_dataset import RearrangementDatasetV0\n",
    "from habitat.tasks.rearrangement.rearrangement_task import RearrangementEpisode"
   ]
  },
  {
   "cell_type": "code",
   "execution_count": 7,
   "metadata": {},
   "outputs": [],
   "source": [
    "repo = git.Repo(\".\", search_parent_directories=True)\n",
    "dir_path = repo.working_tree_dir\n",
    "# %cd $dir_path\n",
    "data_path = os.path.join(dir_path, \"data\")\n",
    "output_directory = \"data/tutorials/output/\"  # @param {type:\"string\"}\n",
    "output_path = os.path.join(dir_path, output_directory)"
   ]
  },
  {
   "cell_type": "code",
   "execution_count": 8,
   "metadata": {},
   "outputs": [],
   "source": [
    "config = habitat.get_config(\"configs/tasks/rearrangement_gibson_map.yaml\")"
   ]
  },
  {
   "cell_type": "code",
   "execution_count": 9,
   "metadata": {},
   "outputs": [],
   "source": [
    "config.defrost()\n",
    "config.SIMULATOR.INITIAL_LOOK_DOWN_ANGLE = 30\n",
    "# config.TASK.SENSORS =  [\"GRIPPED_OBJECT_SENSOR\", \"ALL_OBJECT_POSITIONS\", \"ALL_OBJECT_GOALS\", \"MAP_NEXT_OBJECT_SENSOR\", \"CONST_MAP_NEXT_OBJECT_SENSOR\"]\n",
    "config.TASK.MEASUREMENTS = ['OBJECT_TO_GOAL_DISTANCE', 'AGENT_TO_OBJECT_DISTANCE', 'TOP_DOWN_MAP']\n",
    "config.DATASET.SPLIT = \"test\"\n",
    "config.DATASET.CONTENT_SCENES = [\"*\"]\n",
    "config.ENVIRONMENT.ITERATOR_OPTIONS.SHUFFLE=False\n",
    "config.freeze()"
   ]
  },
  {
   "cell_type": "code",
   "execution_count": 10,
   "metadata": {},
   "outputs": [],
   "source": [
    "def print_info(obs, metrics):\n",
    "    print(\n",
    "        \"Gripped Object: {}, Distance To Object: {}, Distance To Goal: {}\".format(\n",
    "            obs[\"gripped_object_id\"],\n",
    "            metrics[\"agent_to_object_distance\"],\n",
    "            metrics[\"object_to_goal_distance\"],\n",
    "        )\n",
    "    )"
   ]
  },
  {
   "cell_type": "code",
   "execution_count": 11,
   "metadata": {},
   "outputs": [
    {
     "name": "stderr",
     "output_type": "stream",
     "text": [
      "2021-01-26 01:00:19,193 Initializing dataset RearrangementDataset-v0\n",
      "2021-01-26 01:00:19,376 initializing sim RearrangementSim-v0\n"
     ]
    },
    {
     "name": "stdout",
     "output_type": "stream",
     "text": [
      "Episode Length: 0\n",
      "Episode Length: 100\n",
      "Episode Length: 200\n",
      "Episode Length: 300\n",
      "Episode Length: 400\n",
      "Episode Length: 500\n",
      "Episode Length: 600\n",
      "Episode Length: 700\n",
      "Episode Length: 800\n",
      "Episode Length: 900\n",
      "Episode Length: 1000\n"
     ]
    },
    {
     "name": "stderr",
     "output_type": "stream",
     "text": [
      "I0126 01:00:24.183046 9387 simulator.py:168] Loaded navmesh data/scene_datasets/gibson_train_val/Cokeville.navmesh\n",
      "I0126 01:00:24.185640 9387 simulator.py:180] Recomputing navmesh for agent's height 0.88 and radius 0.18.\n",
      "2021-01-26 01:00:24,302 Initializing task RearrangementTask-v0\n"
     ]
    }
   ],
   "source": [
    "try:\n",
    "    env.close()\n",
    "except:\n",
    "    pass\n",
    "env = habitat.Env(config)\n",
    "fog_of_war_mask = None"
   ]
  },
  {
   "cell_type": "code",
   "execution_count": 12,
   "metadata": {},
   "outputs": [],
   "source": [
    "prev_scene_id = set(['data/scene_datasets/gibson_train_val/Cokeville.glb'])"
   ]
  },
  {
   "cell_type": "code",
   "execution_count": 13,
   "metadata": {},
   "outputs": [],
   "source": [
    "current_episode = None\n",
    "for episode in env.episodes:\n",
    "    if episode.scene_id not in prev_scene_id:\n",
    "        prev_scene_id.add(episode.scene_id)\n",
    "        current_episode = episode\n",
    "        break\n",
    "\n",
    "# env.current_episode.pickup_order,  env.current_episode.pickup_order_l2dist, env.current_episode.episode_id"
   ]
  },
  {
   "cell_type": "code",
   "execution_count": 14,
   "metadata": {},
   "outputs": [
    {
     "name": "stderr",
     "output_type": "stream",
     "text": [
      "I0126 01:00:29.232064 9387 simulator.py:168] Loaded navmesh data/scene_datasets/gibson_train_val/Howie.navmesh\n",
      "I0126 01:00:29.234505 9387 simulator.py:180] Recomputing navmesh for agent's height 0.88 and radius 0.18.\n"
     ]
    }
   ],
   "source": [
    "env._reset_stats()\n",
    "\n",
    "if env._current_episode is not None:\n",
    "    env._current_episode._shortest_path_cache = None\n",
    "\n",
    "env.current_episode = current_episode\n",
    "env.reconfigure(env._config)\n",
    "obs = env.task.reset(episode)\n",
    "env._task.measurements.reset_measures(\n",
    "    episode=env.current_episode, task=env.task\n",
    ")\n",
    "metrics = env.get_metrics()"
   ]
  },
  {
   "cell_type": "code",
   "execution_count": 15,
   "metadata": {},
   "outputs": [
    {
     "data": {
      "text/plain": [
       "{'data/scene_datasets/gibson_train_val/Cokeville.glb',\n",
       " 'data/scene_datasets/gibson_train_val/Howie.glb'}"
      ]
     },
     "execution_count": 15,
     "metadata": {},
     "output_type": "execute_result"
    }
   ],
   "source": [
    "prev_scene_id"
   ]
  },
  {
   "cell_type": "code",
   "execution_count": 16,
   "metadata": {},
   "outputs": [
    {
     "name": "stderr",
     "output_type": "stream",
     "text": [
      "I0126 01:00:38.925219 9387 simulator.py:168] Loaded navmesh data/scene_datasets/gibson_train_val/Cokeville.navmesh\n",
      "I0126 01:00:38.929026 9387 simulator.py:180] Recomputing navmesh for agent's height 0.88 and radius 0.18.\n"
     ]
    }
   ],
   "source": [
    "obs = env.reset()"
   ]
  },
  {
   "cell_type": "code",
   "execution_count": 17,
   "metadata": {},
   "outputs": [
    {
     "data": {
      "text/plain": [
       "<matplotlib.image.AxesImage at 0x7f55220a1a58>"
      ]
     },
     "execution_count": 17,
     "metadata": {},
     "output_type": "execute_result"
    },
    {
     "data": {
      "image/png": "[encoded data removed]",
      "text/plain": [
       "<Figure size 432x288 with 1 Axes>"
      ]
     },
     "metadata": {
      "needs_background": "light"
     },
     "output_type": "display_data"
    }
   ],
   "source": [
    "plt.imshow(env._task.sensor_suite.sensors['ego_map_gt_anticipated']._top_down_map[1000:1500, 1500:2000])"
   ]
  },
  {
   "cell_type": "code",
   "execution_count": 18,
   "metadata": {},
   "outputs": [
    {
     "data": {
      "text/plain": [
       "<matplotlib.image.AxesImage at 0x7f552225f908>"
      ]
     },
     "execution_count": 18,
     "metadata": {},
     "output_type": "execute_result"
    },
    {
     "data": {
      "image/png": "[encoded data removed]",
      "text/plain": [
       "<Figure size 432x288 with 1 Axes>"
      ]
     },
     "metadata": {
      "needs_background": "light"
     },
     "output_type": "display_data"
    }
   ],
   "source": [
    "aggregate = env._task.sensor_suite.sensors['ego_map_gt_anticipated'].aggregate\n",
    "aggregate = 1 - aggregate\n",
    "# plt.imshow(aggregate[50:100, 99:102])\n",
    "plt.imshow(aggregate)"
   ]
  },
  {
   "cell_type": "code",
   "execution_count": 23,
   "metadata": {},
   "outputs": [
    {
     "data": {
      "text/plain": [
       "array([[0, 0, 0, ..., 0, 0, 0],\n",
       "       [0, 0, 0, ..., 0, 0, 0],\n",
       "       [0, 0, 0, ..., 0, 0, 0],\n",
       "       ...,\n",
       "       [0, 0, 0, ..., 0, 0, 0],\n",
       "       [0, 0, 0, ..., 0, 0, 0],\n",
       "       [0, 0, 0, ..., 0, 0, 0]], dtype=uint8)"
      ]
     },
     "execution_count": 23,
     "metadata": {},
     "output_type": "execute_result"
    }
   ],
   "source": [
    "env._task.sensor_suite.sensors['ego_map_gt_anticipated'].aggregate_tdmap"
   ]
  },
  {
   "cell_type": "code",
   "execution_count": 20,
   "metadata": {},
   "outputs": [
    {
     "data": {
      "text/plain": [
       "array([0., 1.])"
      ]
     },
     "execution_count": 20,
     "metadata": {},
     "output_type": "execute_result"
    }
   ],
   "source": [
    "np.unique(aggregate)"
   ]
  },
  {
   "cell_type": "code",
   "execution_count": 21,
   "metadata": {},
   "outputs": [
    {
     "ename": "KeyError",
     "evalue": "'map_object'",
     "output_type": "error",
     "traceback": [
      "\u001b[0;31m---------------------------------------------------------------------------\u001b[0m",
      "\u001b[0;31mKeyError\u001b[0m                                  Traceback (most recent call last)",
      "\u001b[0;32m<ipython-input-21-ba2219ccf056>\u001b[0m in \u001b[0;36m<module>\u001b[0;34m\u001b[0m\n\u001b[0;32m----> 1\u001b[0;31m \u001b[0mtdmap1\u001b[0m \u001b[0;34m=\u001b[0m \u001b[0menv\u001b[0m\u001b[0;34m.\u001b[0m\u001b[0m_task\u001b[0m\u001b[0;34m.\u001b[0m\u001b[0msensor_suite\u001b[0m\u001b[0;34m.\u001b[0m\u001b[0msensors\u001b[0m\u001b[0;34m[\u001b[0m\u001b[0;34m'map_object'\u001b[0m\u001b[0;34m]\u001b[0m\u001b[0;34m.\u001b[0m\u001b[0mobstacles_mask\u001b[0m\u001b[0;34m\u001b[0m\u001b[0;34m\u001b[0m\u001b[0m\n\u001b[0m",
      "\u001b[0;31mKeyError\u001b[0m: 'map_object'"
     ]
    }
   ],
   "source": [
    "tdmap1 = env._task.sensor_suite.sensors['map_object'].obstacles_mask"
   ]
  },
  {
   "cell_type": "code",
   "execution_count": null,
   "metadata": {},
   "outputs": [],
   "source": [
    "plt.imshow(tdmap1)"
   ]
  },
  {
   "cell_type": "code",
   "execution_count": null,
   "metadata": {},
   "outputs": [],
   "source": [
    "compute_distance_using_fmm(tdmap, )"
   ]
  },
  {
   "cell_type": "code",
   "execution_count": null,
   "metadata": {},
   "outputs": [],
   "source": [
    "plt.imshow(env._task.sensor_suite.sensors['const_map_object'].top_down_map)"
   ]
  },
  {
   "cell_type": "code",
   "execution_count": null,
   "metadata": {},
   "outputs": [],
   "source": [
    "tdmap = np.copy(top_down_map)"
   ]
  },
  {
   "cell_type": "code",
   "execution_count": null,
   "metadata": {},
   "outputs": [],
   "source": [
    "plt.imshow(obs['rgb'])"
   ]
  },
  {
   "cell_type": "code",
   "execution_count": null,
   "metadata": {},
   "outputs": [],
   "source": [
    "obs = env.step(0)"
   ]
  },
  {
   "cell_type": "code",
   "execution_count": null,
   "metadata": {},
   "outputs": [],
   "source": [
    "obs = env.step(1)"
   ]
  },
  {
   "cell_type": "code",
   "execution_count": null,
   "metadata": {},
   "outputs": [],
   "source": [
    "obs = env.step(2)"
   ]
  },
  {
   "cell_type": "code",
   "execution_count": null,
   "metadata": {},
   "outputs": [],
   "source": [
    "plt.imshow(obs['depth'].reshape((256, 256)), cmap=\"gray\")\n",
    "plt.colorbar()\n",
    "plt.show()"
   ]
  },
  {
   "cell_type": "code",
   "execution_count": 29,
   "metadata": {},
   "outputs": [
    {
     "data": {
      "text/plain": [
       "<matplotlib.image.AxesImage at 0x7f549765a4a8>"
      ]
     },
     "execution_count": 29,
     "metadata": {},
     "output_type": "execute_result"
    },
    {
     "data": {
      "image/png": "[encoded data removed]",
      "text/plain": [
       "<Figure size 432x288 with 1 Axes>"
      ]
     },
     "metadata": {
      "needs_background": "light"
     },
     "output_type": "display_data"
    }
   ],
   "source": [
    "aggregate = copy.deepcopy(env._task.sensor_suite.sensors['ego_map_gt_anticipated'].aggregate_tdmap)\n",
    "aggregate = 1 - aggregate\n",
    "plt.imshow(aggregate)"
   ]
  },
  {
   "cell_type": "code",
   "execution_count": 25,
   "metadata": {},
   "outputs": [],
   "source": [
    "from rearrangement.utils import maps_old"
   ]
  },
  {
   "cell_type": "code",
   "execution_count": 26,
   "metadata": {},
   "outputs": [],
   "source": [
    "agent_state = env._sim.get_agent_state()\n",
    "agent_position = agent_state.position\n",
    "agent_rotation = agent_state.rotation\n",
    "\n",
    "a_x, a_y = maps_old.to_grid(\n",
    "    agent_position[0],\n",
    "    agent_position[2],\n",
    "    env._task.sensor_suite.sensors['ego_map_gt_anticipated']._coordinate_min,\n",
    "    env._task.sensor_suite.sensors['ego_map_gt_anticipated']._coordinate_max,\n",
    "    env._task.sensor_suite.sensors['ego_map_gt_anticipated']._map_resolution,\n",
    ")"
   ]
  },
  {
   "cell_type": "code",
   "execution_count": 30,
   "metadata": {},
   "outputs": [],
   "source": [
    "dmap = compute_distance_using_fmm(1-aggregate, [a_x, a_y])"
   ]
  },
  {
   "cell_type": "code",
   "execution_count": 31,
   "metadata": {},
   "outputs": [
    {
     "data": {
      "text/plain": [
       "<matplotlib.image.AxesImage at 0x7f549761b400>"
      ]
     },
     "execution_count": 31,
     "metadata": {},
     "output_type": "execute_result"
    },
    {
     "data": {
      "image/png": "[encoded data removed]",
      "text/plain": [
       "<Figure size 432x288 with 1 Axes>"
      ]
     },
     "metadata": {
      "needs_background": "light"
     },
     "output_type": "display_data"
    }
   ],
   "source": [
    "plt.imshow(dmap)"
   ]
  },
  {
   "cell_type": "code",
   "execution_count": 145,
   "metadata": {},
   "outputs": [],
   "source": [
    "files = os.listdir('data/maps')"
   ]
  },
  {
   "cell_type": "code",
   "execution_count": null,
   "metadata": {},
   "outputs": [],
   "source": [
    "for file in sorted(files, key=lambda x: int(x.split('_')[-1].split('.')[0])):\n",
    "    # print(file)\n",
    "    if 'Wells' in file:\n",
    "        a = np.load('data/maps/'+file)\n",
    "        plt.imshow(a)\n",
    "        plt.show()"
   ]
  },
  {
   "cell_type": "code",
   "execution_count": 141,
   "metadata": {},
   "outputs": [
    {
     "data": {
      "text/plain": [
       "['rearrangement_hard_v8_test_n=100_o=5_t=0.9_Sands.json.gz',\n",
       " 'rearrangement_hard_v8_test_n=100_o=5_t=0.9_Howie.json.gz',\n",
       " 'rearrangement_hard_v8_test_n=100_o=5_t=0.9_Starks.json.gz',\n",
       " 'rearrangement_hard_v8_test_n=100_o=5_t=0.9_Stockertown.json.gz',\n",
       " 'rearrangement_hard_v8_test_n=100_o=5_t=0.9_Cokeville.json.gz',\n",
       " 'rearrangement_hard_v8_test_n=100_o=5_t=0.9_Sagerton.json.gz',\n",
       " 'rearrangement_hard_v8_test_n=100_o=5_t=0.9_Southfield.json.gz',\n",
       " 'rearrangement_hard_v8_test_n=100_o=5_t=0.9_Spencerville.json.gz',\n",
       " 'rearrangement_hard_v8_test_n=100_o=5_t=0.9_Silerton.json.gz',\n",
       " 'rearrangement_hard_v8_test_n=100_o=5_t=0.9_Wells.json.gz']"
      ]
     },
     "execution_count": 141,
     "metadata": {},
     "output_type": "execute_result"
    }
   ],
   "source": [
    "os.listdir('data/datasets/rearrangement/gibson/v1/test/content/')"
   ]
  },
  {
   "cell_type": "code",
   "execution_count": null,
   "metadata": {},
   "outputs": [],
   "source": [
    "potentially working:  \n",
    "'rearrangement_hard_v8_test_n=100_o=5_t=0.9_Southfield.json.gz', 'fEvzPSo8M7gxGFr2tqc6pq'  (0)\n",
    "'rearrangement_hard_v8_test_n=100_o=5_t=0.9_Sagerton.json.gz', 'GmnXbZH9zvtDmWzFRVpgkx'\n",
    "'rearrangement_hard_v8_test_n=100_o=5_t=0.9_Starks.json.gz', 'HF3DSzaRxdsYWWUwdSPypu'\n",
    "'rearrangement_hard_v8_test_n=100_o=5_t=0.9_Howie.json.gz', 'K8VC8ciC2rKLPLgF7vhgyr'\n",
    "'rearrangement_hard_v8_test_n=100_o=5_t=0.9_Silerton.json.gz', 'o9nPKX24SVJn7Dt5uNqzqy'"
   ]
  },
  {
   "cell_type": "code",
   "execution_count": null,
   "metadata": {},
   "outputs": [],
   "source": [
    "not working:  \n",
    "'rearrangement_hard_v8_test_n=100_o=5_t=0.9_Cokeville.json.gz', 'B5X3WSUod9go46jYd6BTtq'\n",
    "'rearrangement_hard_v8_test_n=100_o=5_t=0.9_Wells.json.gz', 'TTqk2GgdMfoJHwhxp8anRV'\n",
    "'rearrangement_hard_v8_test_n=100_o=5_t=0.9_Spencerville.json.gz', 'SHK6CZ6SDmpVjRLhVxZBNd'\n",
    "'rearrangement_hard_v8_test_n=100_o=5_t=0.9_Sands.json.gz', 'K8VC8ciC2rKLPLgF7vhgyr'\n",
    "'rearrangement_hard_v8_test_n=100_o=5_t=0.9_Stockertown.json.gz', 'R6dM5HQLwuD2AwkZDwG5Y6'"
   ]
  }
 ],
 "metadata": {
  "kernelspec": {
   "display_name": "Python 3",
   "language": "python",
   "name": "python3"
  },
  "language_info": {
   "codemirror_mode": {
    "name": "ipython",
    "version": 3
   },
   "file_extension": ".py",
   "mimetype": "text/x-python",
   "name": "python",
   "nbconvert_exporter": "python",
   "pygments_lexer": "ipython3",
   "version": "3.6.10"
  }
 },
 "nbformat": 4,
 "nbformat_minor": 4
}
