{
 "cells": [
  {
   "cell_type": "code",
   "execution_count": null,
   "metadata": {},
   "outputs": [],
   "source": [
    "import sys"
   ]
  },
  {
   "cell_type": "code",
   "execution_count": null,
   "metadata": {},
   "outputs": [],
   "source": [
    "cd '/srv/flash1/hagrawal9/project/habitat/habitat-api/'"
   ]
  },
  {
   "cell_type": "code",
   "execution_count": null,
   "metadata": {},
   "outputs": [],
   "source": [
    "import gzip\n",
    "import json\n",
    "import os\n",
    "import sys\n",
    "from typing import Any, Dict, List, Optional, Type\n",
    "from copy import deepcopy\n",
    "\n",
    "import attr\n",
    "import cv2\n",
    "import git\n",
    "import magnum as mn\n",
    "import numpy as np\n",
    "\n",
    "# %matplotlib inline\n",
    "from matplotlib import pyplot as plt\n",
    "from pathlib import Path\n",
    "from PIL import Image\n",
    "\n",
    "\n",
    "import habitat\n",
    "import habitat_sim\n",
    "from habitat.config import Config\n",
    "from habitat.core.registry import registry\n",
    "from habitat_sim.utils import viz_utils as vut\n",
    "from habitat.utils.visualizations import maps, fog_of_war\n",
    "from habitat.utils.visualizations.utils import observations_to_image\n",
    "\n",
    "from rearrangement.utils.planner import (\n",
    "    compute_traversable_map,\n",
    "    compute_distance_using_fmm,\n",
    "    find_dist_from_map,\n",
    "    compute_distance_mat_using_navmesh,\n",
    "    compute_distance_mat_using_fmm,\n",
    "    find_shortest_path_for_multiple_objects\n",
    ")\n",
    "from rearrangement.utils.visualization import (\n",
    "    get_top_down_map, get_top_down_map_sim\n",
    ")\n",
    "from rearrangement.utils.geometry import (\n",
    "     geodesic_distance\n",
    ")\n",
    "from collections import defaultdict"
   ]
  },
  {
   "cell_type": "code",
   "execution_count": null,
   "metadata": {},
   "outputs": [],
   "source": [
    "from habitat.datasets.rearrangement.rearrangement_dataset import RearrangementDatasetV0\n",
    "from habitat.tasks.rearrangement.rearrangement_task import RearrangementEpisode"
   ]
  },
  {
   "cell_type": "code",
   "execution_count": null,
   "metadata": {},
   "outputs": [],
   "source": [
    "repo = git.Repo(\".\", search_parent_directories=True)\n",
    "dir_path = repo.working_tree_dir\n",
    "# %cd $dir_path\n",
    "data_path = os.path.join(dir_path, \"data\")\n",
    "output_directory = \"data/tutorials/output/\"  # @param {type:\"string\"}\n",
    "output_path = os.path.join(dir_path, output_directory)"
   ]
  },
  {
   "cell_type": "code",
   "execution_count": null,
   "metadata": {},
   "outputs": [],
   "source": [
    "config = habitat.get_config(\"configs/tasks/rearrangement_debug.yaml\")"
   ]
  },
  {
   "cell_type": "code",
   "execution_count": 7,
   "metadata": {},
   "outputs": [],
   "source": [
    "config.defrost()\n",
    "config.TASK.SENSORS =  [\"GRIPPED_OBJECT_SENSOR\", \"ALL_OBJECT_POSITIONS\", \"ALL_OBJECT_GOALS\"]\n",
    "config.TASK.MEASUREMENTS = ['OBJECT_TO_GOAL_DISTANCE', 'AGENT_TO_OBJECT_DISTANCE', 'TOP_DOWN_MAP']\n",
    "config.DATASET.SPLIT = \"test\"\n",
    "config.DATASET.CONTENT_SCENES = ['rearrangement_hard_v8_test_n=100_o=5_t=0.9_Sagerton']\n",
    "config.freeze()"
   ]
  },
  {
   "cell_type": "code",
   "execution_count": 8,
   "metadata": {},
   "outputs": [
    {
     "data": {
      "text/plain": [
       "256"
      ]
     },
     "execution_count": 8,
     "metadata": {},
     "output_type": "execute_result"
    }
   ],
   "source": [
    "config.TASK.TOP_DOWN_MAP.MAP_RESOLUTION"
   ]
  },
  {
   "cell_type": "code",
   "execution_count": null,
   "metadata": {},
   "outputs": [
    {
     "name": "stderr",
     "output_type": "stream",
     "text": [
      "2020-11-13 19:26:02,284 Initializing dataset RearrangementDataset-v0\n",
      "2020-11-13 19:26:02,306 initializing sim RearrangementSim-v0\n"
     ]
    }
   ],
   "source": [
    "try:\n",
    "    env.close()\n",
    "except:\n",
    "    pass\n",
    "env = habitat.Env(config)\n",
    "fog_of_war_mask = None\n",
    "pickup_order = {}\n",
    "pickup_order_l2dist = {}"
   ]
  },
  {
   "cell_type": "code",
   "execution_count": null,
   "metadata": {},
   "outputs": [],
   "source": [
    "len(env.episodes)"
   ]
  },
  {
   "cell_type": "code",
   "execution_count": 11,
   "metadata": {},
   "outputs": [],
   "source": [
    "def compute_oracle_pickup_order(env):\n",
    "    # obs = env.reset()\n",
    "    metrics = env.get_metrics()\n",
    "    episode = env.current_episode\n",
    "    metrics = env.get_metrics()\n",
    "\n",
    "    agent_pos = env._sim.get_agent(0).get_state().position\n",
    "    object_positions = [obj.position for obj in episode.objects]\n",
    "    goal_positions = [obj.position for obj in episode.goals]\n",
    "    \n",
    "    dist_mat = compute_distance_mat_using_navmesh(env._task._simple_pathfinder, agent_pos, object_positions, goal_positions)\n",
    "    route_indexes_navmesh, pickup_order_navmesh = find_shortest_path_for_multiple_objects(dist_mat)\n",
    "    \n",
    "#     top_down_map, fog_of_war_mask = get_top_down_map(\n",
    "#         env, env._task._simple_pathfinder, ignore_objects=True, fog_of_war_mask=None, draw_fow=False, \n",
    "#         draw_agent=False, draw_object_start_pos=False, draw_object_final_pos=False, draw_object_curr_pos=False\n",
    "#     )\n",
    "    \n",
    "    \n",
    "#     a_y, a_x = maps.to_grid(\n",
    "#         agent_pos[2],\n",
    "#         agent_pos[0],\n",
    "#         top_down_map.shape[0:2],\n",
    "#         sim=env._sim,\n",
    "#     )\n",
    "#     grid_object_positions = []\n",
    "#     grid_goal_positions = []\n",
    "\n",
    "#     for i, obj_pos in enumerate(object_positions):\n",
    "#         tdm_pos = maps.to_grid(\n",
    "#             obj_pos[2],\n",
    "#             obj_pos[0],\n",
    "#             top_down_map.shape[0:2],\n",
    "#             sim=env._sim,\n",
    "#         )\n",
    "#         grid_object_positions.append(tdm_pos)\n",
    "\n",
    "#     for i, goal_pos in enumerate(goal_positions):\n",
    "#         tdm_pos = maps.to_grid(\n",
    "#             goal_pos[2],\n",
    "#             goal_pos[0],\n",
    "#             top_down_map.shape[0:2],\n",
    "#             sim=env._sim,\n",
    "#         )\n",
    "\n",
    "#         grid_goal_positions.append(tdm_pos)\n",
    "\n",
    "#     tdmap = np.copy(top_down_map[:, :, 0])\n",
    "#     tdmap = tdmap / np.max(tdmap)\n",
    "#     dist_mat_map = compute_distance_mat_using_fmm(tdmap, [a_y, a_x], grid_object_positions, grid_goal_positions)\n",
    "    \n",
    "    \n",
    "#     route_indexes_map, pickup_order_map = find_shortest_path_for_multiple_objects(dist_mat_map/3)\n",
    "    \n",
    "    return {\n",
    "        'episode_id': episode.episode_id, \n",
    "        'scene_id': episode.scene_id,\n",
    "        'pickup_order': pickup_order_navmesh,\n",
    "        'dist_mat': dist_mat\n",
    "        # 'pickup_order_fmm': pickup_order_map \n",
    "    }"
   ]
  },
  {
   "cell_type": "code",
   "execution_count": 12,
   "metadata": {},
   "outputs": [],
   "source": [
    "def compute_l2dist_pickup_order(env):\n",
    "    # obs = env.reset()\n",
    "    metrics = env.get_metrics()\n",
    "    episode = env.current_episode\n",
    "    metrics = env.get_metrics()\n",
    "\n",
    "    agent_pos = env._sim.get_agent(0).get_state().position\n",
    "    object_positions = [obj.position for obj in episode.objects]\n",
    "    goal_positions = [obj.position for obj in episode.goals]\n",
    "    \n",
    "    dist_mat = np.zeros((   \n",
    "            1 + len(object_positions) + len(goal_positions), \n",
    "            1 + len(object_positions) + len(goal_positions)\n",
    "    ))\n",
    "    \n",
    "    for i, object_pos in enumerate([agent_pos] + object_positions + goal_positions):\n",
    "        for j, goal_pos in enumerate([agent_pos] + object_positions + goal_positions):\n",
    "            if j == 0:  # distance from object / goal position -> \"depot\" is zero\n",
    "                dist = 0\n",
    "            else:\n",
    "                dist = np.linalg.norm(\n",
    "                    np.array(object_pos) - np.array(goal_pos), ord=2\n",
    "                )\n",
    "            dist_mat[i][j] = dist\n",
    "    \n",
    "    route_indexes_map, pickup_order_map = find_shortest_path_for_multiple_objects(dist_mat)\n",
    "    \n",
    "    return {\n",
    "        'episode_id': episode.episode_id, \n",
    "        'scene_id': episode.scene_id,\n",
    "#         'pickup_order': pickup_order_navmesh,\n",
    "        'pickup_order_l2dist': pickup_order_map \n",
    "    }"
   ]
  },
  {
   "cell_type": "code",
   "execution_count": 13,
   "metadata": {},
   "outputs": [],
   "source": [
    "def start_env_episode_distance(env, task, episode, pickup_order):\n",
    "    pathfinder = env._task._simple_pathfinder\n",
    "    agent_pos = episode.start_position\n",
    "    object_positions = [obj.position for obj in episode.objects]\n",
    "    goal_positions = [obj.position for obj in episode.goals]\n",
    "\n",
    "    prev_obj_end_pos = agent_pos\n",
    "    shortest_dist = 0\n",
    "\n",
    "    for i in range(len(pickup_order)):\n",
    "        curr_idx = pickup_order[i] - 1\n",
    "        curr_obj_start_pos = object_positions[curr_idx]\n",
    "        curr_obj_end_pos = goal_positions[curr_idx]\n",
    "        shortest_dist += geodesic_distance(\n",
    "                pathfinder, prev_obj_end_pos, [curr_obj_start_pos]\n",
    "            )\n",
    "\n",
    "        shortest_dist += geodesic_distance(\n",
    "                    pathfinder, curr_obj_start_pos, [curr_obj_end_pos]\n",
    "                )\n",
    "        prev_obj_end_pos = curr_obj_end_pos\n",
    "\n",
    "    return shortest_dist"
   ]
  },
  {
   "cell_type": "code",
   "execution_count": null,
   "metadata": {},
   "outputs": [],
   "source": [
    "# When pickup order is not known! \n",
    "\n",
    "l2dists = []\n",
    "odists = []\n",
    "l2pos = []\n",
    "opos = []\n",
    "ids = []\n",
    "pod = {}\n",
    "l2pod = {}\n",
    "\n",
    "count = 0 \n",
    "overall_count = 0\n",
    "for episode in env.episodes: \n",
    "    obs = env.reset()\n",
    "    odata = compute_oracle_pickup_order(env)\n",
    "    l2data = compute_l2dist_pickup_order(env)\n",
    "    \n",
    "    pod[odata['episode_id'] + '_' + odata['scene_id']] = odata\n",
    "    l2pod[l2data['episode_id'] + '_' + l2data['scene_id']] = l2data\n",
    "    \n",
    "    opo = odata['pickup_order']\n",
    "    l2po = l2data['pickup_order_l2dist']\n",
    "    opos.append(opo)\n",
    "    l2pos.append(l2po)\n",
    "    \n",
    "    odist = start_env_episode_distance(env, env._task, env.current_episode, opo)\n",
    "    l2dist = start_env_episode_distance(env, env._task, env.current_episode, l2po)\n",
    "    \n",
    "    # print(odist, l2dist)\n",
    "    if odist == float(\"inf\"):\n",
    "        break\n",
    "        \n",
    "    odists.append(odist)\n",
    "    l2dists.append(l2dist)\n",
    "    \n",
    "    ids.append(env.current_episode.scene_id + '_' + str(env.current_episode.episode_id))\n",
    "    \n",
    "    if(overall_count % 10 == 0):\n",
    "        print(count, overall_count, sum(odists) / sum(l2dists))\n",
    "    \n",
    "    if l2dist > odist:\n",
    "        count += 1\n",
    "        # print(count, overall_count, float(count/overall_count))\n",
    "        \n",
    "    overall_count +=1"
   ]
  },
  {
   "cell_type": "code",
   "execution_count": 36,
   "metadata": {},
   "outputs": [
    {
     "data": {
      "text/plain": [
       "<matplotlib.image.AxesImage at 0x7fdee80ef470>"
      ]
     },
     "execution_count": 36,
     "metadata": {},
     "output_type": "execute_result"
    },
    {
     "data": {
      "image/png": "[encoded data removed]",
      "text/plain": [
       "<Figure size 432x288 with 1 Axes>"
      ]
     },
     "metadata": {
      "needs_background": "light"
     },
     "output_type": "display_data"
    }
   ],
   "source": [
    "episode = env.current_episode\n",
    "object_positions = [obj.position for obj in episode.objects]\n",
    "goal_positions = [obj.position for obj in episode.goals]\n",
    "agent_pos = env._sim.get_agent(0).get_state().position\n",
    "\n",
    "top_down_map, fow_mask = get_top_down_map_sim(\n",
    "            env._sim, \n",
    "            env._sim.pathfinder, \n",
    "            object_positions, \n",
    "            goal_positions,\n",
    "            env._sim.navmesh_settings,\n",
    "            fog_of_war_mask=None, \n",
    "            ignore_objects=True, \n",
    "            draw_fow=True, \n",
    "            draw_agent=True, \n",
    "            draw_object_start_pos=True,\n",
    "            draw_object_final_pos=True\n",
    "        )\n",
    "\n",
    "plt.imshow(top_down_map)"
   ]
  },
  {
   "cell_type": "code",
   "execution_count": 37,
   "metadata": {},
   "outputs": [],
   "source": [
    "odata = compute_oracle_pickup_order(env)\n",
    "l2data = compute_l2dist_pickup_order(env)"
   ]
  },
  {
   "cell_type": "code",
   "execution_count": 14,
   "metadata": {},
   "outputs": [
    {
     "name": "stdout",
     "output_type": "stream",
     "text": [
      "Episode ID: 43 Done: 99  "
     ]
    },
    {
     "name": "stderr",
     "output_type": "stream",
     "text": [
      "I1108 20:53:53.030201 39845 simulator.py:168] Loaded navmesh data/scene_datasets/gibson_train_val/Silerton.navmesh\n",
      "I1108 20:53:53.032213 39845 simulator.py:180] Recomputing navmesh for agent's height 0.88 and radius 0.18.\n"
     ]
    },
    {
     "name": "stdout",
     "output_type": "stream",
     "text": [
      "Episode ID: 65 Done: 199  "
     ]
    },
    {
     "name": "stderr",
     "output_type": "stream",
     "text": [
      "I1108 20:55:20.839205 39845 simulator.py:168] Loaded navmesh data/scene_datasets/gibson_train_val/Wells.navmesh\n",
      "I1108 20:55:20.841036 39845 simulator.py:180] Recomputing navmesh for agent's height 0.88 and radius 0.18.\n"
     ]
    },
    {
     "name": "stdout",
     "output_type": "stream",
     "text": [
      "Episode ID: 55 Done: 299  "
     ]
    },
    {
     "name": "stderr",
     "output_type": "stream",
     "text": [
      "I1108 20:56:36.477941 39845 simulator.py:168] Loaded navmesh data/scene_datasets/gibson_train_val/Howie.navmesh\n",
      "I1108 20:56:36.480819 39845 simulator.py:180] Recomputing navmesh for agent's height 0.88 and radius 0.18.\n"
     ]
    },
    {
     "name": "stdout",
     "output_type": "stream",
     "text": [
      "Episode ID: 78 Done: 399  "
     ]
    },
    {
     "name": "stderr",
     "output_type": "stream",
     "text": [
      "I1108 20:58:06.571800 39845 simulator.py:168] Loaded navmesh data/scene_datasets/gibson_train_val/Southfield.navmesh\n",
      "I1108 20:58:06.575056 39845 simulator.py:180] Recomputing navmesh for agent's height 0.88 and radius 0.18.\n"
     ]
    },
    {
     "name": "stdout",
     "output_type": "stream",
     "text": [
      "Episode ID: 45 Done: 499  "
     ]
    },
    {
     "name": "stderr",
     "output_type": "stream",
     "text": [
      "I1108 21:00:02.753423 39845 simulator.py:168] Loaded navmesh data/scene_datasets/gibson_train_val/Sagerton.navmesh\n",
      "I1108 21:00:02.756050 39845 simulator.py:180] Recomputing navmesh for agent's height 0.88 and radius 0.18.\n"
     ]
    },
    {
     "name": "stdout",
     "output_type": "stream",
     "text": [
      "Episode ID: 9 Done: 599   "
     ]
    },
    {
     "name": "stderr",
     "output_type": "stream",
     "text": [
      "I1108 21:01:31.988306 39845 simulator.py:168] Loaded navmesh data/scene_datasets/gibson_train_val/Starks.navmesh\n",
      "I1108 21:01:31.991506 39845 simulator.py:180] Recomputing navmesh for agent's height 0.88 and radius 0.18.\n"
     ]
    },
    {
     "name": "stdout",
     "output_type": "stream",
     "text": [
      "Episode ID: 22 Done: 699  "
     ]
    },
    {
     "name": "stderr",
     "output_type": "stream",
     "text": [
      "I1108 21:02:47.245228 39845 simulator.py:168] Loaded navmesh data/scene_datasets/gibson_train_val/Spencerville.navmesh\n"
     ]
    },
    {
     "name": "stdout",
     "output_type": "stream",
     "text": [
      "Episode ID: 89 Done: 700  "
     ]
    },
    {
     "name": "stderr",
     "output_type": "stream",
     "text": [
      "I1108 21:02:47.247480 39845 simulator.py:180] Recomputing navmesh for agent's height 0.88 and radius 0.18.\n"
     ]
    },
    {
     "name": "stdout",
     "output_type": "stream",
     "text": [
      "Episode ID: 74 Done: 800  "
     ]
    },
    {
     "name": "stderr",
     "output_type": "stream",
     "text": [
      "I1108 21:03:57.505261 39845 simulator.py:168] Loaded navmesh data/scene_datasets/gibson_train_val/Cokeville.navmesh\n",
      "I1108 21:03:57.507248 39845 simulator.py:180] Recomputing navmesh for agent's height 0.88 and radius 0.18.\n"
     ]
    },
    {
     "name": "stdout",
     "output_type": "stream",
     "text": [
      "Episode ID: 82 Done: 900  "
     ]
    },
    {
     "name": "stderr",
     "output_type": "stream",
     "text": [
      "I1108 21:05:04.727948 39845 simulator.py:168] Loaded navmesh data/scene_datasets/gibson_train_val/Stockertown.navmesh\n",
      "I1108 21:05:04.730134 39845 simulator.py:180] Recomputing navmesh for agent's height 0.88 and radius 0.18.\n"
     ]
    },
    {
     "name": "stdout",
     "output_type": "stream",
     "text": [
      "Episode ID: 19 Done: 1000  "
     ]
    }
   ],
   "source": [
    "while(len(pickup_order)!=len(env.episodes)):\n",
    "    obs = env.reset()\n",
    "    data = compute_oracle_pickup_order(env)\n",
    "    pickup_order[data['episode_id'] + '_' + data['scene_id']] = data\n",
    "    print('\\rEpisode ID: {} Done: {} '.format(data['episode_id'], len(pickup_order)), end=\" \")"
   ]
  },
  {
   "cell_type": "code",
   "execution_count": 15,
   "metadata": {},
   "outputs": [],
   "source": [
    "import json_tricks"
   ]
  },
  {
   "cell_type": "code",
   "execution_count": 16,
   "metadata": {},
   "outputs": [],
   "source": [
    "with open('data/pickup_order_oracle_test_v7.json','w') as f:\n",
    "    json_tricks.dump(pickup_order, f)"
   ]
  },
  {
   "cell_type": "code",
   "execution_count": 17,
   "metadata": {},
   "outputs": [
    {
     "name": "stderr",
     "output_type": "stream",
     "text": [
      "I1108 21:07:43.079074 39845 simulator.py:168] Loaded navmesh data/scene_datasets/gibson_train_val/Silerton.navmesh\n",
      "I1108 21:07:43.082715 39845 simulator.py:180] Recomputing navmesh for agent's height 0.88 and radius 0.18.\n"
     ]
    },
    {
     "name": "stdout",
     "output_type": "stream",
     "text": [
      "Episode ID: 10 Done: 99  "
     ]
    },
    {
     "name": "stderr",
     "output_type": "stream",
     "text": [
      "I1108 21:09:10.938479 39845 simulator.py:168] Loaded navmesh data/scene_datasets/gibson_train_val/Sagerton.navmesh\n",
      "I1108 21:09:10.941794 39845 simulator.py:180] Recomputing navmesh for agent's height 0.88 and radius 0.18.\n"
     ]
    },
    {
     "name": "stdout",
     "output_type": "stream",
     "text": [
      "Episode ID: 21 Done: 200  "
     ]
    },
    {
     "name": "stderr",
     "output_type": "stream",
     "text": [
      "I1108 21:10:37.561433 39845 simulator.py:168] Loaded navmesh data/scene_datasets/gibson_train_val/Cokeville.navmesh\n",
      "I1108 21:10:37.562759 39845 simulator.py:180] Recomputing navmesh for agent's height 0.88 and radius 0.18.\n"
     ]
    },
    {
     "name": "stdout",
     "output_type": "stream",
     "text": [
      "Episode ID: 15 Done: 300  "
     ]
    },
    {
     "name": "stderr",
     "output_type": "stream",
     "text": [
      "I1108 21:11:44.281889 39845 simulator.py:168] Loaded navmesh data/scene_datasets/gibson_train_val/Sands.navmesh\n",
      "I1108 21:11:44.284171 39845 simulator.py:180] Recomputing navmesh for agent's height 0.88 and radius 0.18.\n"
     ]
    },
    {
     "name": "stdout",
     "output_type": "stream",
     "text": [
      "Episode ID: 92 Done: 400  "
     ]
    },
    {
     "name": "stderr",
     "output_type": "stream",
     "text": [
      "I1108 21:13:00.362641 39845 simulator.py:168] Loaded navmesh data/scene_datasets/gibson_train_val/Wells.navmesh\n",
      "I1108 21:13:00.364514 39845 simulator.py:180] Recomputing navmesh for agent's height 0.88 and radius 0.18.\n"
     ]
    },
    {
     "name": "stdout",
     "output_type": "stream",
     "text": [
      "Episode ID: 64 Done: 499  "
     ]
    },
    {
     "name": "stderr",
     "output_type": "stream",
     "text": [
      "I1108 21:14:14.276111 39845 simulator.py:168] Loaded navmesh data/scene_datasets/gibson_train_val/Stockertown.navmesh\n",
      "I1108 21:14:14.277916 39845 simulator.py:180] Recomputing navmesh for agent's height 0.88 and radius 0.18.\n"
     ]
    },
    {
     "name": "stdout",
     "output_type": "stream",
     "text": [
      "Episode ID: 97 Done: 599  "
     ]
    },
    {
     "name": "stderr",
     "output_type": "stream",
     "text": [
      "I1108 21:16:03.995226 39845 simulator.py:168] Loaded navmesh data/scene_datasets/gibson_train_val/Howie.navmesh\n",
      "I1108 21:16:03.998366 39845 simulator.py:180] Recomputing navmesh for agent's height 0.88 and radius 0.18.\n"
     ]
    },
    {
     "name": "stdout",
     "output_type": "stream",
     "text": [
      "Episode ID: 49 Done: 699  "
     ]
    },
    {
     "name": "stderr",
     "output_type": "stream",
     "text": [
      "I1108 21:17:31.438864 39845 simulator.py:168] Loaded navmesh data/scene_datasets/gibson_train_val/Spencerville.navmesh\n",
      "I1108 21:17:31.440919 39845 simulator.py:180] Recomputing navmesh for agent's height 0.88 and radius 0.18.\n"
     ]
    },
    {
     "name": "stdout",
     "output_type": "stream",
     "text": [
      "Episode ID: 51 Done: 800  "
     ]
    },
    {
     "name": "stderr",
     "output_type": "stream",
     "text": [
      "I1108 21:18:41.431741 39845 simulator.py:168] Loaded navmesh data/scene_datasets/gibson_train_val/Starks.navmesh\n",
      "I1108 21:18:41.434125 39845 simulator.py:180] Recomputing navmesh for agent's height 0.88 and radius 0.18.\n"
     ]
    },
    {
     "name": "stdout",
     "output_type": "stream",
     "text": [
      "Episode ID: 95 Done: 899  "
     ]
    },
    {
     "name": "stderr",
     "output_type": "stream",
     "text": [
      "I1108 21:19:56.835105 39845 simulator.py:168] Loaded navmesh data/scene_datasets/gibson_train_val/Southfield.navmesh\n",
      "I1108 21:19:56.836737 39845 simulator.py:180] Recomputing navmesh for agent's height 0.88 and radius 0.18.\n"
     ]
    },
    {
     "name": "stdout",
     "output_type": "stream",
     "text": [
      "Episode ID: 45 Done: 1000  "
     ]
    }
   ],
   "source": [
    "while(len(pickup_order_l2dist)!=len(env.episodes)):\n",
    "    obs = env.reset()\n",
    "    data = compute_l2dist_pickup_order(env)\n",
    "    pickup_order_l2dist[data['episode_id'] + '_' + data['scene_id']] = data\n",
    "    print('\\rEpisode ID: {} Done: {} '.format(data['episode_id'], len(pickup_order_l2dist)), end=\" \")"
   ]
  },
  {
   "cell_type": "code",
   "execution_count": 18,
   "metadata": {},
   "outputs": [],
   "source": [
    "with open('data/pickup_order_l2dist_test_v7.json','w') as f:\n",
    "    json_tricks.dump(pickup_order_l2dist, f)"
   ]
  },
  {
   "cell_type": "code",
   "execution_count": 19,
   "metadata": {},
   "outputs": [],
   "source": [
    "with open('data/pickup_order_l2dist_test_v7.json','r') as f:\n",
    "    pickup_order_l2dist = json.load(f)\n",
    "    \n",
    "with open('data/pickup_order_oracle_test_v7.json','r') as f:\n",
    "    pickup_order = json.load(f)"
   ]
  },
  {
   "cell_type": "code",
   "execution_count": 20,
   "metadata": {},
   "outputs": [
    {
     "name": "stdout",
     "output_type": "stream",
     "text": [
      "rearrangement_hard_v7_test_n=100_o=5_t=0.9_Southfield.json.gz\n",
      "rearrangement_hard_v7_test_n=100_o=5_t=0.9_Wells.json.gz\n",
      "rearrangement_hard_v7_test_n=100_o=5_t=0.9_Spencerville.json.gz\n",
      "rearrangement_hard_v7_test_n=100_o=5_t=0.9_Silerton.json.gz\n",
      "rearrangement_hard_v7_test_n=100_o=5_t=0.9_Starks.json.gz\n",
      "rearrangement_hard_v7_test_n=100_o=5_t=0.9_Cokeville.json.gz\n",
      "rearrangement_hard_v7_test_n=100_o=5_t=0.9_Sagerton.json.gz\n",
      "rearrangement_hard_v7_test_n=100_o=5_t=0.9_Sands.json.gz\n",
      "rearrangement_hard_v7_test_n=100_o=5_t=0.9_Stockertown.json.gz\n",
      "rearrangement_hard_v7_test_n=100_o=5_t=0.9_Howie.json.gz\n"
     ]
    }
   ],
   "source": [
    "updated_scene_data = []\n",
    "split = 'test'\n",
    "\n",
    "for filename in os.listdir('data/datasets/rearrangement/gibson/v1/{}/content/'.format(split)):\n",
    "    scene_id = filename.split('.')[0].split('_')[-1]\n",
    "    with gzip.open('data/datasets/rearrangement/gibson/v1/{}/content/'.format(split) + filename, \"rt\") as f:\n",
    "        scene_data = json.load(f)\n",
    "    updated_scene_data = deepcopy(scene_data)\n",
    "    \n",
    "    for i, episode in enumerate(scene_data['episodes']):\n",
    "        episode_id = episode['episode_id']\n",
    "        assert updated_scene_data['episodes'][i]['episode_id'] == episode['episode_id']\n",
    "        assert updated_scene_data['episodes'][i]['scene_id'] == episode['scene_id']\n",
    "        updated_scene_data['episodes'][i]['pickup_order'] = pickup_order[str(episode['episode_id']) + \"_\" + episode['scene_id']]['pickup_order']\n",
    "        updated_scene_data['episodes'][i]['pickup_order_l2dist'] = pickup_order_l2dist[str(episode['episode_id']) + \"_\" + episode['scene_id']]['pickup_order_l2dist']\n",
    "    \n",
    "    \n",
    "    with gzip.open('data/datasets/rearrangement/gibson/v1/{}/content/'.format(split) + filename, \"wt\") as f:\n",
    "        json.dump(updated_scene_data, f)\n",
    "        \n",
    "    print(filename)"
   ]
  },
  {
   "cell_type": "code",
   "execution_count": 21,
   "metadata": {},
   "outputs": [
    {
     "data": {
      "text/plain": [
       "{'episode_id': 0,\n",
       " 'scene_id': 'data/scene_datasets/gibson_train_val/Howie.glb',\n",
       " 'start_position': [0.5537213087081909,\n",
       "  0.16467072069644928,\n",
       "  -4.965640544891357],\n",
       " 'start_rotation': [0.0, 0.0, 0.0, 1.0],\n",
       " 'info': {},\n",
       " 'objects': [{'object_id': 0,\n",
       "   'object_handle': 'data/ycb/065-b_cups.phys_properties.json',\n",
       "   'position': [-8.058152198791504, 0.19665321707725525, -7.6187944412231445],\n",
       "   'rotation': [-0.4999999701976776,\n",
       "    0.4999999701976776,\n",
       "    0.4999999701976776,\n",
       "    0.4999999701976776]},\n",
       "  {'object_id': 1,\n",
       "   'object_handle': 'data/ycb/065-e_cups.phys_properties.json',\n",
       "   'position': [-7.388972282409668, 0.200059711933136, -1.1077078580856323],\n",
       "   'rotation': [-0.4999999701976776,\n",
       "    0.4999999701976776,\n",
       "    0.4999999701976776,\n",
       "    0.4999999701976776]},\n",
       "  {'object_id': 2,\n",
       "   'object_handle': 'data/ycb/004_sugar_box.phys_properties.json',\n",
       "   'position': [0.05163535475730896, 0.2526782155036926, -7.4625067710876465],\n",
       "   'rotation': [-0.4999999701976776,\n",
       "    0.4999999701976776,\n",
       "    0.4999999701976776,\n",
       "    0.4999999701976776]},\n",
       "  {'object_id': 3,\n",
       "   'object_handle': 'data/ycb/065-i_cups.phys_properties.json',\n",
       "   'position': [-5.390720367431641, 0.20244772732257843, -0.43118977546691895],\n",
       "   'rotation': [-0.4999999701976776,\n",
       "    0.4999999701976776,\n",
       "    0.4999999701976776,\n",
       "    0.4999999701976776]},\n",
       "  {'object_id': 4,\n",
       "   'object_handle': 'data/ycb/065-h_cups.phys_properties.json',\n",
       "   'position': [1.9727253913879395, 0.2022022306919098, -1.6533880233764648],\n",
       "   'rotation': [-0.4999999701976776,\n",
       "    0.4999999701976776,\n",
       "    0.4999999701976776,\n",
       "    0.4999999701976776]}],\n",
       " 'goals': [{'position': [-2.933765172958374,\n",
       "    0.19665321707725525,\n",
       "    -8.156886100769043],\n",
       "   'rotation': [-0.4999999701976776,\n",
       "    0.4999999701976776,\n",
       "    0.4999999701976776,\n",
       "    0.4999999701976776]},\n",
       "  {'position': [-5.184360027313232, 0.200059711933136, 1.4899981021881104],\n",
       "   'rotation': [-0.4999999701976776,\n",
       "    0.4999999701976776,\n",
       "    0.4999999701976776,\n",
       "    0.4999999701976776]},\n",
       "  {'position': [0.12760505080223083, 0.2526782155036926, 1.1569066047668457],\n",
       "   'rotation': [-0.4999999701976776,\n",
       "    0.4999999701976776,\n",
       "    0.4999999701976776,\n",
       "    0.4999999701976776]},\n",
       "  {'position': [1.2349059581756592, 0.20244772732257843, -5.853622913360596],\n",
       "   'rotation': [-0.4999999701976776,\n",
       "    0.4999999701976776,\n",
       "    0.4999999701976776,\n",
       "    0.4999999701976776]},\n",
       "  {'position': [-4.400690078735352, 0.2022022306919098, -8.608329772949219],\n",
       "   'rotation': [-0.4999999701976776,\n",
       "    0.4999999701976776,\n",
       "    0.4999999701976776,\n",
       "    0.4999999701976776]}],\n",
       " 'pickup_order': [1, 2, 4, 3, 5],\n",
       " 'pickup_order_l2dist': [5, 1, 2, 4, 3]}"
      ]
     },
     "execution_count": 21,
     "metadata": {},
     "output_type": "execute_result"
    }
   ],
   "source": [
    "updated_scene_data['episodes'][0]"
   ]
  },
  {
   "cell_type": "code",
   "execution_count": null,
   "metadata": {},
   "outputs": [],
   "source": []
  }
 ],
 "metadata": {
  "kernelspec": {
   "display_name": "Python 3",
   "language": "python",
   "name": "python3"
  },
  "language_info": {
   "codemirror_mode": {
    "name": "ipython",
    "version": 3
   },
   "file_extension": ".py",
   "mimetype": "text/x-python",
   "name": "python",
   "nbconvert_exporter": "python",
   "pygments_lexer": "ipython3",
   "version": "3.6.10"
  }
 },
 "nbformat": 4,
 "nbformat_minor": 4
}
