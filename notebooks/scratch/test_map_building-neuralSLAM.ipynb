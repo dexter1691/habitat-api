{
 "cells": [
  {
   "cell_type": "code",
   "execution_count": 1,
   "metadata": {},
   "outputs": [],
   "source": [
    "import sys "
   ]
  },
  {
   "cell_type": "code",
   "execution_count": null,
   "metadata": {},
   "outputs": [],
   "source": [
    "cd '/srv/share3/hagrawal9/project/habitat/habitat-api/'"
   ]
  },
  {
   "cell_type": "code",
   "execution_count": null,
   "metadata": {},
   "outputs": [],
   "source": [
    "import gzip\n",
    "import json\n",
    "import os\n",
    "import sys\n",
    "from typing import Any, Dict, List, Optional, Type\n",
    "\n",
    "import attr\n",
    "import cv2\n",
    "import git\n",
    "import magnum as mn\n",
    "import numpy as np\n",
    "\n",
    "# %matplotlib inline\n",
    "from matplotlib import pyplot as plt\n",
    "from pathlib import Path\n",
    "from PIL import Image\n",
    "\n",
    "\n",
    "import habitat\n",
    "import habitat_sim\n",
    "from habitat.config import Config\n",
    "from habitat.core.registry import registry\n",
    "from habitat_sim.utils import viz_utils as vut\n",
    "from habitat.utils.visualizations import maps, fog_of_war\n",
    "from habitat.utils.visualizations.utils import observations_to_image\n",
    "\n",
    "from rearrangement.utils.planner import (\n",
    "    compute_traversable_map,\n",
    "    find_all_pair_shortest_path\n",
    ")"
   ]
  },
  {
   "cell_type": "code",
   "execution_count": null,
   "metadata": {},
   "outputs": [],
   "source": [
    "from habitat.datasets.rearrangement.rearrangement_dataset import RearrangementDatasetV0\n",
    "from habitat.tasks.rearrangement.rearrangement_task import RearrangementEpisode"
   ]
  },
  {
   "cell_type": "code",
   "execution_count": null,
   "metadata": {},
   "outputs": [],
   "source": [
    "repo = git.Repo(\".\", search_parent_directories=True)\n",
    "dir_path = repo.working_tree_dir\n",
    "# %cd $dir_path\n",
    "data_path = os.path.join(dir_path, \"data\")\n",
    "output_directory = \"data/tutorials/output/\"  # @param {type:\"string\"}\n",
    "output_path = os.path.join(dir_path, output_directory)"
   ]
  },
  {
   "cell_type": "code",
   "execution_count": null,
   "metadata": {},
   "outputs": [],
   "source": [
    "config = habitat.get_config(\"configs/tasks/rearrangement_gibson.yaml\")"
   ]
  },
  {
   "cell_type": "code",
   "execution_count": null,
   "metadata": {},
   "outputs": [],
   "source": [
    "config.defrost()\n",
    "config.TASK.MEASUREMENTS = ['OBJECT_TO_GOAL_DISTANCE', 'AGENT_TO_OBJECT_DISTANCE', 'TOP_DOWN_MAP']\n",
    "config.freeze()"
   ]
  },
  {
   "cell_type": "code",
   "execution_count": 8,
   "metadata": {},
   "outputs": [],
   "source": [
    "def make_video_cv2(\n",
    "    observations, cross_hair=None, prefix=\"\", open_vid=True, fps=60\n",
    "):\n",
    "    sensor_keys = list(observations[0])\n",
    "    videodims = observations[0][sensor_keys[0]].shape\n",
    "    videodims = (videodims[1], videodims[0])  # flip to w,h order\n",
    "    print(videodims)\n",
    "    video_file = output_path + prefix + \".mp4\"\n",
    "    print(\"Encoding the video: %s \" % video_file)\n",
    "    writer = vut.get_fast_video_writer(video_file, fps=fps)\n",
    "    for ob in observations:\n",
    "        # If in RGB/RGBA format, remove the alpha channel\n",
    "        rgb_im_1st_person = cv2.cvtColor(ob[\"rgb\"], cv2.COLOR_RGBA2RGB)\n",
    "        if cross_hair is not None:\n",
    "            rgb_im_1st_person[\n",
    "                cross_hair[0] - 2 : cross_hair[0] + 2,\n",
    "                cross_hair[1] - 2 : cross_hair[1] + 2,\n",
    "            ] = [255, 0, 0]\n",
    "\n",
    "        if rgb_im_1st_person.shape[:2] != videodims:\n",
    "            rgb_im_1st_person = cv2.resize(\n",
    "                rgb_im_1st_person, videodims, interpolation=cv2.INTER_AREA\n",
    "            )\n",
    "        # write the 1st person observation to video\n",
    "        writer.append_data(rgb_im_1st_person)\n",
    "    writer.close()\n",
    "\n",
    "    if open_vid:\n",
    "        print(\"Displaying video\")\n",
    "        vut.display_video(video_file)\n"
   ]
  },
  {
   "cell_type": "code",
   "execution_count": 9,
   "metadata": {},
   "outputs": [],
   "source": [
    "def print_info(obs, metrics):\n",
    "    print(\n",
    "        \"Gripped Object: {}, Distance To Object: {}, Distance To Goal: {}\".format(\n",
    "            obs[\"gripped_object_id\"],\n",
    "            metrics[\"agent_to_object_distance\"],\n",
    "            metrics[\"object_to_goal_distance\"],\n",
    "        )\n",
    "    )"
   ]
  },
  {
   "cell_type": "code",
   "execution_count": 10,
   "metadata": {},
   "outputs": [],
   "source": [
    "if __name__ == \"__main__\":\n",
    "    import argparse\n",
    "\n",
    "    parser = argparse.ArgumentParser()\n",
    "    parser.add_argument(\"--no-display\", dest=\"display\", action=\"store_false\")\n",
    "    parser.add_argument(\n",
    "        \"--no-make-video\", dest=\"make_video\", action=\"store_false\"\n",
    "    )\n",
    "    parser.set_defaults(show_video=True, make_video=True)\n",
    "    args, _ = parser.parse_known_args()\n",
    "    show_video = args.display\n",
    "    display = args.display\n",
    "    make_video = args.make_video\n",
    "else:\n",
    "    show_video = False\n",
    "    make_video = False\n",
    "    display = False"
   ]
  },
  {
   "cell_type": "code",
   "execution_count": 11,
   "metadata": {},
   "outputs": [
    {
     "name": "stderr",
     "output_type": "stream",
     "text": [
      "2020-10-07 23:51:36,575 Initializing dataset RearrangementDataset-v0\n",
      "2020-10-07 23:51:36,580 initializing sim RearrangementSim-v0\n",
      "I1007 23:51:41.796565 23087 simulator.py:168] Loaded navmesh data/scene_datasets/gibson_train_val/Barboursville.navmesh\n",
      "I1007 23:51:41.799084 23087 simulator.py:180] Recomputing navmesh for agent's height 0.88 and radius 0.18.\n",
      "2020-10-07 23:51:41,959 Initializing task RearrangementTask-v0\n"
     ]
    }
   ],
   "source": [
    "try:\n",
    "    env.close()\n",
    "except:\n",
    "    pass\n",
    "env = habitat.Env(config)\n",
    "fog_of_war_mask = None"
   ]
  },
  {
   "cell_type": "code",
   "execution_count": 14,
   "metadata": {},
   "outputs": [
    {
     "name": "stdout",
     "output_type": "stream",
     "text": [
      "rotating agent!\n"
     ]
    }
   ],
   "source": [
    "obs = env.reset()\n",
    "metrics = env.get_metrics()"
   ]
  },
  {
   "cell_type": "code",
   "execution_count": 19,
   "metadata": {},
   "outputs": [],
   "source": [
    "def get_top_down_map(env, fog_of_war_mask=None, should_draw_fow=True, should_draw_agent=False, should_draw_object=False):\n",
    "    \n",
    "    env._sim.recompute_navmesh(env._sim.pathfinder, env._sim.navmesh_settings, False)\n",
    "\n",
    "    top_down_map = maps.get_topdown_map(\n",
    "        env._sim.pathfinder,\n",
    "        env._sim.get_agent(0).state.position[1],\n",
    "        1024\n",
    "    )\n",
    "\n",
    "    agent_position = env._sim.get_agent_state().position\n",
    "    a_y, a_x = maps.to_grid(\n",
    "        agent_position[2],\n",
    "        agent_position[0],\n",
    "        top_down_map.shape[0:2],\n",
    "        sim=env._sim,\n",
    "    )\n",
    "\n",
    "    episode = env.current_episode\n",
    "    object_positions = [obj.position for obj in episode.objects]\n",
    "    goal_positions = [obj.position for obj in episode.goals]\n",
    "\n",
    "    grid_object_positions = []\n",
    "    grid_goal_positions = []\n",
    "\n",
    "    for i, obj_pos in enumerate(object_positions):\n",
    "        tdm_pos = maps.to_grid(\n",
    "            obj_pos[2],\n",
    "            obj_pos[0],\n",
    "            top_down_map.shape[0:2],\n",
    "            sim=env._sim,\n",
    "        )\n",
    "        grid_object_positions.append(tdm_pos)\n",
    "\n",
    "    # draw the objectgoal positions.\n",
    "    for i, goal_pos in enumerate(goal_positions):\n",
    "        tdm_pos = maps.to_grid(\n",
    "            goal_pos[2],\n",
    "            goal_pos[0],\n",
    "            top_down_map.shape[0:2],\n",
    "            sim=env._sim,\n",
    "        )\n",
    "\n",
    "        grid_goal_positions.append(tdm_pos)\n",
    "    \n",
    "    agent_rotation = metrics[\"top_down_map\"][\"agent_angle\"]\n",
    "    # print(agent_rotation)\n",
    "    \n",
    "    if should_draw_fow:\n",
    "        if fog_of_war_mask is None:\n",
    "            fog_of_war_mask = np.zeros_like(top_down_map)\n",
    "        \n",
    "        fog_of_war_mask = fog_of_war.reveal_fog_of_war(\n",
    "            np.ones(top_down_map.shape),\n",
    "            fog_of_war_mask,\n",
    "            np.array([a_y, a_x]),\n",
    "            agent_rotation,\n",
    "            fov = 90,\n",
    "            max_line_len = 500\n",
    "        )\n",
    "    top_down_map = maps.colorize_topdown_map(top_down_map)\n",
    "    \n",
    "    if should_draw_agent:\n",
    "        top_down_map = maps.draw_agent(\n",
    "            image=top_down_map,\n",
    "            agent_center_coord=[a_y, a_x],\n",
    "            agent_rotation=agent_rotation,\n",
    "            agent_radius_px=min(top_down_map.shape[0:2]) / 32,\n",
    "        )\n",
    "    \n",
    "    if should_draw_object:\n",
    "        top_down_map = maps.draw_object_info(top_down_map, grid_object_positions, grid_goal_positions)\n",
    "    \n",
    "    return top_down_map, fog_of_war_mask"
   ]
  },
  {
   "cell_type": "code",
   "execution_count": null,
   "metadata": {},
   "outputs": [],
   "source": [
    "for i in range(10):\n",
    "    obs = env.step(2)\n",
    "\n",
    "for i in range(6):\n",
    "    obs = env.step(1)\n",
    "\n",
    "for i in range(5):\n",
    "    obs = env.step(2)\n",
    "\n",
    "for i in range(5):\n",
    "    obs = env.step(1)\n",
    "    \n",
    "for i in range(10):\n",
    "    obs = env.step(2)\n",
    "    \n",
    "metrics = env.get_metrics()\n",
    "\n",
    "plt.imshow(obs['depth'].reshape((480, 640)), cmap=\"gray\")\n",
    "plt.show()"
   ]
  }
 ],
 "metadata": {
  "kernelspec": {
   "display_name": "Python 3",
   "language": "python",
   "name": "python3"
  },
  "language_info": {
   "codemirror_mode": {
    "name": "ipython",
    "version": 3
   },
   "file_extension": ".py",
   "mimetype": "text/x-python",
   "name": "python",
   "nbconvert_exporter": "python",
   "pygments_lexer": "ipython3",
   "version": "3.6.10"
  }
 },
 "nbformat": 4,
 "nbformat_minor": 4
}
