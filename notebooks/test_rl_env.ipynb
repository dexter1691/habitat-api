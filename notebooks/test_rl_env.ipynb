{
 "cells": [
  {
   "cell_type": "code",
   "execution_count": null,
   "metadata": {},
   "outputs": [],
   "source": [
    "import sys"
   ]
  },
  {
   "cell_type": "code",
   "execution_count": null,
   "metadata": {},
   "outputs": [],
   "source": [
    "cd '/srv/share3/hagrawal9/project/habitat/habitat-api/'"
   ]
  },
  {
   "cell_type": "code",
   "execution_count": null,
   "metadata": {},
   "outputs": [],
   "source": [
    "import gzip\n",
    "import json\n",
    "import os\n",
    "import sys\n",
    "from typing import Any, Dict, List, Optional, Type\n",
    "\n",
    "import attr\n",
    "import cv2\n",
    "import git\n",
    "import magnum as mn\n",
    "import numpy as np\n",
    "\n",
    "# %matplotlib inline\n",
    "from matplotlib import pyplot as plt\n",
    "from pathlib import Path\n",
    "from PIL import Image\n",
    "\n",
    "\n",
    "import habitat\n",
    "import habitat_sim\n",
    "from habitat.core.registry import registry\n",
    "from habitat_sim.utils import viz_utils as vut\n",
    "from habitat.utils.visualizations import maps\n",
    "from habitat.utils.visualizations.utils import observations_to_image"
   ]
  },
  {
   "cell_type": "code",
   "execution_count": null,
   "metadata": {},
   "outputs": [],
   "source": [
    "from habitat.datasets.rearrangement.rearrangement_dataset import RearrangementDatasetV0\n",
    "from habitat.tasks.rearrangement.rearrangement_task import RearrangementEpisode\n",
    "from rearrangement.task.environment import RearrangementRLEnv"
   ]
  },
  {
   "cell_type": "code",
   "execution_count": null,
   "metadata": {},
   "outputs": [],
   "source": [
    "from rearrangement.task.sensors import *"
   ]
  },
  {
   "cell_type": "code",
   "execution_count": null,
   "metadata": {},
   "outputs": [],
   "source": [
    "from habitat_baselines.config.default import get_config"
   ]
  },
  {
   "cell_type": "code",
   "execution_count": null,
   "metadata": {},
   "outputs": [],
   "source": [
    "repo = git.Repo(\".\", search_parent_directories=True)\n",
    "dir_path = repo.working_tree_dir\n",
    "# %cd $dir_path\n",
    "data_path = os.path.join(dir_path, \"data\")\n",
    "output_directory = \"data/tutorials/output/\"  # @param {type:\"string\"}\n",
    "output_path = os.path.join(dir_path, output_directory)"
   ]
  },
  {
   "cell_type": "code",
   "execution_count": null,
   "metadata": {},
   "outputs": [],
   "source": [
    "config = get_config(\"rearrangement/configs/rearrangement.yaml\")"
   ]
  },
  {
   "cell_type": "code",
   "execution_count": 9,
   "metadata": {},
   "outputs": [],
   "source": [
    "config.defrost()\n",
    "config.TASK_CONFIG.defrost()\n",
    "config.TASK_CONFIG.TASK.MEASUREMENTS = ['OBJECT_TO_GOAL_DISTANCE', 'AGENT_TO_OBJECT_DISTANCE', 'TOP_DOWN_MAP']\n",
    "config.TASK_CONFIG.freeze()\n",
    "config.freeze()"
   ]
  },
  {
   "cell_type": "code",
   "execution_count": 11,
   "metadata": {},
   "outputs": [
    {
     "data": {
      "text/plain": [
       "{'HabitatSimRGBSensor': habitat.sims.habitat_simulator.habitat_simulator.HabitatSimRGBSensor,\n",
       " 'HabitatSimDepthSensor': habitat.sims.habitat_simulator.habitat_simulator.HabitatSimDepthSensor,\n",
       " 'HabitatSimSemanticSensor': habitat.sims.habitat_simulator.habitat_simulator.HabitatSimSemanticSensor,\n",
       " 'PointGoalSensor': habitat.tasks.nav.nav.PointGoalSensor,\n",
       " 'ImageGoalSensor': habitat.tasks.nav.nav.ImageGoalSensor,\n",
       " 'PointGoalWithGPSCompassSensor': habitat.tasks.nav.nav.IntegratedPointGoalGPSAndCompassSensor,\n",
       " 'HeadingSensor': habitat.tasks.nav.nav.HeadingSensor,\n",
       " 'CompassSensor': habitat.tasks.nav.nav.EpisodicCompassSensor,\n",
       " 'GPSSensor': habitat.tasks.nav.nav.EpisodicGPSSensor,\n",
       " 'ProximitySensor': habitat.tasks.nav.nav.ProximitySensor,\n",
       " 'QuestionSensor': habitat.tasks.eqa.eqa.QuestionSensor,\n",
       " 'InstructionSensor': habitat.tasks.vln.vln.InstructionSensor,\n",
       " 'GrippedObjectSensor': habitat.tasks.rearrangement.rearrangement_task.GrippedObjectSensor,\n",
       " 'AllObjectPositions': habitat.tasks.rearrangement.rearrangement_task.AllObjectPositions,\n",
       " 'AllObjectGoals': habitat.tasks.rearrangement.rearrangement_task.AllObjectGoals,\n",
       " 'ObjectGoalSensor': habitat.tasks.nav.object_nav_task.ObjectGoalSensor,\n",
       " 'OracleNextObjectSensor': rearrangement.task.sensors.OracleNextObjectSensor,\n",
       " 'L2DistObjectSensor': rearrangement.task.sensors.ClosestObjectSensor,\n",
       " 'RandomObjectSensor': rearrangement.task.sensors.RandomObjectSensor,\n",
       " 'ClosestObjectSensor': rearrangement.task.sensors.ClosestObjectSensor,\n",
       " 'VisibleObjectMaskSensor': rearrangement.task.sensors.VisibleObjectMaskSensor}"
      ]
     },
     "execution_count": 11,
     "metadata": {},
     "output_type": "execute_result"
    }
   ],
   "source": [
    "registry.mapping['sensor']"
   ]
  },
  {
   "cell_type": "code",
   "execution_count": 12,
   "metadata": {},
   "outputs": [
    {
     "name": "stderr",
     "output_type": "stream",
     "text": [
      "2020-10-21 20:02:17,319 Initializing dataset RearrangementDataset-v0\n",
      "2020-10-21 20:02:17,552 initializing sim RearrangementSim-v0\n",
      "I1021 20:02:36.322049 54807 simulator.py:168] Loaded navmesh data/scene_datasets/gibson_train_val/Sands.navmesh\n",
      "I1021 20:02:36.326782 54807 simulator.py:180] Recomputing navmesh for agent's height 0.88 and radius 0.18.\n",
      "2020-10-21 20:02:36,633 Initializing task RearrangementTask-v0\n"
     ]
    },
    {
     "name": "stdout",
     "output_type": "stream",
     "text": [
      "> /srv/share3/hagrawal9/project/habitat/habitat-api/habitat/core/embodied_task.py(267)_init_entities()\n",
      "-> entity_cfg = getattr(entities_config, entity_name)\n"
     ]
    },
    {
     "name": "stdin",
     "output_type": "stream",
     "text": [
      "(Pdb)  entity_name\n"
     ]
    },
    {
     "name": "stdout",
     "output_type": "stream",
     "text": [
      "'OBJECT_TO_GOAL_DISTANCE'\n"
     ]
    },
    {
     "name": "stdin",
     "output_type": "stream",
     "text": [
      "(Pdb)  entities_config\n"
     ]
    },
    {
     "name": "stdout",
     "output_type": "stream",
     "text": [
      "Config({'TYPE': 'RearrangementTask-v0', 'SUCCESS_DISTANCE': 0.5, 'SENSORS': ['GRIPPED_OBJECT_SENSOR', 'ALL_OBJECT_POSITIONS', 'ALL_OBJECT_GOALS', 'ORACLE_NEXT_OBJECT_SENSOR', 'RANDOM_OBJECT_SENSOR', 'CLOSEST_OBJECT_SENSOR', 'L2DIST_OBJECT_SENSOR'], 'MEASUREMENTS': ['OBJECT_TO_GOAL_DISTANCE', 'AGENT_TO_OBJECT_DISTANCE', 'TOP_DOWN_MAP'], 'GOAL_SENSOR_UUID': 'object_goal', 'POSSIBLE_ACTIONS': ['STOP', 'MOVE_FORWARD', 'TURN_LEFT', 'TURN_RIGHT', 'GRAB_RELEASE'], 'ACTIONS': Config({'STOP': Config({'TYPE': 'StopAction'}), 'MOVE_FORWARD': Config({'TYPE': 'MoveForwardAction'}), 'TURN_LEFT': Config({'TYPE': 'TurnLeftAction'}), 'TURN_RIGHT': Config({'TYPE': 'TurnRightAction'}), 'LOOK_UP': Config({'TYPE': 'LookUpAction'}), 'LOOK_DOWN': Config({'TYPE': 'LookDownAction'}), 'TELEPORT': Config({'TYPE': 'TeleportAction'}), 'GRAB_RELEASE': Config({'TYPE': 'GrabOrReleaseAction'}), 'ANSWER': Config({'TYPE': 'AnswerAction'})}), 'POINTGOAL_SENSOR': Config({'TYPE': 'PointGoalSensor', 'GOAL_FORMAT': 'POLAR', 'DIMENSIONALITY': 2}), 'POINTGOAL_WITH_GPS_COMPASS_SENSOR': Config({'TYPE': 'PointGoalWithGPSCompassSensor', 'GOAL_FORMAT': 'POLAR', 'DIMENSIONALITY': 2}), 'OBJECTGOAL_SENSOR': Config({'TYPE': 'ObjectGoalSensor', 'GOAL_SPEC': 'TASK_CATEGORY_ID', 'GOAL_SPEC_MAX_VAL': 50}), 'IMAGEGOAL_SENSOR': Config({'TYPE': 'ImageGoalSensor'}), 'HEADING_SENSOR': Config({'TYPE': 'HeadingSensor'}), 'COMPASS_SENSOR': Config({'TYPE': 'CompassSensor'}), 'GPS_SENSOR': Config({'TYPE': 'GPSSensor', 'DIMENSIONALITY': 2}), 'PROXIMITY_SENSOR': Config({'TYPE': 'ProximitySensor', 'MAX_DETECTION_RADIUS': 2.0}), 'SUCCESS': Config({'TYPE': 'Success', 'SUCCESS_DISTANCE': 0.5}), 'SPL': Config({'TYPE': 'SPL'}), 'SOFT_SPL': Config({'TYPE': 'SoftSPL'}), 'TOP_DOWN_MAP': Config({'TYPE': 'TopDownMap', 'MAX_EPISODE_STEPS': 1000, 'MAP_PADDING': 3, 'MAP_RESOLUTION': 256, 'DRAW_SOURCE': True, 'DRAW_BORDER': True, 'DRAW_SHORTEST_PATH': True, 'FOG_OF_WAR': Config({'DRAW': True, 'VISIBILITY_DIST': 5.0, 'FOV': 90}), 'DRAW_VIEW_POINTS': True, 'DRAW_GOAL_POSITIONS': True, 'DRAW_GOAL_AABBS': True}), 'COLLISIONS': Config({'TYPE': 'Collisions'}), 'QUESTION_SENSOR': Config({'TYPE': 'QuestionSensor'}), 'CORRECT_ANSWER': Config({'TYPE': 'CorrectAnswer'}), 'EPISODE_INFO': Config({'TYPE': 'EpisodeInfo'}), 'INSTRUCTION_SENSOR': Config({'TYPE': 'InstructionSensor'}), 'INSTRUCTION_SENSOR_UUID': 'instruction', 'DISTANCE_TO_GOAL': Config({'TYPE': 'DistanceToGoal', 'DISTANCE_TO': 'VIEW_POINTS'}), 'ANSWER_ACCURACY': Config({'TYPE': 'AnswerAccuracy'}), 'GRIPPED_OBJECT_SENSOR': Config({'TYPE': 'GrippedObjectSensor'}), 'ALL_OBJECT_POSITIONS': Config({'TYPE': 'AllObjectPositions', 'GOAL_FORMAT': 'POLAR', 'DIMENSIONALITY': 2}), 'ALL_OBJECT_GOALS': Config({'TYPE': 'AllObjectGoals', 'GOAL_FORMAT': 'POLAR', 'DIMENSIONALITY': 2}), 'OBJECT_TO_GOAL_DISTANCE': Config({'TYPE': 'ObjectToGoalDistance'}), 'AGENT_TO_OBJECT_DISTANCE': Config({'TYPE': 'AgentToObjectDistance'}), 'NEXT_OBJECT_SENSOR_UUID': 'next_object_sensor'})\n"
     ]
    },
    {
     "name": "stdin",
     "output_type": "stream",
     "text": [
      "(Pdb)  entities_config[entity_name\n"
     ]
    },
    {
     "name": "stdout",
     "output_type": "stream",
     "text": [
      "*** SyntaxError: unexpected EOF while parsing\n"
     ]
    },
    {
     "name": "stdin",
     "output_type": "stream",
     "text": [
      "(Pdb)  entities_config[entity_name]\n"
     ]
    },
    {
     "name": "stdout",
     "output_type": "stream",
     "text": [
      "Config({'TYPE': 'ObjectToGoalDistance'})\n"
     ]
    },
    {
     "name": "stdin",
     "output_type": "stream",
     "text": [
      "(Pdb)  c\n"
     ]
    },
    {
     "name": "stdout",
     "output_type": "stream",
     "text": [
      "> /srv/share3/hagrawal9/project/habitat/habitat-api/habitat/core/embodied_task.py(266)_init_entities()\n",
      "-> pdb.set_trace()\n"
     ]
    },
    {
     "name": "stdin",
     "output_type": "stream",
     "text": [
      "(Pdb)  entities_config[entity_name]\n"
     ]
    },
    {
     "name": "stdout",
     "output_type": "stream",
     "text": [
      "Config({'TYPE': 'AgentToObjectDistance'})\n"
     ]
    },
    {
     "name": "stdin",
     "output_type": "stream",
     "text": [
      "(Pdb)  c\n"
     ]
    },
    {
     "name": "stdout",
     "output_type": "stream",
     "text": [
      "> /srv/share3/hagrawal9/project/habitat/habitat-api/habitat/core/embodied_task.py(267)_init_entities()\n",
      "-> entity_cfg = getattr(entities_config, entity_name)\n"
     ]
    },
    {
     "name": "stdin",
     "output_type": "stream",
     "text": [
      "(Pdb)  entities_config[entity_name]\n"
     ]
    },
    {
     "name": "stdout",
     "output_type": "stream",
     "text": [
      "Config({'TYPE': 'TopDownMap', 'MAX_EPISODE_STEPS': 1000, 'MAP_PADDING': 3, 'MAP_RESOLUTION': 256, 'DRAW_SOURCE': True, 'DRAW_BORDER': True, 'DRAW_SHORTEST_PATH': True, 'FOG_OF_WAR': Config({'DRAW': True, 'VISIBILITY_DIST': 5.0, 'FOV': 90}), 'DRAW_VIEW_POINTS': True, 'DRAW_GOAL_POSITIONS': True, 'DRAW_GOAL_AABBS': True})\n"
     ]
    },
    {
     "name": "stdin",
     "output_type": "stream",
     "text": [
      "(Pdb)  c\n"
     ]
    },
    {
     "name": "stdout",
     "output_type": "stream",
     "text": [
      "> /srv/share3/hagrawal9/project/habitat/habitat-api/habitat/core/embodied_task.py(267)_init_entities()\n",
      "-> entity_cfg = getattr(entities_config, entity_name)\n"
     ]
    },
    {
     "name": "stdin",
     "output_type": "stream",
     "text": [
      "(Pdb)  entities_config[entity_name]\n"
     ]
    },
    {
     "name": "stdout",
     "output_type": "stream",
     "text": [
      "Config({'TYPE': 'GrippedObjectSensor'})\n"
     ]
    },
    {
     "name": "stdin",
     "output_type": "stream",
     "text": [
      "(Pdb)  c\n"
     ]
    },
    {
     "name": "stdout",
     "output_type": "stream",
     "text": [
      "> /srv/share3/hagrawal9/project/habitat/habitat-api/habitat/core/embodied_task.py(266)_init_entities()\n",
      "-> pdb.set_trace()\n"
     ]
    },
    {
     "name": "stdin",
     "output_type": "stream",
     "text": [
      "(Pdb)  entities_config[entity_name]\n"
     ]
    },
    {
     "name": "stdout",
     "output_type": "stream",
     "text": [
      "Config({'TYPE': 'AllObjectPositions', 'GOAL_FORMAT': 'POLAR', 'DIMENSIONALITY': 2})\n"
     ]
    },
    {
     "name": "stdin",
     "output_type": "stream",
     "text": [
      "(Pdb)  c\n"
     ]
    },
    {
     "name": "stdout",
     "output_type": "stream",
     "text": [
      "> /srv/share3/hagrawal9/project/habitat/habitat-api/habitat/core/embodied_task.py(267)_init_entities()\n",
      "-> entity_cfg = getattr(entities_config, entity_name)\n"
     ]
    },
    {
     "name": "stdin",
     "output_type": "stream",
     "text": [
      "(Pdb)  entities_config[entity_name]\n"
     ]
    },
    {
     "name": "stdout",
     "output_type": "stream",
     "text": [
      "Config({'TYPE': 'AllObjectGoals', 'GOAL_FORMAT': 'POLAR', 'DIMENSIONALITY': 2})\n"
     ]
    },
    {
     "name": "stdin",
     "output_type": "stream",
     "text": [
      "(Pdb)  c\n"
     ]
    },
    {
     "name": "stdout",
     "output_type": "stream",
     "text": [
      "> /srv/share3/hagrawal9/project/habitat/habitat-api/habitat/core/embodied_task.py(266)_init_entities()\n",
      "-> pdb.set_trace()\n"
     ]
    },
    {
     "name": "stdin",
     "output_type": "stream",
     "text": [
      "(Pdb)  entities_config[entity_name]\n"
     ]
    },
    {
     "name": "stdout",
     "output_type": "stream",
     "text": [
      "*** KeyError: 'ORACLE_NEXT_OBJECT_SENSOR'\n",
      "--KeyboardInterrupt--\n",
      "--KeyboardInterrupt--\n"
     ]
    },
    {
     "name": "stdin",
     "output_type": "stream",
     "text": [
      "(Pdb)  q\n"
     ]
    },
    {
     "ename": "BdbQuit",
     "evalue": "",
     "output_type": "error",
     "traceback": [
      "\u001b[0;31m---------------------------------------------------------------------------\u001b[0m",
      "\u001b[0;31mBdbQuit\u001b[0m                                   Traceback (most recent call last)",
      "\u001b[0;32m<ipython-input-12-49f6e24d6eec>\u001b[0m in \u001b[0;36m<module>\u001b[0;34m\u001b[0m\n\u001b[1;32m      3\u001b[0m \u001b[0;32mexcept\u001b[0m\u001b[0;34m:\u001b[0m\u001b[0;34m\u001b[0m\u001b[0;34m\u001b[0m\u001b[0m\n\u001b[1;32m      4\u001b[0m     \u001b[0;32mpass\u001b[0m\u001b[0;34m\u001b[0m\u001b[0;34m\u001b[0m\u001b[0m\n\u001b[0;32m----> 5\u001b[0;31m \u001b[0menv\u001b[0m \u001b[0;34m=\u001b[0m \u001b[0mRearrangementRLEnv\u001b[0m\u001b[0;34m(\u001b[0m\u001b[0mconfig\u001b[0m\u001b[0;34m)\u001b[0m\u001b[0;34m\u001b[0m\u001b[0;34m\u001b[0m\u001b[0m\n\u001b[0m",
      "\u001b[0;32m/srv/share3/hagrawal9/project/habitat/habitat-api/rearrangement/task/environment.py\u001b[0m in \u001b[0;36m__init__\u001b[0;34m(self, config, dataset)\u001b[0m\n\u001b[1;32m     20\u001b[0m         }\n\u001b[1;32m     21\u001b[0m \u001b[0;34m\u001b[0m\u001b[0m\n\u001b[0;32m---> 22\u001b[0;31m         \u001b[0msuper\u001b[0m\u001b[0;34m(\u001b[0m\u001b[0;34m)\u001b[0m\u001b[0;34m.\u001b[0m\u001b[0m__init__\u001b[0m\u001b[0;34m(\u001b[0m\u001b[0mconfig\u001b[0m\u001b[0;34m,\u001b[0m \u001b[0mdataset\u001b[0m\u001b[0;34m)\u001b[0m\u001b[0;34m\u001b[0m\u001b[0;34m\u001b[0m\u001b[0m\n\u001b[0m\u001b[1;32m     23\u001b[0m         \u001b[0mself\u001b[0m\u001b[0;34m.\u001b[0m\u001b[0msuccess_dist\u001b[0m \u001b[0;34m=\u001b[0m \u001b[0mself\u001b[0m\u001b[0;34m.\u001b[0m\u001b[0m_core_env_config\u001b[0m\u001b[0;34m.\u001b[0m\u001b[0mTASK\u001b[0m\u001b[0;34m.\u001b[0m\u001b[0mSUCCESS\u001b[0m\u001b[0;34m.\u001b[0m\u001b[0mSUCCESS_DISTANCE\u001b[0m\u001b[0;34m\u001b[0m\u001b[0;34m\u001b[0m\u001b[0m\n\u001b[1;32m     24\u001b[0m         \u001b[0mself\u001b[0m\u001b[0;34m.\u001b[0m\u001b[0mnext_object_sensor_uuid\u001b[0m \u001b[0;34m=\u001b[0m \u001b[0mself\u001b[0m\u001b[0;34m.\u001b[0m\u001b[0m_core_env_config\u001b[0m\u001b[0;34m.\u001b[0m\u001b[0mTASK\u001b[0m\u001b[0;34m.\u001b[0m\u001b[0mNEXT_OBJECT_SENSOR_UUID\u001b[0m\u001b[0;34m\u001b[0m\u001b[0;34m\u001b[0m\u001b[0m\n",
      "\u001b[0;32m/srv/share3/hagrawal9/project/habitat/habitat-api/habitat_baselines/common/environments.py\u001b[0m in \u001b[0;36m__init__\u001b[0;34m(self, config, dataset)\u001b[0m\n\u001b[1;32m     40\u001b[0m         \u001b[0mself\u001b[0m\u001b[0;34m.\u001b[0m\u001b[0m_previous_measure\u001b[0m \u001b[0;34m=\u001b[0m \u001b[0;32mNone\u001b[0m\u001b[0;34m\u001b[0m\u001b[0;34m\u001b[0m\u001b[0m\n\u001b[1;32m     41\u001b[0m         \u001b[0mself\u001b[0m\u001b[0;34m.\u001b[0m\u001b[0m_previous_action\u001b[0m \u001b[0;34m=\u001b[0m \u001b[0;32mNone\u001b[0m\u001b[0;34m\u001b[0m\u001b[0;34m\u001b[0m\u001b[0m\n\u001b[0;32m---> 42\u001b[0;31m         \u001b[0msuper\u001b[0m\u001b[0;34m(\u001b[0m\u001b[0;34m)\u001b[0m\u001b[0;34m.\u001b[0m\u001b[0m__init__\u001b[0m\u001b[0;34m(\u001b[0m\u001b[0mself\u001b[0m\u001b[0;34m.\u001b[0m\u001b[0m_core_env_config\u001b[0m\u001b[0;34m,\u001b[0m \u001b[0mdataset\u001b[0m\u001b[0;34m)\u001b[0m\u001b[0;34m\u001b[0m\u001b[0;34m\u001b[0m\u001b[0m\n\u001b[0m\u001b[1;32m     43\u001b[0m \u001b[0;34m\u001b[0m\u001b[0m\n\u001b[1;32m     44\u001b[0m     \u001b[0;32mdef\u001b[0m \u001b[0mreset\u001b[0m\u001b[0;34m(\u001b[0m\u001b[0mself\u001b[0m\u001b[0;34m)\u001b[0m\u001b[0;34m:\u001b[0m\u001b[0;34m\u001b[0m\u001b[0;34m\u001b[0m\u001b[0m\n",
      "\u001b[0;32m/srv/share3/hagrawal9/project/habitat/habitat-api/habitat/core/env.py\u001b[0m in \u001b[0;36m__init__\u001b[0;34m(self, config, dataset)\u001b[0m\n\u001b[1;32m    329\u001b[0m         \"\"\"\n\u001b[1;32m    330\u001b[0m \u001b[0;34m\u001b[0m\u001b[0m\n\u001b[0;32m--> 331\u001b[0;31m         \u001b[0mself\u001b[0m\u001b[0;34m.\u001b[0m\u001b[0m_env\u001b[0m \u001b[0;34m=\u001b[0m \u001b[0mEnv\u001b[0m\u001b[0;34m(\u001b[0m\u001b[0mconfig\u001b[0m\u001b[0;34m,\u001b[0m \u001b[0mdataset\u001b[0m\u001b[0;34m)\u001b[0m\u001b[0;34m\u001b[0m\u001b[0;34m\u001b[0m\u001b[0m\n\u001b[0m\u001b[1;32m    332\u001b[0m         \u001b[0mself\u001b[0m\u001b[0;34m.\u001b[0m\u001b[0mobservation_space\u001b[0m \u001b[0;34m=\u001b[0m \u001b[0mself\u001b[0m\u001b[0;34m.\u001b[0m\u001b[0m_env\u001b[0m\u001b[0;34m.\u001b[0m\u001b[0mobservation_space\u001b[0m\u001b[0;34m\u001b[0m\u001b[0;34m\u001b[0m\u001b[0m\n\u001b[1;32m    333\u001b[0m         \u001b[0mself\u001b[0m\u001b[0;34m.\u001b[0m\u001b[0maction_space\u001b[0m \u001b[0;34m=\u001b[0m \u001b[0mself\u001b[0m\u001b[0;34m.\u001b[0m\u001b[0m_env\u001b[0m\u001b[0;34m.\u001b[0m\u001b[0maction_space\u001b[0m\u001b[0;34m\u001b[0m\u001b[0;34m\u001b[0m\u001b[0m\n",
      "\u001b[0;32m/srv/share3/hagrawal9/project/habitat/habitat-api/habitat/core/env.py\u001b[0m in \u001b[0;36m__init__\u001b[0;34m(self, config, dataset)\u001b[0m\n\u001b[1;32m    109\u001b[0m             \u001b[0mconfig\u001b[0m\u001b[0;34m=\u001b[0m\u001b[0mself\u001b[0m\u001b[0;34m.\u001b[0m\u001b[0m_config\u001b[0m\u001b[0;34m.\u001b[0m\u001b[0mTASK\u001b[0m\u001b[0;34m,\u001b[0m\u001b[0;34m\u001b[0m\u001b[0;34m\u001b[0m\u001b[0m\n\u001b[1;32m    110\u001b[0m             \u001b[0msim\u001b[0m\u001b[0;34m=\u001b[0m\u001b[0mself\u001b[0m\u001b[0;34m.\u001b[0m\u001b[0m_sim\u001b[0m\u001b[0;34m,\u001b[0m\u001b[0;34m\u001b[0m\u001b[0;34m\u001b[0m\u001b[0m\n\u001b[0;32m--> 111\u001b[0;31m             \u001b[0mdataset\u001b[0m\u001b[0;34m=\u001b[0m\u001b[0mself\u001b[0m\u001b[0;34m.\u001b[0m\u001b[0m_dataset\u001b[0m\u001b[0;34m,\u001b[0m\u001b[0;34m\u001b[0m\u001b[0;34m\u001b[0m\u001b[0m\n\u001b[0m\u001b[1;32m    112\u001b[0m         )\n\u001b[1;32m    113\u001b[0m         self.observation_space = SpaceDict(\n",
      "\u001b[0;32m/srv/share3/hagrawal9/project/habitat/habitat-api/habitat/tasks/registration.py\u001b[0m in \u001b[0;36mmake_task\u001b[0;34m(id_task, **kwargs)\u001b[0m\n\u001b[1;32m     20\u001b[0m     )\n\u001b[1;32m     21\u001b[0m \u001b[0;34m\u001b[0m\u001b[0m\n\u001b[0;32m---> 22\u001b[0;31m     \u001b[0;32mreturn\u001b[0m \u001b[0m_task\u001b[0m\u001b[0;34m(\u001b[0m\u001b[0;34m**\u001b[0m\u001b[0mkwargs\u001b[0m\u001b[0;34m)\u001b[0m\u001b[0;34m\u001b[0m\u001b[0;34m\u001b[0m\u001b[0m\n\u001b[0m\u001b[1;32m     23\u001b[0m \u001b[0;34m\u001b[0m\u001b[0m\n\u001b[1;32m     24\u001b[0m \u001b[0;34m\u001b[0m\u001b[0m\n",
      "\u001b[0;32m/srv/share3/hagrawal9/project/habitat/habitat-api/habitat/tasks/rearrangement/rearrangement_task.py\u001b[0m in \u001b[0;36m__init__\u001b[0;34m(self, **kwargs)\u001b[0m\n\u001b[1;32m    459\u001b[0m \u001b[0;34m\u001b[0m\u001b[0m\n\u001b[1;32m    460\u001b[0m     \u001b[0;32mdef\u001b[0m \u001b[0m__init__\u001b[0m\u001b[0;34m(\u001b[0m\u001b[0mself\u001b[0m\u001b[0;34m,\u001b[0m \u001b[0;34m**\u001b[0m\u001b[0mkwargs\u001b[0m\u001b[0;34m)\u001b[0m \u001b[0;34m->\u001b[0m \u001b[0;32mNone\u001b[0m\u001b[0;34m:\u001b[0m\u001b[0;34m\u001b[0m\u001b[0;34m\u001b[0m\u001b[0m\n\u001b[0;32m--> 461\u001b[0;31m         \u001b[0msuper\u001b[0m\u001b[0;34m(\u001b[0m\u001b[0;34m)\u001b[0m\u001b[0;34m.\u001b[0m\u001b[0m__init__\u001b[0m\u001b[0;34m(\u001b[0m\u001b[0;34m**\u001b[0m\u001b[0mkwargs\u001b[0m\u001b[0;34m)\u001b[0m\u001b[0;34m\u001b[0m\u001b[0;34m\u001b[0m\u001b[0m\n\u001b[0m\u001b[1;32m    462\u001b[0m         \u001b[0mself\u001b[0m\u001b[0;34m.\u001b[0m\u001b[0m_episode_was_reset\u001b[0m \u001b[0;34m=\u001b[0m \u001b[0;32mFalse\u001b[0m\u001b[0;34m\u001b[0m\u001b[0;34m\u001b[0m\u001b[0m\n\u001b[1;32m    463\u001b[0m         \u001b[0mself\u001b[0m\u001b[0;34m.\u001b[0m\u001b[0mmisc_dict\u001b[0m \u001b[0;34m=\u001b[0m \u001b[0mdefaultdict\u001b[0m\u001b[0;34m(\u001b[0m\u001b[0;34m)\u001b[0m\u001b[0;34m\u001b[0m\u001b[0;34m\u001b[0m\u001b[0m\n",
      "\u001b[0;32m/srv/share3/hagrawal9/project/habitat/habitat-api/habitat/tasks/nav/nav.py\u001b[0m in \u001b[0;36m__init__\u001b[0;34m(self, config, sim, dataset)\u001b[0m\n\u001b[1;32m   1074\u001b[0m         \u001b[0mself\u001b[0m\u001b[0;34m,\u001b[0m \u001b[0mconfig\u001b[0m\u001b[0;34m:\u001b[0m \u001b[0mConfig\u001b[0m\u001b[0;34m,\u001b[0m \u001b[0msim\u001b[0m\u001b[0;34m:\u001b[0m \u001b[0mSimulator\u001b[0m\u001b[0;34m,\u001b[0m \u001b[0mdataset\u001b[0m\u001b[0;34m:\u001b[0m \u001b[0mOptional\u001b[0m\u001b[0;34m[\u001b[0m\u001b[0mDataset\u001b[0m\u001b[0;34m]\u001b[0m \u001b[0;34m=\u001b[0m \u001b[0;32mNone\u001b[0m\u001b[0;34m\u001b[0m\u001b[0;34m\u001b[0m\u001b[0m\n\u001b[1;32m   1075\u001b[0m     ) -> None:\n\u001b[0;32m-> 1076\u001b[0;31m         \u001b[0msuper\u001b[0m\u001b[0;34m(\u001b[0m\u001b[0;34m)\u001b[0m\u001b[0;34m.\u001b[0m\u001b[0m__init__\u001b[0m\u001b[0;34m(\u001b[0m\u001b[0mconfig\u001b[0m\u001b[0;34m=\u001b[0m\u001b[0mconfig\u001b[0m\u001b[0;34m,\u001b[0m \u001b[0msim\u001b[0m\u001b[0;34m=\u001b[0m\u001b[0msim\u001b[0m\u001b[0;34m,\u001b[0m \u001b[0mdataset\u001b[0m\u001b[0;34m=\u001b[0m\u001b[0mdataset\u001b[0m\u001b[0;34m)\u001b[0m\u001b[0;34m\u001b[0m\u001b[0;34m\u001b[0m\u001b[0m\n\u001b[0m\u001b[1;32m   1077\u001b[0m \u001b[0;34m\u001b[0m\u001b[0m\n\u001b[1;32m   1078\u001b[0m     def overwrite_sim_config(\n",
      "\u001b[0;32m/srv/share3/hagrawal9/project/habitat/habitat-api/habitat/core/embodied_task.py\u001b[0m in \u001b[0;36m__init__\u001b[0;34m(self, config, sim, dataset)\u001b[0m\n\u001b[1;32m    244\u001b[0m                 \u001b[0mentity_names\u001b[0m\u001b[0;34m=\u001b[0m\u001b[0mconfig\u001b[0m\u001b[0;34m.\u001b[0m\u001b[0mSENSORS\u001b[0m\u001b[0;34m,\u001b[0m\u001b[0;34m\u001b[0m\u001b[0;34m\u001b[0m\u001b[0m\n\u001b[1;32m    245\u001b[0m                 \u001b[0mregister_func\u001b[0m\u001b[0;34m=\u001b[0m\u001b[0mregistry\u001b[0m\u001b[0;34m.\u001b[0m\u001b[0mget_sensor\u001b[0m\u001b[0;34m,\u001b[0m\u001b[0;34m\u001b[0m\u001b[0;34m\u001b[0m\u001b[0m\n\u001b[0;32m--> 246\u001b[0;31m                 \u001b[0mentities_config\u001b[0m\u001b[0;34m=\u001b[0m\u001b[0mconfig\u001b[0m\u001b[0;34m,\u001b[0m\u001b[0;34m\u001b[0m\u001b[0;34m\u001b[0m\u001b[0m\n\u001b[0m\u001b[1;32m    247\u001b[0m             ).values()\n\u001b[1;32m    248\u001b[0m         )\n",
      "\u001b[0;32m/srv/share3/hagrawal9/project/habitat/habitat-api/habitat/core/embodied_task.py\u001b[0m in \u001b[0;36m_init_entities\u001b[0;34m(self, entity_names, register_func, entities_config)\u001b[0m\n\u001b[1;32m    264\u001b[0m         \u001b[0;32mfor\u001b[0m \u001b[0mentity_name\u001b[0m \u001b[0;32min\u001b[0m \u001b[0mentity_names\u001b[0m\u001b[0;34m:\u001b[0m\u001b[0;34m\u001b[0m\u001b[0;34m\u001b[0m\u001b[0m\n\u001b[1;32m    265\u001b[0m             \u001b[0;32mimport\u001b[0m \u001b[0mpdb\u001b[0m\u001b[0;34m\u001b[0m\u001b[0;34m\u001b[0m\u001b[0m\n\u001b[0;32m--> 266\u001b[0;31m             \u001b[0mpdb\u001b[0m\u001b[0;34m.\u001b[0m\u001b[0mset_trace\u001b[0m\u001b[0;34m(\u001b[0m\u001b[0;34m)\u001b[0m\u001b[0;34m\u001b[0m\u001b[0;34m\u001b[0m\u001b[0m\n\u001b[0m\u001b[1;32m    267\u001b[0m             \u001b[0mentity_cfg\u001b[0m \u001b[0;34m=\u001b[0m \u001b[0mgetattr\u001b[0m\u001b[0;34m(\u001b[0m\u001b[0mentities_config\u001b[0m\u001b[0;34m,\u001b[0m \u001b[0mentity_name\u001b[0m\u001b[0;34m)\u001b[0m\u001b[0;34m\u001b[0m\u001b[0;34m\u001b[0m\u001b[0m\n\u001b[1;32m    268\u001b[0m             \u001b[0mentity_type\u001b[0m \u001b[0;34m=\u001b[0m \u001b[0mregister_func\u001b[0m\u001b[0;34m(\u001b[0m\u001b[0mentity_cfg\u001b[0m\u001b[0;34m.\u001b[0m\u001b[0mTYPE\u001b[0m\u001b[0;34m)\u001b[0m\u001b[0;34m\u001b[0m\u001b[0;34m\u001b[0m\u001b[0m\n",
      "\u001b[0;32m/srv/share3/hagrawal9/project/habitat/habitat-api/habitat/core/embodied_task.py\u001b[0m in \u001b[0;36m_init_entities\u001b[0;34m(self, entity_names, register_func, entities_config)\u001b[0m\n\u001b[1;32m    264\u001b[0m         \u001b[0;32mfor\u001b[0m \u001b[0mentity_name\u001b[0m \u001b[0;32min\u001b[0m \u001b[0mentity_names\u001b[0m\u001b[0;34m:\u001b[0m\u001b[0;34m\u001b[0m\u001b[0;34m\u001b[0m\u001b[0m\n\u001b[1;32m    265\u001b[0m             \u001b[0;32mimport\u001b[0m \u001b[0mpdb\u001b[0m\u001b[0;34m\u001b[0m\u001b[0;34m\u001b[0m\u001b[0m\n\u001b[0;32m--> 266\u001b[0;31m             \u001b[0mpdb\u001b[0m\u001b[0;34m.\u001b[0m\u001b[0mset_trace\u001b[0m\u001b[0;34m(\u001b[0m\u001b[0;34m)\u001b[0m\u001b[0;34m\u001b[0m\u001b[0;34m\u001b[0m\u001b[0m\n\u001b[0m\u001b[1;32m    267\u001b[0m             \u001b[0mentity_cfg\u001b[0m \u001b[0;34m=\u001b[0m \u001b[0mgetattr\u001b[0m\u001b[0;34m(\u001b[0m\u001b[0mentities_config\u001b[0m\u001b[0;34m,\u001b[0m \u001b[0mentity_name\u001b[0m\u001b[0;34m)\u001b[0m\u001b[0;34m\u001b[0m\u001b[0;34m\u001b[0m\u001b[0m\n\u001b[1;32m    268\u001b[0m             \u001b[0mentity_type\u001b[0m \u001b[0;34m=\u001b[0m \u001b[0mregister_func\u001b[0m\u001b[0;34m(\u001b[0m\u001b[0mentity_cfg\u001b[0m\u001b[0;34m.\u001b[0m\u001b[0mTYPE\u001b[0m\u001b[0;34m)\u001b[0m\u001b[0;34m\u001b[0m\u001b[0;34m\u001b[0m\u001b[0m\n",
      "\u001b[0;32m/srv/share3/hagrawal9/envs/habitat/lib/python3.6/bdb.py\u001b[0m in \u001b[0;36mtrace_dispatch\u001b[0;34m(self, frame, event, arg)\u001b[0m\n\u001b[1;32m     49\u001b[0m             \u001b[0;32mreturn\u001b[0m \u001b[0;31m# None\u001b[0m\u001b[0;34m\u001b[0m\u001b[0;34m\u001b[0m\u001b[0m\n\u001b[1;32m     50\u001b[0m         \u001b[0;32mif\u001b[0m \u001b[0mevent\u001b[0m \u001b[0;34m==\u001b[0m \u001b[0;34m'line'\u001b[0m\u001b[0;34m:\u001b[0m\u001b[0;34m\u001b[0m\u001b[0;34m\u001b[0m\u001b[0m\n\u001b[0;32m---> 51\u001b[0;31m             \u001b[0;32mreturn\u001b[0m \u001b[0mself\u001b[0m\u001b[0;34m.\u001b[0m\u001b[0mdispatch_line\u001b[0m\u001b[0;34m(\u001b[0m\u001b[0mframe\u001b[0m\u001b[0;34m)\u001b[0m\u001b[0;34m\u001b[0m\u001b[0;34m\u001b[0m\u001b[0m\n\u001b[0m\u001b[1;32m     52\u001b[0m         \u001b[0;32mif\u001b[0m \u001b[0mevent\u001b[0m \u001b[0;34m==\u001b[0m \u001b[0;34m'call'\u001b[0m\u001b[0;34m:\u001b[0m\u001b[0;34m\u001b[0m\u001b[0;34m\u001b[0m\u001b[0m\n\u001b[1;32m     53\u001b[0m             \u001b[0;32mreturn\u001b[0m \u001b[0mself\u001b[0m\u001b[0;34m.\u001b[0m\u001b[0mdispatch_call\u001b[0m\u001b[0;34m(\u001b[0m\u001b[0mframe\u001b[0m\u001b[0;34m,\u001b[0m \u001b[0marg\u001b[0m\u001b[0;34m)\u001b[0m\u001b[0;34m\u001b[0m\u001b[0;34m\u001b[0m\u001b[0m\n",
      "\u001b[0;32m/srv/share3/hagrawal9/envs/habitat/lib/python3.6/bdb.py\u001b[0m in \u001b[0;36mdispatch_line\u001b[0;34m(self, frame)\u001b[0m\n\u001b[1;32m     68\u001b[0m         \u001b[0;32mif\u001b[0m \u001b[0mself\u001b[0m\u001b[0;34m.\u001b[0m\u001b[0mstop_here\u001b[0m\u001b[0;34m(\u001b[0m\u001b[0mframe\u001b[0m\u001b[0;34m)\u001b[0m \u001b[0;32mor\u001b[0m \u001b[0mself\u001b[0m\u001b[0;34m.\u001b[0m\u001b[0mbreak_here\u001b[0m\u001b[0;34m(\u001b[0m\u001b[0mframe\u001b[0m\u001b[0;34m)\u001b[0m\u001b[0;34m:\u001b[0m\u001b[0;34m\u001b[0m\u001b[0;34m\u001b[0m\u001b[0m\n\u001b[1;32m     69\u001b[0m             \u001b[0mself\u001b[0m\u001b[0;34m.\u001b[0m\u001b[0muser_line\u001b[0m\u001b[0;34m(\u001b[0m\u001b[0mframe\u001b[0m\u001b[0;34m)\u001b[0m\u001b[0;34m\u001b[0m\u001b[0;34m\u001b[0m\u001b[0m\n\u001b[0;32m---> 70\u001b[0;31m             \u001b[0;32mif\u001b[0m \u001b[0mself\u001b[0m\u001b[0;34m.\u001b[0m\u001b[0mquitting\u001b[0m\u001b[0;34m:\u001b[0m \u001b[0;32mraise\u001b[0m \u001b[0mBdbQuit\u001b[0m\u001b[0;34m\u001b[0m\u001b[0;34m\u001b[0m\u001b[0m\n\u001b[0m\u001b[1;32m     71\u001b[0m         \u001b[0;32mreturn\u001b[0m \u001b[0mself\u001b[0m\u001b[0;34m.\u001b[0m\u001b[0mtrace_dispatch\u001b[0m\u001b[0;34m\u001b[0m\u001b[0;34m\u001b[0m\u001b[0m\n\u001b[1;32m     72\u001b[0m \u001b[0;34m\u001b[0m\u001b[0m\n",
      "\u001b[0;31mBdbQuit\u001b[0m: "
     ]
    }
   ],
   "source": [
    "try:\n",
    "    env.close()\n",
    "except:\n",
    "    pass\n",
    "env = RearrangementRLEnv(config)"
   ]
  },
  {
   "cell_type": "code",
   "execution_count": 16,
   "metadata": {},
   "outputs": [
    {
     "data": {
      "text/plain": [
       "['GRIPPED_OBJECT_SENSOR',\n",
       " 'ALL_OBJECT_POSITIONS',\n",
       " 'ALL_OBJECT_GOALS',\n",
       " 'ORACLE_NEXT_OBJECT_SENSOR',\n",
       " 'RANDOM_OBJECT_SENSOR',\n",
       " 'CLOSEST_OBJECT_SENSOR',\n",
       " 'L2DIST_OBJECT_SENSOR']"
      ]
     },
     "execution_count": 16,
     "metadata": {},
     "output_type": "execute_result"
    }
   ],
   "source": [
    "config.TASK_CONFIG.TASK.SENSORS"
   ]
  },
  {
   "cell_type": "code",
   "execution_count": null,
   "metadata": {},
   "outputs": [],
   "source": [
    "obs = env.reset()\n",
    "obs_list = []\n",
    "plt.imshow(obs['rgb'])\n",
    "# Get closer to the object\n",
    "\n",
    "# obs = env.step(2)\n",
    "# obs_list.append(obs)\n",
    "# metrics = env.get_metrics()\n",
    "# print_info(obs, metrics)\n",
    "\n",
    "# Grab the object\n",
    "# obs = env.step(2)\n",
    "obs_list.append(obs)\n",
    "metrics = env.get_metrics()"
   ]
  },
  {
   "cell_type": "code",
   "execution_count": null,
   "metadata": {},
   "outputs": [],
   "source": [
    "obs = env.step(1)\n",
    "plt.imshow(obs['rgb'])"
   ]
  },
  {
   "cell_type": "code",
   "execution_count": null,
   "metadata": {},
   "outputs": [],
   "source": [
    "obs = env.step(2)\n",
    "plt.imshow(obs['rgb'])"
   ]
  },
  {
   "cell_type": "code",
   "execution_count": null,
   "metadata": {},
   "outputs": [],
   "source": [
    "obs = env.step(3)\n",
    "plt.imshow(obs['rgb'])"
   ]
  },
  {
   "cell_type": "code",
   "execution_count": null,
   "metadata": {},
   "outputs": [],
   "source": [
    "obs = env.step(4)\n",
    "plt.imshow(obs['rgb'])\n",
    "print(obs['gripped_object_id'])"
   ]
  },
  {
   "cell_type": "code",
   "execution_count": null,
   "metadata": {},
   "outputs": [],
   "source": []
  }
 ],
 "metadata": {
  "kernelspec": {
   "display_name": "Python 3",
   "language": "python",
   "name": "python3"
  },
  "language_info": {
   "codemirror_mode": {
    "name": "ipython",
    "version": 3
   },
   "file_extension": ".py",
   "mimetype": "text/x-python",
   "name": "python",
   "nbconvert_exporter": "python",
   "pygments_lexer": "ipython3",
   "version": "3.6.10"
  }
 },
 "nbformat": 4,
 "nbformat_minor": 4
}
