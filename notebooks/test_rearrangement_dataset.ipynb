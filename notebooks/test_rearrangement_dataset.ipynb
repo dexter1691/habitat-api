{
 "cells": [
  {
   "cell_type": "code",
   "execution_count": 1,
   "metadata": {},
   "outputs": [],
   "source": [
    "import sys "
   ]
  },
  {
   "cell_type": "code",
   "execution_count": null,
   "metadata": {},
   "outputs": [],
   "source": [
    "cd '/srv/share3/hagrawal9/project/habitat/habitat-api/'"
   ]
  },
  {
   "cell_type": "code",
   "execution_count": 3,
   "metadata": {},
   "outputs": [],
   "source": [
    "import gzip\n",
    "import json\n",
    "import os\n",
    "import sys\n",
    "from typing import Any, Dict, List, Optional, Type\n",
    "\n",
    "import attr\n",
    "import cv2\n",
    "import git\n",
    "import magnum as mn\n",
    "import numpy as np\n",
    "\n",
    "# %matplotlib inline\n",
    "from matplotlib import pyplot as plt\n",
    "from pathlib import Path\n",
    "from PIL import Image\n",
    "\n",
    "\n",
    "import habitat\n",
    "import habitat_sim\n",
    "from habitat.config import Config\n",
    "from habitat.core.registry import registry\n",
    "from habitat_sim.utils import viz_utils as vut\n",
    "from habitat.utils.visualizations import maps\n",
    "from habitat.utils.visualizations.utils import observations_to_image"
   ]
  },
  {
   "cell_type": "code",
   "execution_count": 4,
   "metadata": {},
   "outputs": [],
   "source": [
    "from habitat.datasets.rearrangement.rearrangement_dataset import RearrangementDatasetV0\n",
    "from habitat.tasks.rearrangement.rearrangement_task import RearrangementEpisode"
   ]
  },
  {
   "cell_type": "code",
   "execution_count": 5,
   "metadata": {},
   "outputs": [],
   "source": [
    "repo = git.Repo(\".\", search_parent_directories=True)\n",
    "dir_path = repo.working_tree_dir\n",
    "# %cd $dir_path\n",
    "data_path = os.path.join(dir_path, \"data\")\n",
    "output_directory = \"data/tutorials/output/\"  # @param {type:\"string\"}\n",
    "output_path = os.path.join(dir_path, output_directory)"
   ]
  },
  {
   "cell_type": "code",
   "execution_count": 6,
   "metadata": {},
   "outputs": [],
   "source": [
    "config = habitat.get_config(\"configs/tasks/rearrangement_gibson.yaml\")"
   ]
  },
  {
   "cell_type": "code",
   "execution_count": 7,
   "metadata": {},
   "outputs": [],
   "source": [
    "config.defrost()\n",
    "config.TASK.MEASUREMENTS = ['OBJECT_TO_GOAL_DISTANCE', 'AGENT_TO_OBJECT_DISTANCE', 'TOP_DOWN_MAP']\n",
    "config.freeze()"
   ]
  },
  {
   "cell_type": "code",
   "execution_count": 8,
   "metadata": {},
   "outputs": [],
   "source": [
    "def make_video_cv2(\n",
    "    observations, cross_hair=None, prefix=\"\", open_vid=True, fps=60\n",
    "):\n",
    "    sensor_keys = list(observations[0])\n",
    "    videodims = observations[0][sensor_keys[0]].shape\n",
    "    videodims = (videodims[1], videodims[0])  # flip to w,h order\n",
    "    print(videodims)\n",
    "    video_file = output_path + prefix + \".mp4\"\n",
    "    print(\"Encoding the video: %s \" % video_file)\n",
    "    writer = vut.get_fast_video_writer(video_file, fps=fps)\n",
    "    for ob in observations:\n",
    "        # If in RGB/RGBA format, remove the alpha channel\n",
    "        rgb_im_1st_person = cv2.cvtColor(ob[\"rgb\"], cv2.COLOR_RGBA2RGB)\n",
    "        if cross_hair is not None:\n",
    "            rgb_im_1st_person[\n",
    "                cross_hair[0] - 2 : cross_hair[0] + 2,\n",
    "                cross_hair[1] - 2 : cross_hair[1] + 2,\n",
    "            ] = [255, 0, 0]\n",
    "\n",
    "        if rgb_im_1st_person.shape[:2] != videodims:\n",
    "            rgb_im_1st_person = cv2.resize(\n",
    "                rgb_im_1st_person, videodims, interpolation=cv2.INTER_AREA\n",
    "            )\n",
    "        # write the 1st person observation to video\n",
    "        writer.append_data(rgb_im_1st_person)\n",
    "    writer.close()\n",
    "\n",
    "    if open_vid:\n",
    "        print(\"Displaying video\")\n",
    "        vut.display_video(video_file)\n"
   ]
  },
  {
   "cell_type": "code",
   "execution_count": 9,
   "metadata": {},
   "outputs": [],
   "source": [
    "def print_info(obs, metrics):\n",
    "    print(\n",
    "        \"Gripped Object: {}, Distance To Object: {}, Distance To Goal: {}\".format(\n",
    "            obs[\"gripped_object_id\"],\n",
    "            metrics[\"agent_to_object_distance\"],\n",
    "            metrics[\"object_to_goal_distance\"],\n",
    "        )\n",
    "    )"
   ]
  },
  {
   "cell_type": "code",
   "execution_count": 10,
   "metadata": {},
   "outputs": [],
   "source": [
    "if __name__ == \"__main__\":\n",
    "    import argparse\n",
    "\n",
    "    parser = argparse.ArgumentParser()\n",
    "    parser.add_argument(\"--no-display\", dest=\"display\", action=\"store_false\")\n",
    "    parser.add_argument(\n",
    "        \"--no-make-video\", dest=\"make_video\", action=\"store_false\"\n",
    "    )\n",
    "    parser.set_defaults(show_video=True, make_video=True)\n",
    "    args, _ = parser.parse_known_args()\n",
    "    show_video = args.display\n",
    "    display = args.display\n",
    "    make_video = args.make_video\n",
    "else:\n",
    "    show_video = False\n",
    "    make_video = False\n",
    "    display = False"
   ]
  },
  {
   "cell_type": "code",
   "execution_count": 11,
   "metadata": {},
   "outputs": [
    {
     "name": "stderr",
     "output_type": "stream",
     "text": [
      "2020-10-01 03:44:17,434 Initializing dataset RearrangementDataset-v0\n",
      "2020-10-01 03:44:17,439 initializing sim RearrangementSim-v0\n",
      "I1001 03:44:21.868749 42181 simulator.py:168] Loaded navmesh data/scene_datasets/gibson_train_val/Barboursville.navmesh\n",
      "I1001 03:44:21.870619 42181 simulator.py:180] Recomputing navmesh for agent's height 0.88 and radius 0.18.\n",
      "2020-10-01 03:44:21,968 Initializing task RearrangementTask-v0\n"
     ]
    }
   ],
   "source": [
    "try:\n",
    "    env.close()\n",
    "except:\n",
    "    pass\n",
    "env = habitat.Env(config)"
   ]
  },
  {
   "cell_type": "code",
   "execution_count": 12,
   "metadata": {},
   "outputs": [
    {
     "name": "stdout",
     "output_type": "stream",
     "text": [
      "rotating agent!\n"
     ]
    }
   ],
   "source": [
    "obs = env.reset()\n",
    "obs_list = []\n",
    "# Get closer to the object\n",
    "\n",
    "obs = env.step(1)\n",
    "# obs_list.append(obs)\n",
    "# metrics = env.get_metrics()\n",
    "# print_info(obs, metrics)\n",
    "\n",
    "# Grab the object\n",
    "# obs = env.step(2)\n",
    "obs_list.append(obs)\n",
    "metrics = env.get_metrics()"
   ]
  },
  {
   "cell_type": "code",
   "execution_count": 13,
   "metadata": {},
   "outputs": [
    {
     "name": "stdout",
     "output_type": "stream",
     "text": [
      "(640, 480)\n",
      "Encoding the video: /coc/pskynet3/hagrawal9/project/habitat/habitat-api/data/tutorials/output/hard-coded-agent.mp4 \n",
      "Displaying video\n"
     ]
    },
    {
     "data": {
      "text/html": [
       "<video alt=\"test\" autoplay\n",
       "          loop controls style=\"height: 400px;\">\n",
       "          <source src=\"data:video/mp4';base64,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\" type=\"video/mp4\" />\n",
       "          </video>"
      ],
      "text/plain": [
       "<IPython.core.display.HTML object>"
      ]
     },
     "metadata": {},
     "output_type": "display_data"
    }
   ],
   "source": [
    "make_video_cv2(\n",
    "    obs_list,\n",
    "    [240, 320],\n",
    "    \"hard-coded-agent\",\n",
    "    fps=5.0, \n",
    "    open_vid=show_video,\n",
    ")"
   ]
  },
  {
   "cell_type": "code",
   "execution_count": 23,
   "metadata": {},
   "outputs": [
    {
     "data": {
      "text/plain": [
       "<matplotlib.image.AxesImage at 0x7fa26338c908>"
      ]
     },
     "execution_count": 23,
     "metadata": {},
     "output_type": "execute_result"
    },
    {
     "data": {
      "image/png": "[encoded data removed]",
      "text/plain": [
       "<Figure size 432x288 with 1 Axes>"
      ]
     },
     "metadata": {
      "needs_background": "light"
     },
     "output_type": "display_data"
    }
   ],
   "source": [
    "navmesh_settings = habitat_sim.NavMeshSettings()\n",
    "navmesh_settings.set_defaults()\n",
    "navmesh_settings.agent_radius = 0.2\n",
    "navmesh_settings.agent_height = 0.88\n",
    "navmesh_settings.agent_max_climb = 0.1\n",
    "env._sim.recompute_navmesh(env._sim.pathfinder, env._sim.navmesh_settings, False)\n",
    "\n",
    "top_down_map = maps.get_topdown_map(\n",
    "    env._sim.pathfinder,\n",
    "    env._sim.get_agent(0).state.position[1],\n",
    "    1024\n",
    ")\n",
    "\n",
    "top_down_map = maps.colorize_topdown_map(top_down_map)\n",
    "agent_position = env._sim.get_agent_state().position\n",
    "a_x, a_y = maps.to_grid(\n",
    "    agent_position[2],\n",
    "    agent_position[0],\n",
    "    top_down_map.shape[0:2],\n",
    "    sim=env._sim,\n",
    ")\n",
    "\n",
    "episode = env.current_episode\n",
    "object_positions = [obj.position for obj in episode.objects]\n",
    "goal_positions = [obj.position for obj in episode.goals]\n",
    "\n",
    "grid_object_positions = []\n",
    "grid_goal_positions = []\n",
    "\n",
    "for i, obj_pos in enumerate(object_positions):\n",
    "    tdm_pos = maps.to_grid(\n",
    "        obj_pos[2],\n",
    "        obj_pos[0],\n",
    "        top_down_map.shape[0:2],\n",
    "        sim=env._sim,\n",
    "    )\n",
    "    grid_object_positions.append(tdm_pos)\n",
    "\n",
    "# draw the objectgoal positions.\n",
    "for i, goal_pos in enumerate(goal_positions):\n",
    "    tdm_pos = maps.to_grid(\n",
    "        goal_pos[2],\n",
    "        goal_pos[0],\n",
    "        top_down_map.shape[0:2],\n",
    "        sim=env._sim,\n",
    "    )\n",
    "\n",
    "    grid_goal_positions.append(tdm_pos)\n",
    "    \n",
    "# top_down_map = maps.draw_agent(\n",
    "#     image=top_down_map,\n",
    "#     agent_center_coord=[a_x, a_y],\n",
    "#     agent_rotation=metrics[\"top_down_map\"][\"agent_angle\"],\n",
    "#     agent_radius_px=min(top_down_map.shape[0:2]) / 32,\n",
    "# )\n",
    "\n",
    "# top_down_map = maps.draw_object_info(top_down_map, grid_object_positions, grid_goal_positions)\n",
    "\n",
    "plt.imshow(top_down_map)"
   ]
  },
  {
   "cell_type": "code",
   "execution_count": 15,
   "metadata": {},
   "outputs": [
    {
     "data": {
      "text/plain": [
       "<matplotlib.image.AxesImage at 0x7fa2601a52e8>"
      ]
     },
     "execution_count": 15,
     "metadata": {},
     "output_type": "execute_result"
    },
    {
     "data": {
      "image/png": "[encoded data removed]",
      "text/plain": [
       "<Figure size 432x288 with 1 Axes>"
      ]
     },
     "metadata": {
      "needs_background": "light"
     },
     "output_type": "display_data"
    }
   ],
   "source": [
    "top_down_map = maps.draw_object_info(top_down_map, grid_object_positions, grid_goal_positions)\n",
    "plt.imshow(top_down_map)"
   ]
  },
  {
   "cell_type": "code",
   "execution_count": 75,
   "metadata": {},
   "outputs": [
    {
     "data": {
      "text/plain": [
       "<matplotlib.image.AxesImage at 0x7fa1c833ff98>"
      ]
     },
     "execution_count": 75,
     "metadata": {},
     "output_type": "execute_result"
    },
    {
     "data": {
      "image/png": "[encoded data removed]",
      "text/plain": [
       "<Figure size 432x288 with 1 Axes>"
      ]
     },
     "metadata": {
      "needs_background": "light"
     },
     "output_type": "display_data"
    }
   ],
   "source": [
    "tdmap = top_down_map[:, :, 0]\n",
    "tdmap[tdmap < 200] = 0\n",
    "tdmap = np.invert(tdmap)\n",
    "plt.imshow(tdmap, cmap=\"gray\")"
   ]
  },
  {
   "cell_type": "code",
   "execution_count": 76,
   "metadata": {},
   "outputs": [],
   "source": [
    "import cv2\n",
    "import numpy as np\n",
    "import skfmm\n",
    "from numpy import ma"
   ]
  },
  {
   "cell_type": "code",
   "execution_count": 104,
   "metadata": {},
   "outputs": [],
   "source": [
    "def compute_distance_using_fmm(traversible_map, anchor_point):\n",
    "    traversible_ma = ma.masked_values(traversible_map * 1, 0)\n",
    "    traversible_ma[anchor_point[0], anchor_point[1]] = 0\n",
    "    dmap = skfmm.distance(traversible_ma, dx=1)\n",
    "    dmap_mask = np.invert(np.isnan(ma.filled(dmap, np.nan)))\n",
    "    dmap = ma.filled(dmap, np.inf)\n",
    "    return dmap"
   ]
  },
  {
   "cell_type": "code",
   "execution_count": 105,
   "metadata": {},
   "outputs": [],
   "source": [
    "def find_shortest_path(dmap, point):\n",
    "    return dmap[point[0], point[1]]\n",
    "\n",
    "def find_all_pair_shortest_path(tdmap, agent_pos, object_positions, goal_positions):\n",
    "    shortest_path_lengths = []\n",
    "    for p1 in [agent_pos] + object_positions + goal_positions:\n",
    "        dmap = compute_distance_using_fmm(tdmap, p1)\n",
    "        path_lengths = []\n",
    "        for p2 in [agent_pos] + object_positions + goal_positions :\n",
    "            path_lengths.append(find_shortest_path(dmap, p2))\n",
    "        shortest_path_lengths.append(path_lengths)\n",
    "    return shortest_path_lengths"
   ]
  },
  {
   "cell_type": "code",
   "execution_count": 106,
   "metadata": {},
   "outputs": [],
   "source": [
    "tdmap[tdmap > 1] = 1\n",
    "dmat = find_all_pair_shortest_path(tdmap, [0, 0], grid_object_positions, grid_goal_positions)"
   ]
  },
  {
   "cell_type": "code",
   "execution_count": 107,
   "metadata": {},
   "outputs": [
    {
     "data": {
      "text/plain": [
       "[[0.0, inf, inf, inf, inf, inf, inf, inf, inf],\n",
       " [inf,\n",
       "  0.0,\n",
       "  447.1961867182115,\n",
       "  302.9102914799196,\n",
       "  306.3485898174832,\n",
       "  588.4638052562881,\n",
       "  162.83004109517327,\n",
       "  435.4015313883409,\n",
       "  239.93508573081044],\n",
       " [inf,\n",
       "  447.1572391999122,\n",
       "  0.0,\n",
       "  746.11436138278,\n",
       "  172.9436718577299,\n",
       "  936.3023750766032,\n",
       "  554.252208466841,\n",
       "  171.2885441545613,\n",
       "  669.5249940216996],\n",
       " [inf,\n",
       "  302.9102914799196,\n",
       "  746.11436138278,\n",
       "  0.0,\n",
       "  592.1813598878548,\n",
       "  462.0398619106146,\n",
       "  219.63930765730913,\n",
       "  717.0467470300175,\n",
       "  245.82793860507113],\n",
       " [inf,\n",
       "  306.34858964083145,\n",
       "  172.9436718577299,\n",
       "  592.1826125596001,\n",
       "  0.0,\n",
       "  774.356458992537,\n",
       "  392.2967611096616,\n",
       "  136.24814571286046,\n",
       "  533.6849710705019],\n",
       " [inf,\n",
       "  588.468224441596,\n",
       "  936.4718378017355,\n",
       "  462.0398619106146,\n",
       "  774.3772905954186,\n",
       "  0.0,\n",
       "  427.2026835123324,\n",
       "  899.3819683431259,\n",
       "  684.4073643389968],\n",
       " [inf,\n",
       "  162.83004109517327,\n",
       "  554.2244189267325,\n",
       "  219.63930765730913,\n",
       "  392.2930358089985,\n",
       "  427.202665236825,\n",
       "  0.0,\n",
       "  517.2977135542444,\n",
       "  305.78032769107585],\n",
       " [inf,\n",
       "  435.3303260608697,\n",
       "  171.2885441545613,\n",
       "  717.2214502229082,\n",
       "  136.24814571286046,\n",
       "  899.3349145221687,\n",
       "  517.2752166371507,\n",
       "  0.0,\n",
       "  667.0966740894278],\n",
       " [inf,\n",
       "  239.93508573081044,\n",
       "  669.7478315760649,\n",
       "  245.82793860507113,\n",
       "  533.6609200296544,\n",
       "  684.4073643389968,\n",
       "  305.78032769107585,\n",
       "  667.0187227456789,\n",
       "  0.0]]"
      ]
     },
     "execution_count": 107,
     "metadata": {},
     "output_type": "execute_result"
    }
   ],
   "source": [
    "dmat"
   ]
  },
  {
   "cell_type": "code",
   "execution_count": null,
   "metadata": {},
   "outputs": [],
   "source": []
  }
 ],
 "metadata": {
  "kernelspec": {
   "display_name": "Python 3",
   "language": "python",
   "name": "python3"
  },
  "language_info": {
   "codemirror_mode": {
    "name": "ipython",
    "version": 3
   },
   "file_extension": ".py",
   "mimetype": "text/x-python",
   "name": "python",
   "nbconvert_exporter": "python",
   "pygments_lexer": "ipython3",
   "version": "3.6.10"
  }
 },
 "nbformat": 4,
 "nbformat_minor": 4
}
