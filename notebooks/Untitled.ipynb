{
 "cells": [
  {
   "cell_type": "code",
   "execution_count": 2,
   "metadata": {},
   "outputs": [],
   "source": [
    "import sys\n",
    "# sys.path.append('/Users/harsh/Work/habitat-sim/')\n",
    "# sys.path.append('/Users/harsh/Work/habitat-api/')"
   ]
  },
  {
   "cell_type": "code",
   "execution_count": 3,
   "metadata": {},
   "outputs": [
    {
     "name": "stdout",
     "output_type": "stream",
     "text": [
      "/coc/testnvme/hagrawal9/project/habitat/habitat-api\n"
     ]
    }
   ],
   "source": [
    "cd '/srv/flash1/hagrawal9/project/habitat/habitat-api/'"
   ]
  },
  {
   "cell_type": "code",
   "execution_count": 4,
   "metadata": {},
   "outputs": [],
   "source": [
    "import argparse\n",
    "import os\n",
    "import random\n",
    "import time\n",
    "import traceback\n",
    "import ipdb\n",
    "from collections import defaultdict, deque\n",
    "from typing import Any, Dict, List, Optional\n",
    "\n",
    "import numpy as np\n",
    "import torch\n",
    "import tqdm\n",
    "import shortuuid\n",
    "\n",
    "from gym import spaces\n",
    "from torch.optim.lr_scheduler import LambdaLR\n",
    "from habitat import Config, logger\n",
    "from habitat.utils.visualizations.utils import observations_to_image\n",
    "from habitat_baselines.common.base_trainer import BaseRLTrainer\n",
    "from habitat_baselines.common.baseline_registry import baseline_registry\n",
    "from habitat_baselines.common.env_utils import construct_envs\n",
    "from habitat_baselines.common.environments import get_env_class\n",
    "from habitat_baselines.common.rollout_storage import RolloutStorage\n",
    "from habitat_baselines.common.tensorboard_utils import TensorboardWriter\n",
    "from habitat_baselines.common.utils import (\n",
    "    batch_obs,\n",
    "    generate_video,\n",
    "    linear_decay,\n",
    ")\n",
    "from habitat_baselines.rl.ppo import PPO\n",
    "from habitat_baselines.config.default import get_config\n",
    "from rearrangement.baselines.policy import SingleObjectResNetPolicy"
   ]
  },
  {
   "cell_type": "code",
   "execution_count": 5,
   "metadata": {},
   "outputs": [],
   "source": [
    "erase = '\\x1b[1A\\x1b[2K'"
   ]
  },
  {
   "cell_type": "code",
   "execution_count": null,
   "metadata": {},
   "outputs": [],
   "source": []
  }
 ],
 "metadata": {
  "kernelspec": {
   "display_name": "Python 3",
   "language": "python",
   "name": "python3"
  },
  "language_info": {
   "codemirror_mode": {
    "name": "ipython",
    "version": 3
   },
   "file_extension": ".py",
   "mimetype": "text/x-python",
   "name": "python",
   "nbconvert_exporter": "python",
   "pygments_lexer": "ipython3",
   "version": "3.6.10"
  }
 },
 "nbformat": 4,
 "nbformat_minor": 4
}
