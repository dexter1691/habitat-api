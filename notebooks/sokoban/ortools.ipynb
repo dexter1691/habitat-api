{
 "cells": [
  {
   "cell_type": "code",
   "execution_count": 1,
   "metadata": {},
   "outputs": [],
   "source": [
    "import sys\n",
    "sys.path.append('/srv/share3/hagrawal9/project/sokoban/habitat-sim/')\n",
    "sys.path.append('/srv/share3/hagrawal9/project/sokoban/habitat-api/')"
   ]
  },
  {
   "cell_type": "code",
   "execution_count": 3,
   "metadata": {},
   "outputs": [
    {
     "name": "stdout",
     "output_type": "stream",
     "text": [
      "/coc/pskynet3/hagrawal9/project/sokoban/habitat-api\n"
     ]
    }
   ],
   "source": [
    "cd '/srv/share3/hagrawal9/project/sokoban/habitat-api/'"
   ]
  },
  {
   "cell_type": "code",
   "execution_count": 4,
   "metadata": {},
   "outputs": [],
   "source": [
    "import gzip\n",
    "import habitat\n",
    "import habitat_sim\n",
    "import habitat_sim.bindings as hsim\n",
    "import json\n",
    "import matplotlib.pyplot as plt\n",
    "import magnum as mn\n",
    "import numpy as np\n",
    "import os\n",
    "import tqdm \n",
    "\n",
    "import habitat_sim\n",
    "\n",
    "from PIL import Image\n",
    "from typing import Any, Dict, List, Optional, Union\n",
    "\n",
    "from habitat import Config, logger\n",
    "from habitat import make_dataset\n",
    "from habitat.core.simulator import AgentState\n",
    "# from habitat.tasks.nav.shortest_path_follower import ShortestPathFollower\n",
    "from habitat.sims.habitat_simulator.actions import HabitatSimActions\n",
    "from habitat.sims.habitat_simulator.habitat_simulator import HabitatSim\n",
    "from habitat.utils.visualizations.utils import observations_to_image, images_to_video\n",
    "from habitat.tasks.sokoban.sokoban_vis_utils import SokobanVisualization\n",
    "from habitat.utils.visualizations.maps import *\n",
    "from habitat.utils.geometry_utils import (\n",
    "    angle_between_quaternions,\n",
    "    quaternion_from_two_vectors,\n",
    ")\n",
    "# from habitat.tasks.nav.shortest_path_follower import ShortestPathFollower\n",
    "from habitat.tasks.utils import (\n",
    "    cartesian_to_polar,\n",
    "    quaternion_from_coeff,\n",
    "    quaternion_rotate_vector\n",
    ")\n",
    "\n",
    "from habitat_baselines.common.base_trainer import BaseRLTrainer\n",
    "from habitat_baselines.common.baseline_registry import baseline_registry\n",
    "from habitat_baselines.common.env_utils import construct_envs\n",
    "from habitat_baselines.common.environments import get_env_class, SokobanRLEnv\n",
    "from habitat_baselines.common.rollout_storage import RolloutStorage\n",
    "from habitat_baselines.common.tensorboard_utils import TensorboardWriter\n",
    "from habitat_baselines.common.utils import (\n",
    "    batch_obs,\n",
    "    generate_video,\n",
    "    linear_decay,\n",
    ")\n",
    "from habitat_baselines.config.default import get_config\n",
    "from habitat_baselines.rl.ppo import PPO, PointNavBaselinePolicy\n",
    "\n",
    "from habitat_sim.physics import MotionType\n",
    "from habitat_sim.attributes import PhysicsObjectAttributes\n",
    "from habitat_sim.helper import *\n",
    "\n",
    "\n",
    "EPSILON = 1e-6\n",
    "\n",
    "\n",
    "def action_to_one_hot(action: int) -> np.array:\n",
    "    one_hot = np.zeros(len(HabitatSimActions), dtype=np.float32)\n",
    "    one_hot[action] = 1\n",
    "    return one_hot\n",
    "\n",
    "%matplotlib inline"
   ]
  },
  {
   "cell_type": "code",
   "execution_count": 5,
   "metadata": {},
   "outputs": [],
   "source": [
    "from examples.run_ortools import *"
   ]
  },
  {
   "cell_type": "code",
   "execution_count": 6,
   "metadata": {},
   "outputs": [],
   "source": [
    "import habitat_sim"
   ]
  },
  {
   "cell_type": "code",
   "execution_count": 7,
   "metadata": {},
   "outputs": [],
   "source": [
    "content_path = \"data/datasets/sokoban/coda/v1/train/content/object_5_scene_12_episode_1_gibson2.json.gz\""
   ]
  },
  {
   "cell_type": "code",
   "execution_count": 8,
   "metadata": {},
   "outputs": [],
   "source": [
    "config = get_config(\"habitat_baselines/config/sokoban/pickup_order_ddppo_obj_5_scene_100.yaml\")"
   ]
  },
  {
   "cell_type": "code",
   "execution_count": 9,
   "metadata": {},
   "outputs": [],
   "source": [
    "config.defrost()\n",
    "config.SENSORS = ['RGB_SENSOR', 'DEPTH_SENSOR']\n",
    "config.NUM_PROCESSES = 1\n",
    "config.TASK_CONFIG.ENVIRONMENT.MAX_EPISODE_STEPS = 1000\n",
    "config.TASK_CONFIG.TASK.SENSORS = ['OBJECT_GOAL', 'GRIPPED_OBJECT_SENSOR']\n",
    "config.TASK_CONFIG.TASK.POSSIBLE_ACTIONS = ['STOP', 'MOVE_FORWARD', 'TURN_LEFT', 'TURN_RIGHT', 'GRAB_RELEASE']\n",
    "config.TASK_CONFIG.DATASET.CONTENT_SCENES = ['object_5_scene_28_episode_1000_gibson']\n",
    "config.TASK_CONFIG.ENVIRONMENT.ITERATOR_OPTIONS.SHUFFLE = False\n",
    "config.freeze()"
   ]
  },
  {
   "cell_type": "code",
   "execution_count": 10,
   "metadata": {},
   "outputs": [
    {
     "name": "stderr",
     "output_type": "stream",
     "text": [
      "2020-07-14 05:11:28,109 Initializing dataset Sokoban-v0\n"
     ]
    }
   ],
   "source": [
    "dataset = make_dataset(config.TASK_CONFIG.DATASET.TYPE, config=config.TASK_CONFIG.DATASET)"
   ]
  },
  {
   "cell_type": "code",
   "execution_count": 10,
   "metadata": {},
   "outputs": [],
   "source": [
    "# env.close()"
   ]
  },
  {
   "cell_type": "code",
   "execution_count": 22,
   "metadata": {},
   "outputs": [],
   "source": [
    "env.close()"
   ]
  },
  {
   "cell_type": "code",
   "execution_count": 23,
   "metadata": {},
   "outputs": [
    {
     "name": "stderr",
     "output_type": "stream",
     "text": [
      "2020-07-14 05:34:17,152 initializing sim SokobanSim-v0\n"
     ]
    },
    {
     "name": "stdout",
     "output_type": "stream",
     "text": [
      "seed: 100\n"
     ]
    },
    {
     "name": "stderr",
     "output_type": "stream",
     "text": [
      "2020-07-14 05:34:18,890 Initializing task Sokoban-v0\n"
     ]
    },
    {
     "name": "stdout",
     "output_type": "stream",
     "text": [
      "Possible Actions: OrderedDict([('STOP', <habitat.tasks.nav.nav.StopAction object at 0x7fd89f61d128>), ('MOVE_FORWARD', <habitat.tasks.nav.nav.MoveForwardAction object at 0x7fd89f61d940>), ('TURN_LEFT', <habitat.tasks.nav.nav.TurnLeftAction object at 0x7fd89f61d7f0>), ('TURN_RIGHT', <habitat.tasks.nav.nav.TurnRightAction object at 0x7fd89f61d0b8>), ('GRAB_RELEASE', <habitat.tasks.sokoban.sokoban_task.GrabOrReleaseAction object at 0x7fd89f61da58>)])\n"
     ]
    }
   ],
   "source": [
    "env = SokobanRLEnv(config=config, dataset=dataset)"
   ]
  },
  {
   "cell_type": "code",
   "execution_count": 24,
   "metadata": {},
   "outputs": [
    {
     "data": {
      "text/plain": [
       "28000"
      ]
     },
     "execution_count": 24,
     "metadata": {},
     "output_type": "execute_result"
    }
   ],
   "source": [
    "len(dataset.episodes)"
   ]
  },
  {
   "cell_type": "code",
   "execution_count": null,
   "metadata": {},
   "outputs": [
    {
     "name": "stderr",
     "output_type": "stream",
     "text": [
      "EpisodeID:data/scene_datasets/gibson_train_val/Hainesburg.glb, order: [3, 2, 1, 4], fcounter:12:   4%|▍         | 1154/28000 [05:23<2:03:35,  3.62it/s]     "
     ]
    }
   ],
   "source": [
    "count = 0\n",
    "failed_pickup_order = 0\n",
    "failed_episodes = []\n",
    "\n",
    "demonstrations = []\n",
    "pbar = tqdm.tqdm(range(len(env.episodes)))\n",
    "for i in pbar:\n",
    "    obs = env.reset()\n",
    "    sim = env._env._sim._sim\n",
    "    sim.recompute_navmesh(\n",
    "        sim.pathfinder, \n",
    "        sim.navmesh_settings,\n",
    "        include_static_objects=False\n",
    "    )\n",
    "    route_indexes, pickup_order = find_shortest_path_for_multiple_objects(env, sim, sim.pathfinder)\n",
    "    images = []\n",
    "    \n",
    "#     if int(env.current_episode.episode_id) not in failed_ids:\n",
    "#         continue\n",
    "    if pickup_order is None:\n",
    "        failed_pickup_order += 1\n",
    "        failed_episodes.append(env.current_episode)\n",
    "        pickup_order = []\n",
    "        # break\n",
    "#         order = np.arange(len(env.habitat_env.current_episode.objects)).tolist()\n",
    "#         pickup_order = random.shuffle(order)\n",
    "#         continue\n",
    "    \n",
    "    pbar.set_description(\"EpisodeID:{}, order: {}, fcounter:{}\".format(env.current_episode.scene_id, pickup_order, failed_pickup_order))\n",
    "    \n",
    "    dem = {}\n",
    "    dem['episode_id'] = env.habitat_env.current_episode.episode_id\n",
    "    dem['actions'] = []\n",
    "    dem['is_grab_success'] = False\n",
    "    dem['pickup_order'] = pickup_order\n",
    "    \n",
    "#     for obj_id in pickup_order:\n",
    "#         val, obs, reward, done, infos, dem, images = shortest_path_example(config.TASK_CONFIG, env, \"exact_gradient\", obj_id, images, dem)\n",
    "        \n",
    "#         if val == False:\n",
    "#             break\n",
    "    \n",
    "    \n",
    "#     if val == False or done == False:\n",
    "#         count += 1\n",
    "#         print(\"pickup order: {}; current_id: {}\".format(pickup_order, obj_id))\n",
    "#         print(\"Infos:\", infos['object_distance_to_goal'])\n",
    "#         print(\"Reason\", dem['reason'])\n",
    "#         print('failed: {}'.format(env.current_episode.episode_id))\n",
    "        \n",
    "#         images_to_video(images, 'data/videos', 'fail_trajectory'+str(dem['episode_id']))\n",
    "        \n",
    "\n",
    "#     images_to_video(images, 'data/videos', 'success_trajectory'+str(dem['episode_id']))\n",
    "    \n",
    "#     print(\"i: {}, id:{}, success: {}, count={}, done={}, dist_to_goal: {}\".format(\n",
    "#         i, dem['episode_id'], val, count, done, [x for x in infos['object_distance_to_goal'].values()]\n",
    "#     ))\n",
    "#     print('--- ')\n",
    "    demonstrations.append(dem)\n",
    "    "
   ]
  },
  {
   "cell_type": "code",
   "execution_count": null,
   "metadata": {},
   "outputs": [],
   "source": [
    "object_positions = [obj.position for obj in env.current_episode.objects]\n",
    "goal_positions = [obj.position for obj in env.current_episode.goals]\n",
    "env._env._sim.geodesic_distance(object_positions[0], object_positions[1])"
   ]
  },
  {
   "cell_type": "code",
   "execution_count": 28,
   "metadata": {},
   "outputs": [
    {
     "data": {
      "text/plain": [
       "1636"
      ]
     },
     "execution_count": 28,
     "metadata": {},
     "output_type": "execute_result"
    }
   ],
   "source": [
    "len(failed_episodes)"
   ]
  },
  {
   "cell_type": "code",
   "execution_count": 65,
   "metadata": {},
   "outputs": [],
   "source": [
    "demonstrations_dict = {}\n",
    "for demo in demonstrations:\n",
    "    if 'infos' in demo:\n",
    "        if 'object_goals' in demo['infos']:\n",
    "            for k, v in demo['infos']['object_goals'].items():\n",
    "                demo['infos']['object_goals'][k] = np.array(v).tolist()\n",
    "                \n",
    "    demonstrations_dict[demo['episode_id']] = demo"
   ]
  },
  {
   "cell_type": "code",
   "execution_count": 66,
   "metadata": {},
   "outputs": [],
   "source": [
    "with gzip.open('data/datasets/sokoban/coda/v1/train/content/object_5_scene_28_episode_1000_gibson.json.gz', \"rt\") as f:\n",
    "    episodes = json.load(f)"
   ]
  },
  {
   "cell_type": "code",
   "execution_count": 70,
   "metadata": {},
   "outputs": [],
   "source": [
    "for episode_id,demo  in demonstrations_dict.items():\n",
    "    episode_id = demo['episode_id']\n",
    "    episodes['episodes'][int(episode_id)]['demonstrations'] = demo"
   ]
  },
  {
   "cell_type": "code",
   "execution_count": 73,
   "metadata": {},
   "outputs": [],
   "source": [
    "failed_episode_ids = []\n",
    "for ep in failed_episodes:\n",
    "    failed_episode_ids.append(int(ep.episode_id))"
   ]
  },
  {
   "cell_type": "code",
   "execution_count": 96,
   "metadata": {},
   "outputs": [],
   "source": [
    "new_episodes = []\n",
    "for i, episode in enumerate(episodes['episodes']):\n",
    "    if i in failed_episode_ids:\n",
    "        new_episodes.append(episode)\n",
    "        "
   ]
  },
  {
   "cell_type": "code",
   "execution_count": 97,
   "metadata": {},
   "outputs": [],
   "source": [
    "with gzip.open('data/datasets/sokoban/coda/v1/train/content/failed_pickup_order_object_5_scene_28_episode_1000_gibson.json.gz', \"wt\") as f:\n",
    "    json.dump({'episodes':new_episodes}, f)"
   ]
  },
  {
   "cell_type": "code",
   "execution_count": null,
   "metadata": {},
   "outputs": [],
   "source": [
    "from typing import Tuple\n",
    "from collections import defaultdict"
   ]
  },
  {
   "cell_type": "code",
   "execution_count": null,
   "metadata": {},
   "outputs": [],
   "source": [
    "max_len = 0\n",
    "for episode in episodes['episodes']:\n",
    "    max_len = max(max_len, len(episode['demonstrations']['actions']))"
   ]
  },
  {
   "cell_type": "code",
   "execution_count": null,
   "metadata": {},
   "outputs": [],
   "source": [
    "unfinished_count = 0\n",
    "for episode in episodes['episodes']:\n",
    "    if str(episode['demonstrations']['actions'][-1]) != 'GRAB_RELEASE':\n",
    "        unfinished_count += 1\n",
    "        print(episode['demonstrations']['actions'][-1])"
   ]
  },
  {
   "cell_type": "code",
   "execution_count": null,
   "metadata": {},
   "outputs": [],
   "source": [
    "unfinished_count = 0\n",
    "for episode in episodes['episodes']:\n",
    "    if len(episode['objects']) >= 5:\n",
    "        print(episode['episode_id'])"
   ]
  },
  {
   "cell_type": "code",
   "execution_count": 46,
   "metadata": {},
   "outputs": [],
   "source": [
    "object_positions = [obj.position for obj in env.current_episode.objects]\n",
    "goal_positions = [obj.position for obj in env.current_episode.goals]"
   ]
  },
  {
   "cell_type": "code",
   "execution_count": 47,
   "metadata": {},
   "outputs": [
    {
     "name": "stdout",
     "output_type": "stream",
     "text": [
      "[[-0.01146458089351654, -3.3642377853393555, -0.41631799936294556], [1.898006796836853, -3.3642377853393555, -5.286407470703125]]\n",
      "[[-3.388432025909424, -3.3642377853393555, -1.74472177028656], [-5.9047088623046875, -3.3642377853393555, -5.7958083152771]]\n",
      "Vector(0.118808, -3.36424, 0.764982)\n"
     ]
    }
   ],
   "source": [
    "print(object_positions)\n",
    "print(goal_positions)\n",
    "\n",
    "print(sim.get_translation(0))"
   ]
  },
  {
   "cell_type": "code",
   "execution_count": 48,
   "metadata": {},
   "outputs": [],
   "source": [
    "sim = env._env._sim._sim\n",
    "navmesh_settings = habitat_sim.NavMeshSettings()\n",
    "navmesh_settings.set_defaults()\n",
    "navmesh_settings.agent_radius = 0.2\n",
    "navmesh_settings.agent_height = 0.5\n",
    "navmesh_settings.agent_max_climb = 0.1\n",
    "\n",
    "sv = SokobanVisualization(sim, navmesh_settings, map_resolution=(1250, 1250), num_samples=20000, draw_border=True)\n",
    "tdmap, mp_list, rw_list = sv.get_topdown_map()\n",
    "mp_list = np.array(mp_list)\n",
    "rw_list = np.array(rw_list)\n"
   ]
  },
  {
   "cell_type": "code",
   "execution_count": 49,
   "metadata": {},
   "outputs": [],
   "source": [
    "top_down_map = colorize_topdown_map(tdmap)"
   ]
  },
  {
   "cell_type": "code",
   "execution_count": 50,
   "metadata": {},
   "outputs": [],
   "source": [
    "top_down_map = sv.draw_topdown_map(object_positions, goal_positions)"
   ]
  },
  {
   "cell_type": "code",
   "execution_count": 51,
   "metadata": {},
   "outputs": [
    {
     "data": {
      "text/plain": [
       "<matplotlib.image.AxesImage at 0x7f1f99d6be80>"
      ]
     },
     "execution_count": 51,
     "metadata": {},
     "output_type": "execute_result"
    },
    {
     "data": {
      "image/png": "[encoded data removed]",
      "text/plain": [
       "<Figure size 432x288 with 1 Axes>"
      ]
     },
     "metadata": {
      "needs_background": "light"
     },
     "output_type": "display_data"
    }
   ],
   "source": [
    "plt.imshow(top_down_map)"
   ]
  },
  {
   "cell_type": "code",
   "execution_count": null,
   "metadata": {},
   "outputs": [],
   "source": []
  }
 ],
 "metadata": {
  "kernelspec": {
   "display_name": "Python 3",
   "language": "python",
   "name": "python3"
  },
  "language_info": {
   "codemirror_mode": {
    "name": "ipython",
    "version": 3
   },
   "file_extension": ".py",
   "mimetype": "text/x-python",
   "name": "python",
   "nbconvert_exporter": "python",
   "pygments_lexer": "ipython3",
   "version": "3.6.10"
  }
 },
 "nbformat": 4,
 "nbformat_minor": 4
}
