{
 "cells": [
  {
   "cell_type": "code",
   "execution_count": 1,
   "metadata": {},
   "outputs": [],
   "source": [
    "import sys\n",
    "sys.path.append('/srv/share3/hagrawal9/project/sokoban/habitat-sim/')\n",
    "sys.path.append('/srv/share3/hagrawal9/project/sokoban/habitat-api/')"
   ]
  },
  {
   "cell_type": "code",
   "execution_count": 2,
   "metadata": {},
   "outputs": [
    {
     "name": "stdout",
     "output_type": "stream",
     "text": [
      "/coc/pskynet3/hagrawal9/project/sokoban/habitat-api\n"
     ]
    }
   ],
   "source": [
    "cd .."
   ]
  },
  {
   "cell_type": "code",
   "execution_count": 7,
   "metadata": {},
   "outputs": [],
   "source": [
    "import gzip\n",
    "import habitat\n",
    "import habitat_sim\n",
    "import habitat_sim.bindings as hsim\n",
    "import json\n",
    "import matplotlib.pyplot as plt\n",
    "import magnum as mn\n",
    "import numpy as np\n",
    "import os\n",
    "import pandas as pd\n",
    "import tqdm \n",
    "\n",
    "from habitat.config import Config\n",
    "from examples.run_ortools import *\n",
    "from habitat_sim.physics import MotionType\n",
    "from habitat_sim.attributes import PhysicsObjectAttributes\n",
    "from habitat_sim.helper import *\n",
    "from PIL import Image\n",
    "from typing import Any, Dict, List, Optional\n",
    "\n",
    "%matplotlib inline"
   ]
  },
  {
   "cell_type": "code",
   "execution_count": 8,
   "metadata": {},
   "outputs": [],
   "source": [
    "train_df = pd.read_pickle('data/sokoban_gibson_train.pkl')"
   ]
  },
  {
   "cell_type": "code",
   "execution_count": 9,
   "metadata": {},
   "outputs": [
    {
     "data": {
      "text/html": [
       "<div>\n",
       "<style scoped>\n",
       "    .dataframe tbody tr th:only-of-type {\n",
       "        vertical-align: middle;\n",
       "    }\n",
       "\n",
       "    .dataframe tbody tr th {\n",
       "        vertical-align: top;\n",
       "    }\n",
       "\n",
       "    .dataframe thead th {\n",
       "        text-align: right;\n",
       "    }\n",
       "</style>\n",
       "<table border=\"1\" class=\"dataframe\">\n",
       "  <thead>\n",
       "    <tr style=\"text-align: right;\">\n",
       "      <th></th>\n",
       "      <th>id</th>\n",
       "      <th>name</th>\n",
       "      <th>split_full</th>\n",
       "      <th>split_full+</th>\n",
       "      <th>split_medium</th>\n",
       "      <th>split_tiny</th>\n",
       "      <th>area</th>\n",
       "      <th>floor</th>\n",
       "      <th>navigation_complexity</th>\n",
       "      <th>room</th>\n",
       "      <th>ssa</th>\n",
       "    </tr>\n",
       "  </thead>\n",
       "  <tbody>\n",
       "    <tr>\n",
       "      <th>441</th>\n",
       "      <td>Roeville</td>\n",
       "      <td>model-304</td>\n",
       "      <td>train</td>\n",
       "      <td>train</td>\n",
       "      <td>none</td>\n",
       "      <td>none</td>\n",
       "      <td>484.984</td>\n",
       "      <td>4.0</td>\n",
       "      <td>1.030</td>\n",
       "      <td>21.0</td>\n",
       "      <td>1.008</td>\n",
       "    </tr>\n",
       "    <tr>\n",
       "      <th>455</th>\n",
       "      <td>Sasakwa</td>\n",
       "      <td>model-144</td>\n",
       "      <td>train</td>\n",
       "      <td>train</td>\n",
       "      <td>none</td>\n",
       "      <td>none</td>\n",
       "      <td>45.350</td>\n",
       "      <td>1.0</td>\n",
       "      <td>2.543</td>\n",
       "      <td>5.0</td>\n",
       "      <td>1.134</td>\n",
       "    </tr>\n",
       "    <tr>\n",
       "      <th>484</th>\n",
       "      <td>Spencerville</td>\n",
       "      <td>model-471</td>\n",
       "      <td>train</td>\n",
       "      <td>train</td>\n",
       "      <td>none</td>\n",
       "      <td>none</td>\n",
       "      <td>72.589</td>\n",
       "      <td>1.0</td>\n",
       "      <td>1.768</td>\n",
       "      <td>4.0</td>\n",
       "      <td>1.149</td>\n",
       "    </tr>\n",
       "    <tr>\n",
       "      <th>355</th>\n",
       "      <td>Mifflintown</td>\n",
       "      <td>model-531</td>\n",
       "      <td>train</td>\n",
       "      <td>train</td>\n",
       "      <td>none</td>\n",
       "      <td>none</td>\n",
       "      <td>165.089</td>\n",
       "      <td>2.0</td>\n",
       "      <td>2.151</td>\n",
       "      <td>28.0</td>\n",
       "      <td>1.340</td>\n",
       "    </tr>\n",
       "    <tr>\n",
       "      <th>332</th>\n",
       "      <td>Maryhill</td>\n",
       "      <td>model-307</td>\n",
       "      <td>train</td>\n",
       "      <td>train</td>\n",
       "      <td>none</td>\n",
       "      <td>none</td>\n",
       "      <td>531.583</td>\n",
       "      <td>4.0</td>\n",
       "      <td>2.939</td>\n",
       "      <td>12.0</td>\n",
       "      <td>1.406</td>\n",
       "    </tr>\n",
       "    <tr>\n",
       "      <th>496</th>\n",
       "      <td>Stokes</td>\n",
       "      <td>model-198</td>\n",
       "      <td>train</td>\n",
       "      <td>train</td>\n",
       "      <td>none</td>\n",
       "      <td>none</td>\n",
       "      <td>276.521</td>\n",
       "      <td>3.0</td>\n",
       "      <td>4.085</td>\n",
       "      <td>9.0</td>\n",
       "      <td>1.455</td>\n",
       "    </tr>\n",
       "    <tr>\n",
       "      <th>134</th>\n",
       "      <td>Crandon</td>\n",
       "      <td>model-112</td>\n",
       "      <td>train</td>\n",
       "      <td>train</td>\n",
       "      <td>none</td>\n",
       "      <td>none</td>\n",
       "      <td>298.350</td>\n",
       "      <td>3.0</td>\n",
       "      <td>3.632</td>\n",
       "      <td>13.0</td>\n",
       "      <td>1.609</td>\n",
       "    </tr>\n",
       "    <tr>\n",
       "      <th>414</th>\n",
       "      <td>Placida</td>\n",
       "      <td>model-398</td>\n",
       "      <td>train</td>\n",
       "      <td>train</td>\n",
       "      <td>none</td>\n",
       "      <td>none</td>\n",
       "      <td>83.857</td>\n",
       "      <td>1.0</td>\n",
       "      <td>1.407</td>\n",
       "      <td>8.0</td>\n",
       "      <td>1.764</td>\n",
       "    </tr>\n",
       "    <tr>\n",
       "      <th>488</th>\n",
       "      <td>Springhill</td>\n",
       "      <td>model-43</td>\n",
       "      <td>train</td>\n",
       "      <td>train</td>\n",
       "      <td>none</td>\n",
       "      <td>none</td>\n",
       "      <td>549.540</td>\n",
       "      <td>4.0</td>\n",
       "      <td>1.388</td>\n",
       "      <td>11.0</td>\n",
       "      <td>1.896</td>\n",
       "    </tr>\n",
       "    <tr>\n",
       "      <th>411</th>\n",
       "      <td>Pettigrew</td>\n",
       "      <td>model-525</td>\n",
       "      <td>train</td>\n",
       "      <td>train</td>\n",
       "      <td>none</td>\n",
       "      <td>none</td>\n",
       "      <td>161.586</td>\n",
       "      <td>1.0</td>\n",
       "      <td>2.456</td>\n",
       "      <td>11.0</td>\n",
       "      <td>2.061</td>\n",
       "    </tr>\n",
       "    <tr>\n",
       "      <th>70</th>\n",
       "      <td>Brevort</td>\n",
       "      <td>model-526</td>\n",
       "      <td>train</td>\n",
       "      <td>train</td>\n",
       "      <td>none</td>\n",
       "      <td>none</td>\n",
       "      <td>43.882</td>\n",
       "      <td>1.0</td>\n",
       "      <td>2.915</td>\n",
       "      <td>5.0</td>\n",
       "      <td>2.061</td>\n",
       "    </tr>\n",
       "    <tr>\n",
       "      <th>203</th>\n",
       "      <td>Goffs</td>\n",
       "      <td>model-374</td>\n",
       "      <td>train</td>\n",
       "      <td>train</td>\n",
       "      <td>train</td>\n",
       "      <td>none</td>\n",
       "      <td>482.090</td>\n",
       "      <td>3.0</td>\n",
       "      <td>5.257</td>\n",
       "      <td>17.0</td>\n",
       "      <td>2.062</td>\n",
       "    </tr>\n",
       "  </tbody>\n",
       "</table>\n",
       "</div>"
      ],
      "text/plain": [
       "               id       name split_full split_full+ split_medium split_tiny  \\\n",
       "441      Roeville  model-304      train       train         none       none   \n",
       "455       Sasakwa  model-144      train       train         none       none   \n",
       "484  Spencerville  model-471      train       train         none       none   \n",
       "355   Mifflintown  model-531      train       train         none       none   \n",
       "332      Maryhill  model-307      train       train         none       none   \n",
       "496        Stokes  model-198      train       train         none       none   \n",
       "134       Crandon  model-112      train       train         none       none   \n",
       "414       Placida  model-398      train       train         none       none   \n",
       "488    Springhill   model-43      train       train         none       none   \n",
       "411     Pettigrew  model-525      train       train         none       none   \n",
       "70        Brevort  model-526      train       train         none       none   \n",
       "203         Goffs  model-374      train       train        train       none   \n",
       "\n",
       "        area  floor  navigation_complexity  room    ssa  \n",
       "441  484.984    4.0                  1.030  21.0  1.008  \n",
       "455   45.350    1.0                  2.543   5.0  1.134  \n",
       "484   72.589    1.0                  1.768   4.0  1.149  \n",
       "355  165.089    2.0                  2.151  28.0  1.340  \n",
       "332  531.583    4.0                  2.939  12.0  1.406  \n",
       "496  276.521    3.0                  4.085   9.0  1.455  \n",
       "134  298.350    3.0                  3.632  13.0  1.609  \n",
       "414   83.857    1.0                  1.407   8.0  1.764  \n",
       "488  549.540    4.0                  1.388  11.0  1.896  \n",
       "411  161.586    1.0                  2.456  11.0  2.061  \n",
       "70    43.882    1.0                  2.915   5.0  2.061  \n",
       "203  482.090    3.0                  5.257  17.0  2.062  "
      ]
     },
     "execution_count": 9,
     "metadata": {},
     "output_type": "execute_result"
    }
   ],
   "source": [
    "train_df"
   ]
  },
  {
   "cell_type": "code",
   "execution_count": 4,
   "metadata": {},
   "outputs": [],
   "source": [
    "settings = {\n",
    "    \"max_frames\": 10,\n",
    "    \"width\": 256,  # Spatial resolution of the observations\n",
    "    \"height\": 256,\n",
    "    \"scene\": 'data/scene_datasets/coda/coda.glb',  # Scene path\n",
    "    # \"scene\": 'data/scene_datasets/habitat-test-scenes/skokloster-castle.glb',\n",
    "    # \"scene\": 'data/scene_datasets/gibson/Mobridge.glb',\n",
    "    \"default_agent\": 0,\n",
    "    \"sensor_height\": 1.5,  # Height of sensors in meters\n",
    "    \"color_sensor\": True,  # RGB sensor\n",
    "    \"semantic_sensor\": False,  # Semantic sensor\n",
    "    \"depth_sensor\": True,  # Depth sensor\n",
    "    \"seed\": 1,\n",
    "    \"enable_physics\": True,\n",
    "    \"physics_config_file\": \"data/default.phys_scene_config.json\", \n",
    "    \"silent\": False, \n",
    "    \"num_objects\": 10,\n",
    "    \"compute_shortest_path\": False,\n",
    "    \"compute_action_shortest_path\": False,\n",
    "    \"save_png\": True,\n",
    "    \"render_to_ui\": False\n",
    "}"
   ]
  },
  {
   "cell_type": "code",
   "execution_count": 5,
   "metadata": {},
   "outputs": [
    {
     "name": "stdout",
     "output_type": "stream",
     "text": [
      "Initializing Agents\n",
      "Initializing Objects\n"
     ]
    }
   ],
   "source": [
    "cfg = make_cfg(settings)\n",
    "sim = habitat_sim.Simulator(cfg)\n",
    "agent_id = settings[\"default_agent\"]\n",
    "shortest_path = None"
   ]
  },
  {
   "cell_type": "code",
   "execution_count": 6,
   "metadata": {},
   "outputs": [],
   "source": [
    "navmesh_settings = habitat_sim.NavMeshSettings()\n",
    "navmesh_settings.set_defaults()\n",
    "navmesh_settings.agent_radius = 0.2\n",
    "navmesh_settings.agent_height = 0.5\n",
    "navmesh_settings.agent_max_climb = 0.1\n",
    "# navmesh_settings.agent_max_slope = 0.1"
   ]
  },
  {
   "cell_type": "code",
   "execution_count": 7,
   "metadata": {},
   "outputs": [
    {
     "data": {
      "text/plain": [
       "True"
      ]
     },
     "execution_count": 7,
     "metadata": {},
     "output_type": "execute_result"
    }
   ],
   "source": [
    "sim.recompute_navmesh(sim.pathfinder, navmesh_settings, False)"
   ]
  },
  {
   "cell_type": "code",
   "execution_count": 8,
   "metadata": {},
   "outputs": [],
   "source": [
    "def get_rotation(oid):\n",
    "    quat = sim.get_rotation(0)\n",
    "    return np.array(quat.vector).tolist() + [quat.scalar]"
   ]
  },
  {
   "cell_type": "code",
   "execution_count": 9,
   "metadata": {},
   "outputs": [],
   "source": [
    "def init_episode_dict(episode_num):\n",
    "    episode_dict = {\n",
    "        'episode_id': episode_num, \n",
    "        'scene_id': 'data/scene_datasets/coda/coda.glb',\n",
    "        'start_position': np.array(sim.get_translation(0)).tolist(), \n",
    "        'start_rotation': get_rotation(0), \n",
    "        'info': {}, \n",
    "        'object_templates': [\n",
    "            {\n",
    "                'object_key': 'sphere_blue', \n",
    "                'object_template': 'data/test_assets/objects/sphere_blue.glb', \n",
    "                # other stats like scale etc that might be important. \n",
    "            }, \n",
    "            {\n",
    "                'object_key': 'sphere_red', \n",
    "                'object_template': 'data/test_assets/objects/sphere.glb', \n",
    "                # other stats like scale etc that might be important. \n",
    "            }, \n",
    "            {\n",
    "                'object_key': 'sphere_pink', \n",
    "                'object_template': 'data/test_assets/objects/sphere_pink.glb', \n",
    "                # other stats like scale etc that might be important. \n",
    "            }, \n",
    "            {\n",
    "                'object_key': 'sphere_maroon', \n",
    "                'object_template': 'data/test_assets/objects/sphere_maroon.glb', \n",
    "                # other stats like scale etc that might be important. \n",
    "            },\n",
    "            {\n",
    "                'object_key': 'sphere_purple', \n",
    "                'object_template': 'data/test_assets/objects/sphere_purple.glb', \n",
    "                # other stats like scale etc that might be important. \n",
    "            }, \n",
    "            {\n",
    "                'object_key': 'sphere_yellow', \n",
    "                'object_template': 'data/test_assets/objects/sphere_yellow.glb', \n",
    "                # other stats like scale etc that might be important. \n",
    "            },\n",
    "            {\n",
    "                'object_key': 'sphere_orange', \n",
    "                'object_template': 'data/test_assets/objects/sphere_orange.glb', \n",
    "                # other stats like scale etc that might be important. \n",
    "            },\n",
    "            {\n",
    "                'object_key': 'sphere_green', \n",
    "                'object_template': 'data/test_assets/objects/sphere_green.glb', \n",
    "                # other stats like scale etc that might be important. \n",
    "            }\n",
    "        ],\n",
    "        'objects': [\n",
    "\n",
    "        ],\n",
    "        'goals': [ \n",
    "            \n",
    "        ], \n",
    "    }\n",
    "    return episode_dict\n",
    "\n",
    "def add_object_details(episode_dict, num_objects):\n",
    "    for i in range(1, num_objects + 1):\n",
    "        object_template = {\n",
    "            'object_id': i, \n",
    "            'object_key': i%8,\n",
    "            'position': np.array(sim.get_translation(i)).tolist(), \n",
    "            'rotation': get_rotation(i),\n",
    "        }\n",
    "        episode_dict['objects'].append(object_template)\n",
    "    \n",
    "    return episode_dict\n",
    "\n",
    "def add_goal_details(episode_dict, num_objects):\n",
    "    for i in range(1 + num_objects, num_objects*2 + 1):\n",
    "        goal_template = {\n",
    "            'position': np.array(sim.get_translation(sim.get_existing_object_ids()[i])).tolist(), \n",
    "            'rotation': get_rotation(sim.get_existing_object_ids()[i]),\n",
    "        }\n",
    "            \n",
    "        episode_dict['goals'].append(goal_template)\n",
    "    return episode_dict\n",
    "\n",
    "# set the number of objects to 1 always for now. \n",
    "def build_episode(episode_num, num_objects=1):\n",
    "    episodes = {'episodes': []}\n",
    "    for episode in tqdm.tqdm(range(episode_num)):\n",
    "        start_state = init_agent_state(sim, navmesh_settings, agent_id)\n",
    "        sim.recompute_navmesh(sim.pathfinder, navmesh_settings, True)\n",
    "        init_test_scene(sim, navmesh_settings, num_objects * 2)\n",
    "        sim.recompute_navmesh(sim.pathfinder, navmesh_settings, True)\n",
    "        \n",
    "        episode_dict = init_episode_dict(episode)\n",
    "        num_object = np.random.choice(range(num_objects)) + 1\n",
    "        episode_dict = add_object_details(episode_dict, num_object)\n",
    "        episode_dict = add_goal_details(episode_dict, num_object)\n",
    "        episodes['episodes'].append(episode_dict)\n",
    "        \n",
    "        \n",
    "    \n",
    "    return episodes"
   ]
  },
  {
   "cell_type": "code",
   "execution_count": 12,
   "metadata": {},
   "outputs": [
    {
     "name": "stderr",
     "output_type": "stream",
     "text": [
      "100%|██████████| 1000/1000 [21:40<00:00,  1.30s/it]\n"
     ]
    }
   ],
   "source": [
    "episodes = build_episode(1000, num_objects=5)"
   ]
  },
  {
   "cell_type": "code",
   "execution_count": 13,
   "metadata": {},
   "outputs": [],
   "source": [
    "with gzip.open('data/datasets/sokoban/coda/v1/train/content/object_5_scene_1000_coda.json.gz', \"wt\") as f:\n",
    "    json.dump(episodes, f)"
   ]
  },
  {
   "cell_type": "code",
   "execution_count": 16,
   "metadata": {},
   "outputs": [
    {
     "name": "stderr",
     "output_type": "stream",
     "text": [
      "100%|██████████| 10/10 [00:13<00:00,  1.33s/it]\n"
     ]
    }
   ],
   "source": [
    "episodes = build_episode(10, num_objects=5)\n",
    "with gzip.open('data/datasets/sokoban/coda/v1/train/content/val_object_5_scene_10_coda.json.gz', \"wt\") as f:\n",
    "    json.dump(episodes, f)"
   ]
  },
  {
   "cell_type": "code",
   "execution_count": 15,
   "metadata": {},
   "outputs": [
    {
     "name": "stderr",
     "output_type": "stream",
     "text": [
      "100%|██████████| 100/100 [02:05<00:00,  1.25s/it]\n"
     ]
    }
   ],
   "source": [
    "episodes = build_episode(100, num_objects=5)\n",
    "with gzip.open('data/datasets/sokoban/coda/v1/train/content/test_object_5_scene_100_coda.json.gz', \"wt\") as f:\n",
    "    json.dump(episodes, f)"
   ]
  },
  {
   "cell_type": "code",
   "execution_count": null,
   "metadata": {},
   "outputs": [],
   "source": []
  }
 ],
 "metadata": {
  "kernelspec": {
   "display_name": "Python 3",
   "language": "python",
   "name": "python3"
  },
  "language_info": {
   "codemirror_mode": {
    "name": "ipython",
    "version": 3
   },
   "file_extension": ".py",
   "mimetype": "text/x-python",
   "name": "python",
   "nbconvert_exporter": "python",
   "pygments_lexer": "ipython3",
   "version": "3.6.10"
  }
 },
 "nbformat": 4,
 "nbformat_minor": 4
}
