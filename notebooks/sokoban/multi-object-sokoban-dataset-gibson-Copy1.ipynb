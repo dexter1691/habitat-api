{
 "cells": [
  {
   "cell_type": "code",
   "execution_count": null,
   "metadata": {},
   "outputs": [],
   "source": []
  },
  {
   "cell_type": "code",
   "execution_count": 2,
   "metadata": {},
   "outputs": [],
   "source": [
    "import sys\n",
    "# sys.path.append('/srv/share3/hagrawal9/project/sokoban/habitat-sim/')\n",
    "# sys.path.append('/srv/share3/hagrawal9/project/sokoban/habitat-api/')"
   ]
  },
  {
   "cell_type": "code",
   "execution_count": 4,
   "metadata": {},
   "outputs": [
    {
     "data": {
      "text/plain": [
       "['/coc/pskynet3/hagrawal9/project/sokoban/habitat-api',\n",
       " '/coc/pskynet3/hagrawal9/project/sokoban/habitat-sim',\n",
       " '/coc/pskynet3/hagrawal9/project/habitat/habitat-api/notebooks',\n",
       " '/srv/share3/hagrawal9/envs/habitat/lib/python36.zip',\n",
       " '/srv/share3/hagrawal9/envs/habitat/lib/python3.6',\n",
       " '/srv/share3/hagrawal9/envs/habitat/lib/python3.6/lib-dynload',\n",
       " '',\n",
       " '/srv/share3/hagrawal9/envs/habitat/lib/python3.6/site-packages',\n",
       " '/coc/pskynet3/hagrawal9/project/habitat/habitat-api',\n",
       " '/srv/share3/hagrawal9/envs/habitat/lib/python3.6/site-packages/tensorflow-1.13.1-py3.6-linux-x86_64.egg',\n",
       " '/srv/share3/hagrawal9/envs/habitat/lib/python3.6/site-packages/tb_nightly-2.4.0a20200812-py3.6.egg',\n",
       " '/srv/share3/hagrawal9/envs/habitat/lib/python3.6/site-packages/moviepy-2.0.0.dev1-py3.6.egg',\n",
       " '/srv/share3/hagrawal9/envs/habitat/lib/python3.6/site-packages/wheel-0.34.2-py3.6.egg',\n",
       " '/srv/share3/hagrawal9/envs/habitat/lib/python3.6/site-packages/tensorflow_estimator-1.13.0-py3.6.egg',\n",
       " '/srv/share3/hagrawal9/envs/habitat/lib/python3.6/site-packages/tensorboard-1.13.1-py3.6.egg',\n",
       " '/srv/share3/hagrawal9/envs/habitat/lib/python3.6/site-packages/tensorboard_plugin_wit-1.7.0-py3.6.egg',\n",
       " '/srv/share3/hagrawal9/envs/habitat/lib/python3.6/site-packages/proglog-0.1.9-py3.6.egg',\n",
       " '/srv/share3/hagrawal9/envs/habitat/lib/python3.6/site-packages/mock-4.0.2-py3.6.egg',\n",
       " '/coc/pskynet3/hagrawal9/envs/habitat/lib/python3.6/site-packages',\n",
       " '/srv/share3/hagrawal9/envs/habitat/lib/python3.6/site-packages/IPython/extensions',\n",
       " '/nethome/hagrawal9/.ipython']"
      ]
     },
     "execution_count": 4,
     "metadata": {},
     "output_type": "execute_result"
    }
   ],
   "source": [
    "sys.path += []"
   ]
  },
  {
   "cell_type": "code",
   "execution_count": 3,
   "metadata": {},
   "outputs": [
    {
     "name": "stdout",
     "output_type": "stream",
     "text": [
      "/coc/pskynet3/hagrawal9/project/habitat/habitat-api\n"
     ]
    }
   ],
   "source": [
    "cd '/srv/share3/hagrawal9/project/habitat/habitat-api/'"
   ]
  },
  {
   "cell_type": "code",
   "execution_count": 4,
   "metadata": {},
   "outputs": [],
   "source": [
    "import gzip\n",
    "import habitat\n",
    "import habitat_sim\n",
    "import habitat_sim.bindings as hsim\n",
    "import json\n",
    "import matplotlib.pyplot as plt\n",
    "import magnum as mn\n",
    "import numpy as np\n",
    "import os\n",
    "import pandas as pd\n",
    "import tqdm \n",
    "\n",
    "from habitat.config import Config\n",
    "from examples.run_ortools import *\n",
    "from habitat_sim.physics import MotionType\n",
    "from habitat_sim.attributes import PhysicsObjectAttributes\n",
    "from habitat_sim.helper import init_agent_state, make_cfg\n",
    "from pathlib import Path\n",
    "from PIL import Image\n",
    "from typing import Any, Dict, List, Optional\n",
    "from habitat.datasets.sokoban.shortest_path import create_data_model_for_object_goals\n",
    "from habitat.utils.visualizations.maps import *\n",
    "\n",
    "%matplotlib inline"
   ]
  },
  {
   "cell_type": "code",
   "execution_count": 5,
   "metadata": {},
   "outputs": [],
   "source": [
    "%load_ext autoreload\n",
    "%autoreload 2\n",
    "from habitat.tasks.sokoban.sokoban_vis_utils import SokobanVisualization"
   ]
  },
  {
   "cell_type": "code",
   "execution_count": null,
   "metadata": {},
   "outputs": [],
   "source": [
    "train_df = pd.read_pickle('data/sokoban_gibson_train.pkl')"
   ]
  },
  {
   "cell_type": "code",
   "execution_count": null,
   "metadata": {},
   "outputs": [],
   "source": [
    "settings = {\n",
    "    \"max_frames\": 10,\n",
    "    \"width\": 256,  # Spatial resolution of the observations\n",
    "    \"height\": 256,\n",
    "    \"scene\": '',  # Scene path\n",
    "    \"default_agent\": 0,\n",
    "    \"sensor_height\": 1.5,  # Height of sensors in meters\n",
    "    \"color_sensor\": True,  # RGB sensor\n",
    "    \"semantic_sensor\": False,  # Semantic sensor\n",
    "    \"depth_sensor\": True,  # Depth sensor\n",
    "    \"seed\": 1,\n",
    "    \"enable_physics\": True,\n",
    "    \"physics_config_file\": \"data/default.phys_scene_config.json\", \n",
    "    \"silent\": False, \n",
    "    \"num_objects\": 10,\n",
    "    \"compute_shortest_path\": False,\n",
    "    \"compute_action_shortest_path\": False,\n",
    "    \"save_png\": True,\n",
    "    \"render_to_ui\": False\n",
    "}"
   ]
  },
  {
   "cell_type": "code",
   "execution_count": null,
   "metadata": {},
   "outputs": [],
   "source": [
    "navmesh_settings = habitat_sim.NavMeshSettings()\n",
    "navmesh_settings.set_defaults()\n",
    "navmesh_settings.agent_radius = 0.2\n",
    "navmesh_settings.agent_height = 1.5\n",
    "navmesh_settings.agent_max_climb = 0.1\n",
    "# navmesh_settings.agent_max_slope = 0.1"
   ]
  },
  {
   "cell_type": "code",
   "execution_count": null,
   "metadata": {},
   "outputs": [],
   "source": [
    "def get_rotation(sim, oid):\n",
    "    quat = sim.get_rotation(oid)\n",
    "    return np.array(quat.vector).tolist() + [quat.scalar]"
   ]
  },
  {
   "cell_type": "code",
   "execution_count": null,
   "metadata": {},
   "outputs": [],
   "source": [
    "def geodesic_distance(sim, position_a, position_b):\n",
    "    path = habitat_sim.MultiGoalShortestPath()\n",
    "    path.requested_start = np.array(position_a, dtype=np.float32)\n",
    "    if isinstance(position_b[0], List) or isinstance(\n",
    "        position_b[0], np.ndarray\n",
    "    ):\n",
    "        path.requested_ends = np.array(position_b, dtype=np.float32)\n",
    "    else:\n",
    "        path.requested_ends = np.array(\n",
    "            [np.array(position_b, dtype=np.float32)]\n",
    "        )\n",
    "\n",
    "    sim.pathfinder.find_path(path)\n",
    "\n",
    "    return path.geodesic_distance\n",
    "\n",
    "def euclidean_distance(position_a, position_b):\n",
    "    return np.linalg.norm(\n",
    "        np.array(position_b) - np.array(position_a), ord=2\n",
    "    )\n",
    "\n",
    "def validate_object(sim, agent_position, object_position, goal_position, object_positions, goal_positions, dist_threshold=15.0):\n",
    "    ao_geo_dist = geodesic_distance(sim, agent_position, [object_position])\n",
    "    ag_geo_dist = geodesic_distance(sim, agent_position, [goal_position])\n",
    "    og_geo_dist = geodesic_distance(sim, object_position, [goal_position])\n",
    "    \n",
    "    ao_l2_dist = euclidean_distance(agent_position, object_position)\n",
    "    ag_l2_dist = euclidean_distance(agent_position, goal_position)\n",
    "    og_l2_dist = euclidean_distance(object_position, goal_position)\n",
    "    \n",
    "    ao_dist_ratio = ao_geo_dist / ao_l2_dist\n",
    "    og_dist_ratio = og_geo_dist / og_l2_dist\n",
    "    \n",
    "    if ao_l2_dist < 1.0 or ao_geo_dist > 100 or np.abs(object_position[1] - agent_position[1]) > 0.2:\n",
    "        # print(\"ao:\", ao_l2_dist, ao_geo_dist)\n",
    "        return False\n",
    "    \n",
    "    if ag_geo_dist > 100 or np.abs(goal_position[1] - agent_position[1]) > 0.2:\n",
    "        # print(\"ag:\", ag_geo_dist)\n",
    "        return False\n",
    "    \n",
    "    if og_l2_dist < dist_threshold or og_geo_dist > 100 or np.abs(object_position[1] - goal_position[1]) > 0.2:\n",
    "        # print(\"og:\", og_l2_dist, og_geo_dist)\n",
    "        return False\n",
    "    \n",
    "#     print(\"ao:\", ao_l2_dist, ao_geo_dist)\n",
    "#     print(\"ag:\", ag_l2_dist, ag_geo_dist)\n",
    "#     print(\"og:\", og_l2_dist, og_geo_dist)\n",
    "\n",
    "#     if ao_dist_ratio < 1.15 or og_dist_ratio < 1.15:\n",
    "#         print(ao_geo_dist, ao_l2_dist, og_geo_dist, og_l2_dist)\n",
    "#         return False\n",
    "    \n",
    "    for j, curr_pos in enumerate([object_position, goal_position]):\n",
    "        for i, pos in enumerate(object_positions + goal_positions):\n",
    "            geo_dist = geodesic_distance(sim, curr_pos, [pos])\n",
    "            l2_dist = euclidean_distance(curr_pos, pos)\n",
    "            \n",
    "            if np.abs(curr_pos[1] - pos[1]) > 0.2:  # check height difference to assure s and\n",
    "                # print(\"not on same floor\", j, i)\n",
    "                # are from same floor\n",
    "                return False\n",
    "            \n",
    "            if sim.pathfinder.island_radius(curr_pos) != sim.pathfinder.island_radius(pos):\n",
    "                # print(\"different island\", j, i)\n",
    "                return False \n",
    "            \n",
    "            if l2_dist < 0.5 or geo_dist > 100:\n",
    "            # if geo_dist > 100:\n",
    "                # print(\"unreachable!\", l2_dist, geo_dist, j, i)\n",
    "                # print(l2_dist, j, i)\n",
    "                return False\n",
    "\n",
    "    return True\n",
    "    \n",
    "def validate_again(sim, object_positions, goal_positions):\n",
    "    agent_position = np.array(sim.get_translation(0))\n",
    "    \n",
    "    for i, posi in enumerate([agent_position] + object_positions + goal_positions):\n",
    "        for j, posj in enumerate(object_positions + goal_positions):\n",
    "            if np.abs(posi[1] - posj[1]) > 0.2:  # check height difference to assure s and t are from the same floor\n",
    "                print(\"diff floor\", i, j, posi, posj)\n",
    "                return False\n",
    "\n",
    "            geo_dist = geodesic_distance(sim, posi, [posj])\n",
    "\n",
    "            if geo_dist > 100:\n",
    "                print(geo_dist, i, j)\n",
    "                return False\n",
    "\n",
    "    return True\n",
    "    "
   ]
  },
  {
   "cell_type": "code",
   "execution_count": null,
   "metadata": {},
   "outputs": [],
   "source": [
    "def init_test_scene_new(sim, navmesh_settings, num_objects, dist_thresh=5.0):\n",
    "    #final_position\n",
    "    final_position = sim.pathfinder.get_random_navigable_point()\n",
    "    \n",
    "    # add some objects in a grid\n",
    "    object_lib_size = sim.get_physics_object_library_size()\n",
    "    rand_obj_index = 0\n",
    "    \n",
    "    assert (\n",
    "        object_lib_size > 0\n",
    "    ), \"!!!No objects loaded in library, aborting object instancing example!!!\"\n",
    "\n",
    "    # clear the objects if we are re-running this initializer\n",
    "    for old_obj_id in sim.get_existing_object_ids()[1:]:\n",
    "        sim.remove_object(old_obj_id)\n",
    "    \n",
    "    objectFile = 'data/test_assets/objects/sphere.glb'\n",
    "    object_template = PhysicsObjectAttributes()\n",
    "    object_template.set_render_mesh_handle(objectFile)\n",
    "    object_template.set_bounding_box_collisions(True)\n",
    "    object_template.set_scale(np.array([1.0, 1.0, 1.0]))\n",
    "    object_template_id = sim._sim.load_object_template(object_template, \"object\")\n",
    "    \n",
    "    goal_objectFile = 'data/test_assets/objects/sphere_blue.glb'\n",
    "    object_template = PhysicsObjectAttributes()\n",
    "    object_template.set_render_mesh_handle(goal_objectFile)\n",
    "    object_template.set_bounding_box_collisions(True)\n",
    "    object_template.set_scale(np.array([1.0, 1.0, 1.0]))\n",
    "    goal_template_id = sim._sim.load_object_template(object_template, \"goal\")\n",
    "    \n",
    "    object_positions = []\n",
    "    goal_positions = []\n",
    "    \n",
    "    object_idxs = []\n",
    "    goal_idxs = []\n",
    "    \n",
    "    agent_position = np.array(sim.get_translation(0))\n",
    "    \n",
    "    for obj_id in range(num_objects):\n",
    "        count = 0\n",
    "\n",
    "        object_id = sim.add_object(object_template_id)\n",
    "        goal_id = sim.add_object(goal_template_id)\n",
    "        \n",
    "        while count < 100:\n",
    "            while(True):\n",
    "                object_position = sim.pathfinder.get_random_navigable_point()\n",
    "                object_position[1] = agent_position[1]\n",
    "                object_dist = sim.pathfinder.distance_to_closest_obstacle(object_position, max_search_radius=2.0)\n",
    "                if object_dist > 0.5:\n",
    "                    break\n",
    "            \n",
    "            while(True):\n",
    "                goal_position = sim.pathfinder.get_random_navigable_point()\n",
    "                goal_position[1] = agent_position[1]\n",
    "\n",
    "                goal_dist = sim.pathfinder.distance_to_closest_obstacle(goal_position, max_search_radius=2.0)\n",
    "            \n",
    "                if goal_dist > 0.5:\n",
    "                    break\n",
    "            \n",
    "            sim.set_object_motion_type(MotionType.DYNAMIC, object_id)\n",
    "            sim.set_object_motion_type(MotionType.DYNAMIC, goal_id)\n",
    "            \n",
    "            # print(\"Object Dist: {}; Goal Dist: {}\".format(object_dist, goal_dist))\n",
    "            sim.set_translation(object_position, object_id)\n",
    "            sim.set_translation(goal_position, goal_id)\n",
    "            \n",
    "            sim.set_object_motion_type(MotionType.STATIC, object_id)\n",
    "            sim.set_object_motion_type(MotionType.STATIC, goal_id)\n",
    "            \n",
    "            sim.recompute_navmesh(\n",
    "                sim.pathfinder, \n",
    "                navmesh_settings,\n",
    "                include_static_objects=True\n",
    "            )\n",
    "            \n",
    "            if validate_object(\n",
    "                sim, agent_position, object_position, goal_position, \n",
    "                object_positions, goal_positions, \n",
    "                dist_threshold=dist_thresh\n",
    "            ) and validate_again(sim, object_positions, goal_positions):\n",
    "#                 print(\n",
    "#                     \"added object: \"\n",
    "#                     + str(object_id)\n",
    "#                     + \" at: \"\n",
    "#                     + str(object_position)\n",
    "#                 )\n",
    "                break\n",
    "            \n",
    "            count += 1\n",
    "        \n",
    "        if count < 100:\n",
    "            object_positions.append(object_position)\n",
    "            goal_positions.append(goal_position)    \n",
    "            object_idxs.append(object_id)\n",
    "            goal_idxs.append(goal_id)\n",
    "            \n",
    "            # print(\"Success in {}\".format(count))\n",
    "        else:\n",
    "            sim.remove_object(object_id)\n",
    "            sim.remove_object(goal_id)\n",
    "            return object_positions, goal_positions, object_idxs, goal_idxs\n",
    "\n",
    "        # recompute navmesh so that objects don't overlap with other existing objects. \n",
    "        sim.recompute_navmesh(\n",
    "            sim.pathfinder, \n",
    "            navmesh_settings,\n",
    "            include_static_objects=True\n",
    "        )\n",
    "        \n",
    "    return object_positions, goal_positions, object_idxs, goal_idxs\n",
    "        "
   ]
  },
  {
   "cell_type": "code",
   "execution_count": null,
   "metadata": {},
   "outputs": [],
   "source": [
    "sim = None"
   ]
  },
  {
   "cell_type": "code",
   "execution_count": null,
   "metadata": {},
   "outputs": [],
   "source": [
    "def init_episode_dict(sim, scene, episode_num):\n",
    "    episode_dict = {\n",
    "        'episode_id': episode_num, \n",
    "        'scene_id': scene,\n",
    "        'start_position': np.array(sim.get_translation(0)).tolist(), \n",
    "        'start_rotation': get_rotation(sim, 0), \n",
    "        'info': {}, \n",
    "        'object_templates': [\n",
    "            {\n",
    "                'object_key': 'sphere_blue', \n",
    "                'object_template': 'data/test_assets/objects/sphere_blue.glb', \n",
    "                # other stats like scale etc that might be important. \n",
    "            }, \n",
    "            {\n",
    "                'object_key': 'sphere_red', \n",
    "                'object_template': 'data/test_assets/objects/sphere.glb', \n",
    "                # other stats like scale etc that might be important. \n",
    "            }, \n",
    "            {\n",
    "                'object_key': 'sphere_pink', \n",
    "                'object_template': 'data/test_assets/objects/sphere_pink.glb', \n",
    "                # other stats like scale etc that might be important. \n",
    "            }, \n",
    "            {\n",
    "                'object_key': 'sphere_maroon', \n",
    "                'object_template': 'data/test_assets/objects/sphere_maroon.glb', \n",
    "                # other stats like scale etc that might be important. \n",
    "            },\n",
    "            {\n",
    "                'object_key': 'sphere_purple', \n",
    "                'object_template': 'data/test_assets/objects/sphere_purple.glb', \n",
    "                # other stats like scale etc that might be important. \n",
    "            }, \n",
    "            {\n",
    "                'object_key': 'sphere_yellow', \n",
    "                'object_template': 'data/test_assets/objects/sphere_yellow.glb', \n",
    "                # other stats like scale etc that might be important. \n",
    "            },\n",
    "            {\n",
    "                'object_key': 'sphere_orange', \n",
    "                'object_template': 'data/test_assets/objects/sphere_orange.glb', \n",
    "                # other stats like scale etc that might be important. \n",
    "            },\n",
    "            {\n",
    "                'object_key': 'sphere_green', \n",
    "                'object_template': 'data/test_assets/objects/sphere_green.glb', \n",
    "                # other stats like scale etc that might be important. \n",
    "            }\n",
    "        ],\n",
    "        'objects': [\n",
    "\n",
    "        ],\n",
    "        'goals': [ \n",
    "            \n",
    "        ], \n",
    "    }\n",
    "    return episode_dict\n",
    "\n",
    "def add_object_details(sim, episode_dict, num_objects, object_idxs):\n",
    "    for i in range(num_objects):\n",
    "        obj_id = object_idxs[i]\n",
    "        object_template = {\n",
    "            'object_id': i, \n",
    "            'object_key': i%8,\n",
    "            'position': np.array(sim.get_translation(obj_id)).tolist(), \n",
    "            'rotation': get_rotation(sim, obj_id),\n",
    "        }\n",
    "        episode_dict['objects'].append(object_template)\n",
    "    \n",
    "    return episode_dict\n",
    "\n",
    "def add_goal_details(sim, episode_dict, num_objects, goal_idxs):\n",
    "    for i in range(num_objects):\n",
    "        goal_id = goal_idxs[i]\n",
    "        goal_template = {\n",
    "            'position': np.array(sim.get_translation(goal_id)).tolist(), \n",
    "            'rotation': get_rotation(sim, goal_id),\n",
    "        }\n",
    "            \n",
    "        episode_dict['goals'].append(goal_template)\n",
    "    return episode_dict"
   ]
  },
  {
   "cell_type": "code",
   "execution_count": null,
   "metadata": {},
   "outputs": [],
   "source": [
    "# set the number of objects to 1 always for now. \n",
    "def build_episode(episode_num, num_objects=1):\n",
    "    episodes = {'episodes': []}\n",
    "    for scene_id in train_df['id'].tolist():\n",
    "        scene = 'data/scene_datasets/gibson_train_val/{}.glb'.format(scene_id)\n",
    "        settings['scene'] = scene\n",
    "        print(scene)\n",
    "        \n",
    "        cfg = make_cfg(settings)\n",
    "        sim = habitat_sim.Simulator(cfg)\n",
    "        sim.recompute_navmesh(sim.pathfinder, navmesh_settings, True)\n",
    "        sv = SokobanVisualization(sim, navmesh_settings, map_resolution=(250, 250), num_samples=20000, draw_border=True)\n",
    "    \n",
    "        agent_id = settings[\"default_agent\"]\n",
    "        episode = 0\n",
    "        dist_thresh = 3.0\n",
    "\n",
    "        while episode < episode_num:\n",
    "            start_state = init_agent_state(sim, navmesh_settings, agent_id)\n",
    "            sim.recompute_navmesh(sim.pathfinder, navmesh_settings, True)\n",
    "\n",
    "            num_object = np.random.choice(range(2, num_objects + 1))\n",
    "            object_positions, goal_positions, object_idxs, goal_idxs = init_test_scene_new(\n",
    "                sim, navmesh_settings, num_object, dist_thresh\n",
    "            )\n",
    "            \n",
    "            sim.recompute_navmesh(sim.pathfinder, navmesh_settings, False)\n",
    "            result = validate_again(sim, object_positions, goal_positions)\n",
    "            if result == False or len(object_idxs) == 0:\n",
    "                continue \n",
    "                \n",
    "            num_object = len(object_idxs)\n",
    "            \n",
    "            assert len(object_idxs) == len(goal_idxs)\n",
    "            episode_dict = init_episode_dict(sim, scene, episode)\n",
    "            episode_dict = add_object_details(sim, episode_dict, num_object, object_idxs)\n",
    "            episode_dict = add_goal_details(sim, episode_dict, num_object, goal_idxs)\n",
    "            episodes['episodes'].append(episode_dict)\n",
    "            print(\"\\r Episode {} Object {}\".format(episode, num_object), end=\" \")\n",
    "            episode += 1\n",
    "            \n",
    "        print(\"\")\n",
    "        sim.close()\n",
    "    \n",
    "    return episodes"
   ]
  },
  {
   "cell_type": "code",
   "execution_count": null,
   "metadata": {},
   "outputs": [],
   "source": [
    "sim.close()"
   ]
  },
  {
   "cell_type": "code",
   "execution_count": null,
   "metadata": {},
   "outputs": [],
   "source": [
    "scene_id = train_df['id'].tolist()[3]\n",
    "scene = 'data/scene_datasets/gibson_train_val/{}.glb'.format(scene_id)\n",
    "settings['scene'] = scene\n",
    "print(scene)\n",
    "\n",
    "cfg = make_cfg(settings)\n",
    "agent_id = settings[\"default_agent\"]\n",
    "sim = habitat_sim.Simulator(cfg)\n",
    "sv = SokobanVisualization(sim, navmesh_settings, map_resolution=(250, 250), num_samples=20000, draw_border=True)"
   ]
  },
  {
   "cell_type": "code",
   "execution_count": null,
   "metadata": {},
   "outputs": [],
   "source": [
    "start_state = init_agent_state(sim, navmesh_settings, agent_id)"
   ]
  },
  {
   "cell_type": "code",
   "execution_count": null,
   "metadata": {},
   "outputs": [],
   "source": [
    "tdmap, mp_list, rw_list = sv.get_topdown_map()\n",
    "mp_list = np.array(mp_list)\n",
    "rw_list = np.array(rw_list)"
   ]
  },
  {
   "cell_type": "code",
   "execution_count": null,
   "metadata": {},
   "outputs": [],
   "source": [
    "from scipy.ndimage.measurements import label"
   ]
  },
  {
   "cell_type": "code",
   "execution_count": null,
   "metadata": {},
   "outputs": [],
   "source": [
    "labelled, ncomp = label(tdmap)\n",
    "print(ncomp)\n",
    "indices = np.indices(tdmap.shape).T[:,:,[1, 0]]\n",
    "comp_idxs = indices[labelled==2]\n",
    "print(len(comp_idxs))\n",
    "tdmap1 = np.array(tdmap)\n",
    "tdmap1[comp_idxs[:, 0], comp_idxs[:, 1]] = 100\n",
    "plt.imshow(tdmap1)\n",
    "plt.show()"
   ]
  },
  {
   "cell_type": "code",
   "execution_count": null,
   "metadata": {},
   "outputs": [],
   "source": [
    "# sample points from this, such that they are far apart\n",
    "# they not too close to the wall\n",
    "choices = np.random.choice(comp_idxs.shape[0], 2).astype(int)\n",
    "mp_obj_choices = np.array(comp_idxs)[choices]\n",
    "rw_obj_choices = [list(sv.from_grid(gpos[0], gpos[1])) for gpos in mp_obj_choices]\n",
    "\n",
    "choices1 = np.random.choice(comp_idxs.shape[0], 2).astype(int)\n",
    "mp_goal_choices = np.array(comp_idxs)[choices1]\n",
    "rw_goal_choices = [list(sv.from_grid(gpos[0], gpos[1])) for gpos in mp_goal_choices]\n",
    "\n",
    "print(rw_obj_choices[0])\n",
    "objectFile = 'data/test_assets/objects/sphere.glb'\n",
    "object_template = PhysicsObjectAttributes()\n",
    "object_template.set_render_mesh_handle(objectFile)\n",
    "object_template.set_bounding_box_collisions(True)\n",
    "object_template.set_scale(np.array([1.0, 1.0, 1.0]))\n",
    "object_template_id = sim._sim.load_object_template(object_template, \"object\")\n",
    "\n",
    "goal_objectFile = 'data/test_assets/objects/sphere_blue.glb'\n",
    "object_template = PhysicsObjectAttributes()\n",
    "object_template.set_render_mesh_handle(goal_objectFile)\n",
    "object_template.set_bounding_box_collisions(True)\n",
    "object_template.set_scale(np.array([1.0, 1.0, 1.0]))\n",
    "goal_template_id = sim._sim.load_object_template(object_template, \"goal\")\n",
    "\n",
    "\n",
    "for i, choice in enumerate(mp_obj_choices):\n",
    "    object_id = sim.add_object(object_template_id)\n",
    "    goal_id = sim.add_object(goal_template_id)\n",
    "        \n",
    "    sim.set_object_motion_type(MotionType.DYNAMIC, object_id)\n",
    "    sim.set_object_motion_type(MotionType.DYNAMIC, goal_id)\n",
    "\n",
    "    # print(\"Object Dist: {}; Goal Dist: {}\".format(object_dist, goal_dist))\n",
    "    sim.set_translation(rw_obj_choices[i], object_id)\n",
    "    sim.set_translation(rw_goal_choices[i], goal_id)\n",
    "\n",
    "    sim.set_object_motion_type(MotionType.STATIC, object_id)\n",
    "    sim.set_object_motion_type(MotionType.STATIC, goal_id)\n",
    "\n",
    "    sim.recompute_navmesh(\n",
    "        sim.pathfinder, \n",
    "        navmesh_settings,\n",
    "        include_static_objects=True\n",
    "    )\n",
    "sim.pathfinder = sv.pf    \n",
    "result = validate_again(sim, rw_obj_choices, rw_goal_choices)\n",
    "print(result)\n",
    "for obj_id in sim.get_existing_object_ids()[1:]:\n",
    "    sim.remove_object(obj_id)"
   ]
  },
  {
   "cell_type": "code",
   "execution_count": null,
   "metadata": {},
   "outputs": [],
   "source": [
    "start_state = init_agent_state(sim, navmesh_settings, agent_id)\n",
    "object_positions, goal_positions, object_idxs, goal_idxs = init_test_scene_new(sim, navmesh_settings, 5)"
   ]
  },
  {
   "cell_type": "code",
   "execution_count": null,
   "metadata": {},
   "outputs": [],
   "source": [
    "sim.pathfinder = sv.pf\n",
    "validate_again(sim, object_positions, goal_positions)"
   ]
  },
  {
   "cell_type": "code",
   "execution_count": null,
   "metadata": {},
   "outputs": [],
   "source": [
    "top_down_map = colorize_topdown_map(tdmap)"
   ]
  },
  {
   "cell_type": "code",
   "execution_count": null,
   "metadata": {},
   "outputs": [],
   "source": [
    "top_down_map = sv.draw_topdown_map(rw_obj_choices, rw_goal_choices)"
   ]
  },
  {
   "cell_type": "code",
   "execution_count": null,
   "metadata": {},
   "outputs": [],
   "source": [
    "plt.figure(figsize=(6,6), dpi=600)\n",
    "plt.imshow(top_down_map)"
   ]
  },
  {
   "cell_type": "code",
   "execution_count": null,
   "metadata": {},
   "outputs": [],
   "source": [
    "def geodesic_distance1(sim, pf, position_a, position_b):\n",
    "    path = habitat_sim.MultiGoalShortestPath()\n",
    "    path.requested_start = np.array(position_a, dtype=np.float32)\n",
    "    if isinstance(position_b[0], List) or isinstance(\n",
    "        position_b[0], np.ndarray\n",
    "    ):\n",
    "        path.requested_ends = np.array(position_b, dtype=np.float32)\n",
    "    else:\n",
    "        path.requested_ends = np.array(\n",
    "            [np.array(position_b, dtype=np.float32)]\n",
    "        )\n",
    "\n",
    "    pf.find_path(path)\n",
    "\n",
    "    return path.geodesic_distance"
   ]
  },
  {
   "cell_type": "code",
   "execution_count": null,
   "metadata": {},
   "outputs": [],
   "source": [
    "validate_again(sim, object_positions, goal_positions)"
   ]
  },
  {
   "cell_type": "code",
   "execution_count": null,
   "metadata": {},
   "outputs": [],
   "source": [
    "episode = 0\n",
    "episodes = {'episodes': []}\n",
    "episode_dict = init_episode_dict(sim, scene, episode)\n",
    "episode_dict = add_object_details(sim, episode_dict, 5, object_idxs)\n",
    "episode_dict = add_goal_details(sim, episode_dict, 5, goal_idxs)\n",
    "episodes['episodes'].append(episode_dict)"
   ]
  },
  {
   "cell_type": "code",
   "execution_count": null,
   "metadata": {},
   "outputs": [],
   "source": [
    "episodes['episodes'][0]['objects']"
   ]
  },
  {
   "cell_type": "code",
   "execution_count": null,
   "metadata": {},
   "outputs": [],
   "source": [
    "plt.imshow(np.flip(tdmap1, axis=1).T)"
   ]
  },
  {
   "cell_type": "code",
   "execution_count": null,
   "metadata": {},
   "outputs": [],
   "source": [
    "sim.close()"
   ]
  },
  {
   "cell_type": "code",
   "execution_count": null,
   "metadata": {
    "scrolled": true
   },
   "outputs": [
    {
     "name": "stdout",
     "output_type": "stream",
     "text": [
      "data/scene_datasets/gibson_train_val/Fredericksburg.glb\n",
      " Episode 999 Object 4                                \n",
      "data/scene_datasets/gibson_train_val/Hainesburg.glb\n",
      " Episode 407 Object 4    "
     ]
    }
   ],
   "source": [
    "episodes = build_episode(1000, num_objects=5)"
   ]
  },
  {
   "cell_type": "code",
   "execution_count": 18,
   "metadata": {},
   "outputs": [],
   "source": [
    "with gzip.open('data/datasets/sokoban/coda/v1/train/content/object_5_scene_28_episode_1000_gibson.json.gz', \"wt\") as f:\n",
    "    json.dump(episodes, f)"
   ]
  },
  {
   "cell_type": "code",
   "execution_count": 19,
   "metadata": {},
   "outputs": [
    {
     "name": "stdout",
     "output_type": "stream",
     "text": [
      "finished training episode\n"
     ]
    }
   ],
   "source": [
    "print(\"finished training episode\")"
   ]
  },
  {
   "cell_type": "code",
   "execution_count": 23,
   "metadata": {},
   "outputs": [
    {
     "name": "stdout",
     "output_type": "stream",
     "text": [
      "data/scene_datasets/gibson_train_val/Kemblesville.glb\n",
      " Episode 49 Object 5 \n",
      "data/scene_datasets/gibson_train_val/Sasakwa.glb\n",
      " Episode 49 Object 3  \n",
      "data/scene_datasets/gibson_train_val/Chrisney.glb\n",
      " Episode 49 Object 4 \n",
      "data/scene_datasets/gibson_train_val/Model.glb\n",
      " Episode 49 Object 4 \n",
      "data/scene_datasets/gibson_train_val/Sodaville.glb\n",
      " Episode 49 Object 3 \n",
      "data/scene_datasets/gibson_train_val/Castor.glb\n",
      " Episode 49 Object 5 \n",
      "data/scene_datasets/gibson_train_val/Eagerville.glb\n",
      "inf 0 0\n",
      " Episode 49 Object 1 \n"
     ]
    }
   ],
   "source": [
    "train_df = pd.read_pickle('data/sokoban_gibson_val.pkl')\n",
    "episodes = build_episode(50, num_objects=5)\n",
    "with gzip.open('data/datasets/sokoban/coda/v1/train/content/object_5_scene_8_episode_50_gibson.json.gz', \"wt\") as f:\n",
    "    json.dump(episodes, f)"
   ]
  },
  {
   "cell_type": "code",
   "execution_count": 24,
   "metadata": {},
   "outputs": [
    {
     "name": "stdout",
     "output_type": "stream",
     "text": [
      "data/scene_datasets/gibson_train_val/Stockertown.glb\n",
      " Episode 49 Object 3  \n",
      "data/scene_datasets/gibson_train_val/Edgemere.glb\n",
      " Episode 49 Object 1 \n",
      "data/scene_datasets/gibson_train_val/Wells.glb\n",
      " Episode 49 Object 2  \n",
      "data/scene_datasets/gibson_train_val/Cokeville.glb\n",
      " Episode 49 Object 2 \n",
      "data/scene_datasets/gibson_train_val/Howie.glb\n",
      " Episode 49 Object 2    \n",
      "data/scene_datasets/gibson_train_val/Sands.glb\n",
      " Episode 49 Object 4 \n",
      "data/scene_datasets/gibson_train_val/Sagerton.glb\n",
      " Episode 49 Object 4  \n",
      "data/scene_datasets/gibson_train_val/Southfield.glb\n",
      " Episode 49 Object 2 \n",
      "data/scene_datasets/gibson_train_val/Silerton.glb\n",
      " Episode 49 Object 4 \n"
     ]
    }
   ],
   "source": [
    "train_df = pd.read_pickle('data/sokoban_gibson_test.pkl')\n",
    "episodes = build_episode(50, num_objects=5)\n",
    "with gzip.open('data/datasets/sokoban/coda/v1/train/content/object_5_scene_9_gibson.json.gz', \"wt\") as f:\n",
    "    json.dump(episodes, f)"
   ]
  },
  {
   "cell_type": "code",
   "execution_count": 6,
   "metadata": {},
   "outputs": [],
   "source": [
    "with gzip.open('data/datasets/sokoban/coda/v1/train/content/object_5_scene_28_episode_1000_gibson.json.gz', \"rt\") as f:\n",
    "    ep = json.load(f)"
   ]
  },
  {
   "cell_type": "code",
   "execution_count": 9,
   "metadata": {},
   "outputs": [],
   "source": [
    "import pandas as pd\n",
    "epdf = pd.DataFrame.from_dict(ep['episodes'])"
   ]
  },
  {
   "cell_type": "code",
   "execution_count": 11,
   "metadata": {},
   "outputs": [],
   "source": [
    "epdf['no_of_objects'] = epdf['objects'].apply(lambda x: len(x))"
   ]
  },
  {
   "cell_type": "code",
   "execution_count": 43,
   "metadata": {},
   "outputs": [],
   "source": [
    "from collections import Counter\n",
    "d = epdf.sort_values(by='no_of_objects')"
   ]
  },
  {
   "cell_type": "code",
   "execution_count": 44,
   "metadata": {},
   "outputs": [],
   "source": [
    "del d['no_of_objects']\n",
    "d = d.to_dict(orient='records')"
   ]
  },
  {
   "cell_type": "code",
   "execution_count": 45,
   "metadata": {},
   "outputs": [],
   "source": [
    "ep['episodes'] = d"
   ]
  },
  {
   "cell_type": "code",
   "execution_count": 46,
   "metadata": {},
   "outputs": [],
   "source": [
    "with gzip.open('data/datasets/sokoban/coda/v1/train/content/sorted_object_5_scene_28_episode_1000_gibson.json.gz', \"wt\") as f:\n",
    "    json.dump(ep, f)"
   ]
  },
  {
   "cell_type": "code",
   "execution_count": null,
   "metadata": {},
   "outputs": [],
   "source": [
    "obs = sim.get_sensor_observations()ascending="
   ]
  },
  {
   "cell_type": "code",
   "execution_count": null,
   "metadata": {},
   "outputs": [],
   "source": [
    "obs = sim.step(\"move_forward\")"
   ]
  },
  {
   "cell_type": "code",
   "execution_count": null,
   "metadata": {},
   "outputs": [],
   "source": [
    "obs = sim.step(\"turn_left\")"
   ]
  },
  {
   "cell_type": "code",
   "execution_count": null,
   "metadata": {},
   "outputs": [],
   "source": [
    "obs = sim.step(\"turn_right\")"
   ]
  },
  {
   "cell_type": "code",
   "execution_count": null,
   "metadata": {},
   "outputs": [],
   "source": [
    "obs = sim.step(\"grab_release\")"
   ]
  },
  {
   "cell_type": "code",
   "execution_count": null,
   "metadata": {},
   "outputs": [],
   "source": [
    "obs = sim.step(\"look_down\")"
   ]
  },
  {
   "cell_type": "code",
   "execution_count": null,
   "metadata": {},
   "outputs": [],
   "source": [
    "obs = sim.step(\"look_up\")"
   ]
  },
  {
   "cell_type": "code",
   "execution_count": null,
   "metadata": {},
   "outputs": [],
   "source": [
    "color_obs = obs[\"color_sensor\"][:, :, :3]\n",
    "color_obs[190:195, 125:130, :] = [0, 0, 255] \n",
    "depth_obs = obs[\"depth_sensor\"]\n",
    "depth_obs = ((depth_obs - np.min(depth_obs))/ np.max(depth_obs) * 255.0).astype(np.int)\n",
    "depth_obs = np.transpose(np.stack([depth_obs]*3), (1,2,0))\n",
    "plt.imshow(np.concatenate([color_obs, depth_obs], axis=1))"
   ]
  },
  {
   "cell_type": "code",
   "execution_count": null,
   "metadata": {},
   "outputs": [],
   "source": [
    "import math \n",
    "\n",
    "from habitat_sim.utils.common import (\n",
    "    d3_40_colors_rgb,\n",
    "    download_and_unzip,\n",
    "    quat_from_angle_axis,\n",
    ")\n",
    "\n",
    "def point_toward_object(sim, agent_id, obj_id):\n",
    "    # obj_rot = sim.get_rotation(obj_id)\n",
    "    # sim.set_rotation(obj_rot, agent_id)\n",
    "    agent_pos = sim.get_translation(agent_id)\n",
    "    obj_pos = sim.get_translation(obj_id)\n",
    "    agent_to_obj = obj_pos - agent_pos\n",
    "    agent_local_forward = np.array([0, 0, -1.0])\n",
    "    flat_to_obj = np.array([agent_to_obj[0], 0.0, agent_to_obj[2]])\n",
    "    det = (\n",
    "            flat_to_obj[0] * agent_local_forward[2]\n",
    "            - agent_local_forward[0] * flat_to_obj[2]\n",
    "        )\n",
    "    turn_angle = math.atan2(det, np.dot(agent_local_forward, flat_to_obj))\n",
    "    quat = quat_from_angle_axis(turn_angle, np.array([0, 1.0, 0]))\n",
    "    rot_quat = mn.Quaternion([quat.x, quat.y, quat.z], quat.w)\n",
    "    sim.set_rotation(rot_quat, agent_id)\n",
    "\n",
    "def move_towards_agent(sim, agent_id, obj_id):\n",
    "    agent_pos = sim.get_translation(agent_id)\n",
    "    obj_pos = sim.get_translation(obj_id)\n",
    "    agent_to_obj = obj_pos - agent_pos\n",
    "    agent_local_forward = np.array([0, 0, -1.0])\n",
    "    flat_to_obj = np.array([agent_to_obj[0], 0.0, agent_to_obj[2]])\n",
    "    sim.set_translation(obj_pos - (flat_to_obj * 1.0 / np.linalg.norm(flat_to_obj)), agent_id)"
   ]
  },
  {
   "cell_type": "code",
   "execution_count": null,
   "metadata": {},
   "outputs": [],
   "source": [
    "def point_towards_goal(sim, agent_id, obj_id, final_id):\n",
    "    obj_pos = sim.get_translation(obj_id)\n",
    "    final_pos = sim.get_translation(final_id)\n",
    "    final_to_obj = final_pos - obj_pos\n",
    "    agent_local_forward = np.array([0, 0, -1.0])\n",
    "    flat_to_obj = np.array([final_to_obj[0], 0.0, final_to_obj[2]])\n",
    "    det = (\n",
    "            flat_to_obj[0] * agent_local_forward[2]\n",
    "            - agent_local_forward[0] * flat_to_obj[2]\n",
    "        )\n",
    "    turn_angle = math.atan2(det, np.dot(agent_local_forward, flat_to_obj))\n",
    "    quat = quat_from_angle_axis(turn_angle, np.array([0, 1.0, 0]))\n",
    "    rot_quat = mn.Quaternion([quat.x, quat.y, quat.z], quat.w)\n",
    "    sim.set_rotation(rot_quat, agent_id)\n",
    "    \n",
    "def move_towards_goal(sim, agent_id, obj_id, final_id):\n",
    "    agent_pos = sim.get_translation(agent_id)\n",
    "    final_pos = sim.get_translation(final_id)\n",
    "    obj_pos = sim.get_translation(obj_id)\n",
    "    final_to_obj = final_pos - agent_pos\n",
    "    agent_local_forward = np.array([0, 0, -1.0])\n",
    "    flat_to_obj = np.array([final_to_obj[0], 0.0, final_to_obj[2]])\n",
    "    sim.set_translation(final_pos - (flat_to_obj * 1.0 / np.linalg.norm(flat_to_obj)), agent_id)\n",
    "    \n",
    "def get_geodesic_distance_between_object_goal(sim, obj_id, final_id):\n",
    "    final_pos = np.array(sim.get_translation(final_id))\n",
    "    obj_pos = np.array(sim.get_translation(obj_id))\n",
    "    dist = geodesic_distance(sim, obj_pos, [final_pos])\n",
    "    print(dist)"
   ]
  },
  {
   "cell_type": "code",
   "execution_count": null,
   "metadata": {},
   "outputs": [],
   "source": [
    "num_objects = len(episodes['episodes'][0]['objects'])\n",
    "print(num_objects)"
   ]
  },
  {
   "cell_type": "code",
   "execution_count": null,
   "metadata": {},
   "outputs": [],
   "source": [
    "obj_id = 1"
   ]
  },
  {
   "cell_type": "code",
   "execution_count": null,
   "metadata": {},
   "outputs": [],
   "source": [
    "point_toward_object(sim, 0, obj_id)\n",
    "move_towards_agent(sim, 0, obj_id)"
   ]
  },
  {
   "cell_type": "code",
   "execution_count": null,
   "metadata": {},
   "outputs": [],
   "source": [
    "point_toward_object(sim, 0, 2*obj_id)\n",
    "move_towards_agent(sim, 0, 2*obj_id)"
   ]
  },
  {
   "cell_type": "code",
   "execution_count": null,
   "metadata": {},
   "outputs": [],
   "source": [
    "get_geodesic_distance_between_object_goal(sim, obj_id,  obj_id*2)"
   ]
  },
  {
   "cell_type": "code",
   "execution_count": null,
   "metadata": {},
   "outputs": [],
   "source": [
    "get_geodesic_distance_between_object_goal(sim, 0,  obj_id)"
   ]
  },
  {
   "cell_type": "code",
   "execution_count": null,
   "metadata": {},
   "outputs": [],
   "source": [
    "episodes"
   ]
  },
  {
   "cell_type": "code",
   "execution_count": null,
   "metadata": {},
   "outputs": [],
   "source": [
    "len(episodes['episodes'])"
   ]
  },
  {
   "cell_type": "code",
   "execution_count": null,
   "metadata": {},
   "outputs": [],
   "source": [
    "for episode in episodes['episodes']:\n",
    "    print(len(episode['objects']))"
   ]
  },
  {
   "cell_type": "code",
   "execution_count": null,
   "metadata": {},
   "outputs": [],
   "source": [
    "sim.pathfinder"
   ]
  }
 ],
 "metadata": {
  "kernelspec": {
   "display_name": "Python 3",
   "language": "python",
   "name": "python3"
  },
  "language_info": {
   "codemirror_mode": {
    "name": "ipython",
    "version": 3
   },
   "file_extension": ".py",
   "mimetype": "text/x-python",
   "name": "python",
   "nbconvert_exporter": "python",
   "pygments_lexer": "ipython3",
   "version": "3.6.10"
  }
 },
 "nbformat": 4,
 "nbformat_minor": 4
}
