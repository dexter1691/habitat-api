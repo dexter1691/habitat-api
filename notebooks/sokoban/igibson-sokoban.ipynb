{
 "cells": [
  {
   "cell_type": "code",
   "execution_count": 1,
   "metadata": {},
   "outputs": [],
   "source": [
    "import sys"
   ]
  },
  {
   "cell_type": "code",
   "execution_count": 2,
   "metadata": {},
   "outputs": [],
   "source": [
    "sys.path.append('/srv/share3/hagrawal9/project/sokoban/habitat-sim/')\n",
    "sys.path.append('/srv/share3/hagrawal9/project/sokoban/habitat-api/')"
   ]
  },
  {
   "cell_type": "code",
   "execution_count": 4,
   "metadata": {},
   "outputs": [
    {
     "name": "stdout",
     "output_type": "stream",
     "text": [
      "/coc/pskynet3/hagrawal9/project/habitat/habitat-api\n"
     ]
    }
   ],
   "source": [
    "cd .."
   ]
  },
  {
   "cell_type": "code",
   "execution_count": 5,
   "metadata": {},
   "outputs": [],
   "source": [
    "import os\n",
    "import json\n",
    "import random\n",
    "import pandas as pd"
   ]
  },
  {
   "cell_type": "code",
   "execution_count": 29,
   "metadata": {},
   "outputs": [],
   "source": [
    "filename = 'data/scene_datasets/igibson/gibson_scene_metadata.json'\n",
    "with open(filename) as f:\n",
    "    gibson_data = json.load(f)"
   ]
  },
  {
   "cell_type": "code",
   "execution_count": 30,
   "metadata": {},
   "outputs": [],
   "source": [
    "gibson_df = pd.DataFrame.from_dict(gibson_data)"
   ]
  },
  {
   "cell_type": "code",
   "execution_count": 31,
   "metadata": {},
   "outputs": [],
   "source": [
    "gibson_df = pd.concat([gibson_df.drop(['stats'], axis=1), gibson_df['stats'].apply(pd.Series)], axis=1)"
   ]
  },
  {
   "cell_type": "code",
   "execution_count": 32,
   "metadata": {},
   "outputs": [
    {
     "data": {
      "text/html": [
       "<div>\n",
       "<style scoped>\n",
       "    .dataframe tbody tr th:only-of-type {\n",
       "        vertical-align: middle;\n",
       "    }\n",
       "\n",
       "    .dataframe tbody tr th {\n",
       "        vertical-align: top;\n",
       "    }\n",
       "\n",
       "    .dataframe thead th {\n",
       "        text-align: right;\n",
       "    }\n",
       "</style>\n",
       "<table border=\"1\" class=\"dataframe\">\n",
       "  <thead>\n",
       "    <tr style=\"text-align: right;\">\n",
       "      <th></th>\n",
       "      <th>id</th>\n",
       "      <th>name</th>\n",
       "      <th>split_full</th>\n",
       "      <th>split_full+</th>\n",
       "      <th>split_medium</th>\n",
       "      <th>split_tiny</th>\n",
       "      <th>area</th>\n",
       "      <th>floor</th>\n",
       "      <th>navigation_complexity</th>\n",
       "      <th>room</th>\n",
       "      <th>ssa</th>\n",
       "    </tr>\n",
       "  </thead>\n",
       "  <tbody>\n",
       "    <tr>\n",
       "      <th>202</th>\n",
       "      <td>Gluek</td>\n",
       "      <td>model-290</td>\n",
       "      <td>none</td>\n",
       "      <td>test</td>\n",
       "      <td>none</td>\n",
       "      <td>none</td>\n",
       "      <td>740.584</td>\n",
       "      <td>7.0</td>\n",
       "      <td>3.620</td>\n",
       "      <td>12.0</td>\n",
       "      <td>0.493</td>\n",
       "    </tr>\n",
       "    <tr>\n",
       "      <th>53</th>\n",
       "      <td>Bettendorf</td>\n",
       "      <td>model-289</td>\n",
       "      <td>train</td>\n",
       "      <td>train</td>\n",
       "      <td>none</td>\n",
       "      <td>none</td>\n",
       "      <td>4371.903</td>\n",
       "      <td>6.0</td>\n",
       "      <td>3.360</td>\n",
       "      <td>21.0</td>\n",
       "      <td>0.493</td>\n",
       "    </tr>\n",
       "    <tr>\n",
       "      <th>352</th>\n",
       "      <td>Micanopy</td>\n",
       "      <td>model-172</td>\n",
       "      <td>train</td>\n",
       "      <td>train</td>\n",
       "      <td>train</td>\n",
       "      <td>none</td>\n",
       "      <td>374.441</td>\n",
       "      <td>4.0</td>\n",
       "      <td>2.006</td>\n",
       "      <td>29.0</td>\n",
       "      <td>0.498</td>\n",
       "    </tr>\n",
       "    <tr>\n",
       "      <th>100</th>\n",
       "      <td>Chesterbrook</td>\n",
       "      <td>model-171</td>\n",
       "      <td>train</td>\n",
       "      <td>train</td>\n",
       "      <td>none</td>\n",
       "      <td>none</td>\n",
       "      <td>551.319</td>\n",
       "      <td>3.0</td>\n",
       "      <td>1.236</td>\n",
       "      <td>21.0</td>\n",
       "      <td>0.498</td>\n",
       "    </tr>\n",
       "    <tr>\n",
       "      <th>548</th>\n",
       "      <td>Weleetka</td>\n",
       "      <td>model-245</td>\n",
       "      <td>train</td>\n",
       "      <td>train</td>\n",
       "      <td>none</td>\n",
       "      <td>none</td>\n",
       "      <td>1357.157</td>\n",
       "      <td>4.0</td>\n",
       "      <td>8.402</td>\n",
       "      <td>26.0</td>\n",
       "      <td>0.498</td>\n",
       "    </tr>\n",
       "    <tr>\n",
       "      <th>...</th>\n",
       "      <td>...</td>\n",
       "      <td>...</td>\n",
       "      <td>...</td>\n",
       "      <td>...</td>\n",
       "      <td>...</td>\n",
       "      <td>...</td>\n",
       "      <td>...</td>\n",
       "      <td>...</td>\n",
       "      <td>...</td>\n",
       "      <td>...</td>\n",
       "      <td>...</td>\n",
       "    </tr>\n",
       "    <tr>\n",
       "      <th>165</th>\n",
       "      <td>Elmira</td>\n",
       "      <td>model-345</td>\n",
       "      <td>none</td>\n",
       "      <td>val</td>\n",
       "      <td>none</td>\n",
       "      <td>none</td>\n",
       "      <td>42.795</td>\n",
       "      <td>1.0</td>\n",
       "      <td>1.431</td>\n",
       "      <td>3.0</td>\n",
       "      <td>2.177</td>\n",
       "    </tr>\n",
       "    <tr>\n",
       "      <th>477</th>\n",
       "      <td>Siren</td>\n",
       "      <td>model-483</td>\n",
       "      <td>none</td>\n",
       "      <td>train</td>\n",
       "      <td>none</td>\n",
       "      <td>none</td>\n",
       "      <td>739.196</td>\n",
       "      <td>3.0</td>\n",
       "      <td>5.496</td>\n",
       "      <td>23.0</td>\n",
       "      <td>2.332</td>\n",
       "    </tr>\n",
       "    <tr>\n",
       "      <th>376</th>\n",
       "      <td>Musicks</td>\n",
       "      <td>model-484</td>\n",
       "      <td>train</td>\n",
       "      <td>train</td>\n",
       "      <td>train</td>\n",
       "      <td>none</td>\n",
       "      <td>209.679</td>\n",
       "      <td>3.0</td>\n",
       "      <td>1.141</td>\n",
       "      <td>10.0</td>\n",
       "      <td>2.332</td>\n",
       "    </tr>\n",
       "    <tr>\n",
       "      <th>255</th>\n",
       "      <td>Idanha</td>\n",
       "      <td>model-71</td>\n",
       "      <td>none</td>\n",
       "      <td>val</td>\n",
       "      <td>none</td>\n",
       "      <td>none</td>\n",
       "      <td>40.383</td>\n",
       "      <td>1.0</td>\n",
       "      <td>1.407</td>\n",
       "      <td>1.0</td>\n",
       "      <td>2.525</td>\n",
       "    </tr>\n",
       "    <tr>\n",
       "      <th>339</th>\n",
       "      <td>McCloud</td>\n",
       "      <td>model-72</td>\n",
       "      <td>none</td>\n",
       "      <td>train</td>\n",
       "      <td>none</td>\n",
       "      <td>none</td>\n",
       "      <td>645.828</td>\n",
       "      <td>3.0</td>\n",
       "      <td>5.655</td>\n",
       "      <td>26.0</td>\n",
       "      <td>2.525</td>\n",
       "    </tr>\n",
       "  </tbody>\n",
       "</table>\n",
       "<p>572 rows × 11 columns</p>\n",
       "</div>"
      ],
      "text/plain": [
       "               id       name split_full split_full+ split_medium split_tiny  \\\n",
       "202         Gluek  model-290       none        test         none       none   \n",
       "53     Bettendorf  model-289      train       train         none       none   \n",
       "352      Micanopy  model-172      train       train        train       none   \n",
       "100  Chesterbrook  model-171      train       train         none       none   \n",
       "548      Weleetka  model-245      train       train         none       none   \n",
       "..            ...        ...        ...         ...          ...        ...   \n",
       "165        Elmira  model-345       none         val         none       none   \n",
       "477         Siren  model-483       none       train         none       none   \n",
       "376       Musicks  model-484      train       train        train       none   \n",
       "255        Idanha   model-71       none         val         none       none   \n",
       "339       McCloud   model-72       none       train         none       none   \n",
       "\n",
       "         area  floor  navigation_complexity  room    ssa  \n",
       "202   740.584    7.0                  3.620  12.0  0.493  \n",
       "53   4371.903    6.0                  3.360  21.0  0.493  \n",
       "352   374.441    4.0                  2.006  29.0  0.498  \n",
       "100   551.319    3.0                  1.236  21.0  0.498  \n",
       "548  1357.157    4.0                  8.402  26.0  0.498  \n",
       "..        ...    ...                    ...   ...    ...  \n",
       "165    42.795    1.0                  1.431   3.0  2.177  \n",
       "477   739.196    3.0                  5.496  23.0  2.332  \n",
       "376   209.679    3.0                  1.141  10.0  2.332  \n",
       "255    40.383    1.0                  1.407   1.0  2.525  \n",
       "339   645.828    3.0                  5.655  26.0  2.525  \n",
       "\n",
       "[572 rows x 11 columns]"
      ]
     },
     "execution_count": 32,
     "metadata": {},
     "output_type": "execute_result"
    }
   ],
   "source": [
    "gibson_df.sort_values(by='ssa')"
   ]
  },
  {
   "cell_type": "code",
   "execution_count": 33,
   "metadata": {},
   "outputs": [],
   "source": [
    "gibson_test = gibson_df[gibson_df['split_full+']=='test']\n",
    "gibson_val = gibson_df[gibson_df['split_full+']=='val']\n",
    "gibson_train = gibson_df[gibson_df['split_full+'] == 'train']"
   ]
  },
  {
   "cell_type": "code",
   "execution_count": 34,
   "metadata": {},
   "outputs": [
    {
     "data": {
      "text/plain": [
       "((80, 11), (80, 11), (412, 11))"
      ]
     },
     "execution_count": 34,
     "metadata": {},
     "output_type": "execute_result"
    }
   ],
   "source": [
    "gibson_test.shape, gibson_val.shape, gibson_train.shape"
   ]
  },
  {
   "cell_type": "code",
   "execution_count": 35,
   "metadata": {},
   "outputs": [],
   "source": [
    "df = gibson_df.sort_values(by='ssa')"
   ]
  },
  {
   "cell_type": "code",
   "execution_count": 36,
   "metadata": {},
   "outputs": [
    {
     "data": {
      "text/plain": [
       "(260, 11)"
      ]
     },
     "execution_count": 36,
     "metadata": {},
     "output_type": "execute_result"
    }
   ],
   "source": [
    "df[(df['split_full']=='train') & (df['split_medium']!='train')].shape"
   ]
  },
  {
   "cell_type": "code",
   "execution_count": 37,
   "metadata": {},
   "outputs": [],
   "source": [
    "with open('data/train_scenes.txt') as f:\n",
    "    train_scenes = [line.strip() for line in f.readlines()]\n",
    "\n",
    "with open('data/val_scenes.txt') as f:\n",
    "    val_scenes = [line.strip() for line in f.readlines()]\n",
    "    \n",
    "with open('data/test_scenes.txt') as f:\n",
    "    test_scenes = [line.strip() for line in f.readlines()]"
   ]
  },
  {
   "cell_type": "code",
   "execution_count": 38,
   "metadata": {},
   "outputs": [],
   "source": [
    "scenes = os.listdir('data/scene_datasets/gibson_train_val/')\n",
    "more_scenes = os.listdir('data/scene_datasets/gibson/')"
   ]
  },
  {
   "cell_type": "code",
   "execution_count": 39,
   "metadata": {},
   "outputs": [],
   "source": [
    "gibson_scenes = []\n",
    "for scene in scenes + more_scenes:\n",
    "    if '.glb' in scene:\n",
    "        gibson_scenes.append(scene[:-4])"
   ]
  },
  {
   "cell_type": "code",
   "execution_count": 40,
   "metadata": {},
   "outputs": [],
   "source": [
    "df_gibson = df[df['id'].isin(gibson_scenes)]"
   ]
  },
  {
   "cell_type": "code",
   "execution_count": 41,
   "metadata": {},
   "outputs": [
    {
     "data": {
      "text/plain": [
       "(491, 11)"
      ]
     },
     "execution_count": 41,
     "metadata": {},
     "output_type": "execute_result"
    }
   ],
   "source": [
    "df_gibson.shape"
   ]
  },
  {
   "cell_type": "code",
   "execution_count": 58,
   "metadata": {},
   "outputs": [],
   "source": [
    "train_df = df_gibson[df_gibson['id'].isin(train_scenes)]\n",
    "val_df = df_gibson[df_gibson['id'].isin(val_scenes)]\n",
    "test_df = df_gibson[df_gibson['id'].isin(test_scenes)]"
   ]
  },
  {
   "cell_type": "code",
   "execution_count": 59,
   "metadata": {},
   "outputs": [],
   "source": [
    "train_sokoban_scenes = train_df['id'].tolist()\n",
    "val_sokoban_scenes = val_df['id'].tolist()\n",
    "test_sokoban_scenes = test_df['id'].tolist()\n",
    "random.shuffle(train_sokoban_scenes)\n",
    "random.shuffle(val_sokoban_scenes)\n",
    "random.shuffle(test_sokoban_scenes)"
   ]
  },
  {
   "cell_type": "code",
   "execution_count": 60,
   "metadata": {},
   "outputs": [
    {
     "data": {
      "text/plain": [
       "10"
      ]
     },
     "execution_count": 60,
     "metadata": {},
     "output_type": "execute_result"
    }
   ],
   "source": [
    "len(test_sokoban_scenes)"
   ]
  },
  {
   "cell_type": "code",
   "execution_count": 61,
   "metadata": {},
   "outputs": [],
   "source": [
    "train_scenes = train_sokoban_scenes\n",
    "val_scenes = val_sokoban_scenes"
   ]
  },
  {
   "cell_type": "code",
   "execution_count": 67,
   "metadata": {},
   "outputs": [],
   "source": [
    "train_df.to_pickle('data/sokoban_gibson_train.pkl')\n",
    "val_df.to_pickle('data/sokoban_gibson_val.pkl')\n",
    "test_df.to_pickle('data/sokoban_gibson_test.pkl')"
   ]
  },
  {
   "cell_type": "code",
   "execution_count": 68,
   "metadata": {},
   "outputs": [
    {
     "data": {
      "text/plain": [
       "(35, 11)"
      ]
     },
     "execution_count": 68,
     "metadata": {},
     "output_type": "execute_result"
    }
   ],
   "source": [
    "train_df.shape"
   ]
  },
  {
   "cell_type": "code",
   "execution_count": 69,
   "metadata": {},
   "outputs": [
    {
     "data": {
      "text/plain": [
       "(10, 11)"
      ]
     },
     "execution_count": 69,
     "metadata": {},
     "output_type": "execute_result"
    }
   ],
   "source": [
    "val_df.shape"
   ]
  },
  {
   "cell_type": "code",
   "execution_count": 70,
   "metadata": {},
   "outputs": [
    {
     "data": {
      "text/plain": [
       "35"
      ]
     },
     "execution_count": 70,
     "metadata": {},
     "output_type": "execute_result"
    }
   ],
   "source": [
    "len(train_sokoban_scenes)"
   ]
  },
  {
   "cell_type": "code",
   "execution_count": 71,
   "metadata": {},
   "outputs": [
    {
     "data": {
      "text/plain": [
       "10"
      ]
     },
     "execution_count": 71,
     "metadata": {},
     "output_type": "execute_result"
    }
   ],
   "source": [
    "len(val_sokoban_scenes)"
   ]
  },
  {
   "cell_type": "code",
   "execution_count": 72,
   "metadata": {},
   "outputs": [
    {
     "data": {
      "text/plain": [
       "'/coc/pskynet3/hagrawal9/project/habitat/habitat-api'"
      ]
     },
     "execution_count": 72,
     "metadata": {},
     "output_type": "execute_result"
    }
   ],
   "source": [
    "pwd"
   ]
  },
  {
   "cell_type": "code",
   "execution_count": null,
   "metadata": {},
   "outputs": [],
   "source": []
  }
 ],
 "metadata": {
  "kernelspec": {
   "display_name": "Python 3",
   "language": "python",
   "name": "python3"
  },
  "language_info": {
   "codemirror_mode": {
    "name": "ipython",
    "version": 3
   },
   "file_extension": ".py",
   "mimetype": "text/x-python",
   "name": "python",
   "nbconvert_exporter": "python",
   "pygments_lexer": "ipython3",
   "version": "3.6.10"
  }
 },
 "nbformat": 4,
 "nbformat_minor": 4
}
