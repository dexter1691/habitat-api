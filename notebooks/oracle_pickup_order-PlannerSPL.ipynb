{
 "cells": [
  {
   "cell_type": "code",
   "execution_count": 1,
   "metadata": {},
   "outputs": [],
   "source": [
    "import sys "
   ]
  },
  {
   "cell_type": "code",
   "execution_count": null,
   "metadata": {},
   "outputs": [],
   "source": [
    "cd '/srv/flash1/hagrawal9/project/habitat/habitat-api/'"
   ]
  },
  {
   "cell_type": "code",
   "execution_count": 3,
   "metadata": {},
   "outputs": [],
   "source": [
    "import gzip\n",
    "import json\n",
    "import os\n",
    "import sys\n",
    "from typing import Any, Dict, List, Optional, Type\n",
    "from copy import deepcopy\n",
    "\n",
    "import attr\n",
    "import cv2\n",
    "import git\n",
    "import magnum as mn\n",
    "import numpy as np\n",
    "\n",
    "# %matplotlib inline\n",
    "from matplotlib import pyplot as plt\n",
    "from pathlib import Path\n",
    "from PIL import Image\n",
    "\n",
    "\n",
    "import habitat\n",
    "import habitat_sim\n",
    "from habitat.config import Config\n",
    "from habitat.core.registry import registry\n",
    "from habitat_sim.utils import viz_utils as vut\n",
    "from habitat.utils.visualizations import maps, fog_of_war\n",
    "from habitat.utils.visualizations.utils import observations_to_image\n",
    "\n",
    "from rearrangement.utils.planner import (\n",
    "    compute_traversable_map,\n",
    "    compute_distance_using_fmm,\n",
    "    find_dist_from_map,\n",
    "    compute_distance_mat_using_navmesh,\n",
    "    compute_distance_mat_using_fmm,\n",
    "    find_shortest_path_for_multiple_objects\n",
    ")\n",
    "from rearrangement.utils.visualization import (\n",
    "    get_top_down_map\n",
    ")\n",
    "from rearrangement.utils.geometry import (\n",
    "     geodesic_distance\n",
    ")\n",
    "from collections import defaultdict"
   ]
  },
  {
   "cell_type": "code",
   "execution_count": 4,
   "metadata": {},
   "outputs": [],
   "source": [
    "from habitat.datasets.rearrangement.rearrangement_dataset import RearrangementDatasetV0\n",
    "from habitat.tasks.rearrangement.rearrangement_task import RearrangementEpisode"
   ]
  },
  {
   "cell_type": "code",
   "execution_count": 5,
   "metadata": {},
   "outputs": [],
   "source": [
    "repo = git.Repo(\".\", search_parent_directories=True)\n",
    "dir_path = repo.working_tree_dir\n",
    "# %cd $dir_path\n",
    "data_path = os.path.join(dir_path, \"data\")\n",
    "output_directory = \"data/tutorials/output/\"  # @param {type:\"string\"}\n",
    "output_path = os.path.join(dir_path, output_directory)"
   ]
  },
  {
   "cell_type": "code",
   "execution_count": 6,
   "metadata": {},
   "outputs": [],
   "source": [
    "config = habitat.get_config(\"configs/tasks/rearrangement_debug.yaml\")"
   ]
  },
  {
   "cell_type": "code",
   "execution_count": 7,
   "metadata": {},
   "outputs": [],
   "source": [
    "config.defrost()\n",
    "config.TASK.SENSORS =  [\"GRIPPED_OBJECT_SENSOR\", \"ALL_OBJECT_POSITIONS\", \"ALL_OBJECT_GOALS\"]\n",
    "config.TASK.MEASUREMENTS = ['OBJECT_TO_GOAL_DISTANCE', 'AGENT_TO_OBJECT_DISTANCE', 'TOP_DOWN_MAP']\n",
    "config.DATASET.SPLIT = \"test\"\n",
    "# config.DATASET.CONTENT_SCENES = [\"rearrangement_v4_val_n=10_o=-1_Willow\"]\n",
    "config.freeze()"
   ]
  },
  {
   "cell_type": "code",
   "execution_count": 8,
   "metadata": {},
   "outputs": [
    {
     "data": {
      "text/plain": [
       "256"
      ]
     },
     "execution_count": 8,
     "metadata": {},
     "output_type": "execute_result"
    }
   ],
   "source": [
    "config.TASK.TOP_DOWN_MAP.MAP_RESOLUTION"
   ]
  },
  {
   "cell_type": "code",
   "execution_count": 9,
   "metadata": {},
   "outputs": [
    {
     "name": "stderr",
     "output_type": "stream",
     "text": [
      "2020-11-04 19:52:09,326 Initializing dataset RearrangementDataset-v0\n",
      "2020-11-04 19:52:09,333 initializing sim RearrangementSim-v0\n",
      "I1104 19:52:14.943583 54030 simulator.py:168] Loaded navmesh data/scene_datasets/gibson_train_val/Spencerville.navmesh\n",
      "I1104 19:52:14.948261 54030 simulator.py:180] Recomputing navmesh for agent's height 0.88 and radius 0.18.\n",
      "2020-11-04 19:52:15,053 Initializing task RearrangementTask-v0\n"
     ]
    }
   ],
   "source": [
    "try:\n",
    "    env.close()\n",
    "except:\n",
    "    pass\n",
    "env = habitat.Env(config)\n",
    "fog_of_war_mask = None\n",
    "pickup_order = {}\n"
   ]
  },
  {
   "cell_type": "code",
   "execution_count": 10,
   "metadata": {},
   "outputs": [
    {
     "data": {
      "text/plain": [
       "10"
      ]
     },
     "execution_count": 10,
     "metadata": {},
     "output_type": "execute_result"
    }
   ],
   "source": [
    "len(env.episodes)"
   ]
  },
  {
   "cell_type": "code",
   "execution_count": 11,
   "metadata": {},
   "outputs": [],
   "source": [
    "def compute_oracle_pickup_order(env):\n",
    "    # obs = env.reset()\n",
    "    metrics = env.get_metrics()\n",
    "    episode = env.current_episode\n",
    "    metrics = env.get_metrics()\n",
    "\n",
    "    agent_pos = env._sim.get_agent(0).get_state().position\n",
    "    object_positions = [obj.position for obj in episode.objects]\n",
    "    goal_positions = [obj.position for obj in episode.goals]\n",
    "    \n",
    "    dist_mat = compute_distance_mat_using_navmesh(env._task._simple_pathfinder, agent_pos, object_positions, goal_positions)\n",
    "    route_indexes_navmesh, pickup_order_navmesh = find_shortest_path_for_multiple_objects(dist_mat)\n",
    "    \n",
    "#     top_down_map, fog_of_war_mask = get_top_down_map(\n",
    "#         env, env._task._simple_pathfinder, ignore_objects=True, fog_of_war_mask=None, draw_fow=False, \n",
    "#         draw_agent=False, draw_object_start_pos=False, draw_object_final_pos=False, draw_object_curr_pos=False\n",
    "#     )\n",
    "    \n",
    "    \n",
    "#     a_y, a_x = maps.to_grid(\n",
    "#         agent_pos[2],\n",
    "#         agent_pos[0],\n",
    "#         top_down_map.shape[0:2],\n",
    "#         sim=env._sim,\n",
    "#     )\n",
    "#     grid_object_positions = []\n",
    "#     grid_goal_positions = []\n",
    "\n",
    "#     for i, obj_pos in enumerate(object_positions):\n",
    "#         tdm_pos = maps.to_grid(\n",
    "#             obj_pos[2],\n",
    "#             obj_pos[0],\n",
    "#             top_down_map.shape[0:2],\n",
    "#             sim=env._sim,\n",
    "#         )\n",
    "#         grid_object_positions.append(tdm_pos)\n",
    "\n",
    "#     for i, goal_pos in enumerate(goal_positions):\n",
    "#         tdm_pos = maps.to_grid(\n",
    "#             goal_pos[2],\n",
    "#             goal_pos[0],\n",
    "#             top_down_map.shape[0:2],\n",
    "#             sim=env._sim,\n",
    "#         )\n",
    "\n",
    "#         grid_goal_positions.append(tdm_pos)\n",
    "\n",
    "#     tdmap = np.copy(top_down_map[:, :, 0])\n",
    "#     tdmap = tdmap / np.max(tdmap)\n",
    "#     dist_mat_map = compute_distance_mat_using_fmm(tdmap, [a_y, a_x], grid_object_positions, grid_goal_positions)\n",
    "    \n",
    "    \n",
    "#     route_indexes_map, pickup_order_map = find_shortest_path_for_multiple_objects(dist_mat_map/3)\n",
    "    \n",
    "    return {\n",
    "        'episode_id': episode.episode_id, \n",
    "        'scene_id': episode.scene_id,\n",
    "        'pickup_order': pickup_order_navmesh,\n",
    "        'dist_mat': dist_mat\n",
    "        # 'pickup_order_fmm': pickup_order_map \n",
    "    }"
   ]
  },
  {
   "cell_type": "code",
   "execution_count": 12,
   "metadata": {},
   "outputs": [],
   "source": [
    "def compute_l2dist_pickup_order(env):\n",
    "    # obs = env.reset()\n",
    "    metrics = env.get_metrics()\n",
    "    episode = env.current_episode\n",
    "    metrics = env.get_metrics()\n",
    "\n",
    "    agent_pos = env._sim.get_agent(0).get_state().position\n",
    "    object_positions = [obj.position for obj in episode.objects]\n",
    "    goal_positions = [obj.position for obj in episode.goals]\n",
    "    \n",
    "    dist_mat = np.zeros((   \n",
    "            1 + len(object_positions) + len(goal_positions), \n",
    "            1 + len(object_positions) + len(goal_positions)\n",
    "    ))\n",
    "    \n",
    "    for i, object_pos in enumerate([agent_pos] + object_positions + goal_positions):\n",
    "        for j, goal_pos in enumerate([agent_pos] + object_positions + goal_positions):\n",
    "            if j == 0:  # distance from object / goal position -> \"depot\" is zero\n",
    "                dist = 0\n",
    "            else:\n",
    "                dist = np.linalg.norm(\n",
    "                    np.array(object_pos) - np.array(goal_pos), ord=2\n",
    "                )\n",
    "            dist_mat[i][j] = dist\n",
    "    \n",
    "    route_indexes_map, pickup_order_map = find_shortest_path_for_multiple_objects(dist_mat)\n",
    "    \n",
    "    return {\n",
    "        'episode_id': episode.episode_id, \n",
    "        'scene_id': episode.scene_id,\n",
    "#         'pickup_order': pickup_order_navmesh,\n",
    "        'pickup_order_l2dist': pickup_order_map \n",
    "    }"
   ]
  },
  {
   "cell_type": "code",
   "execution_count": 13,
   "metadata": {},
   "outputs": [],
   "source": [
    "def start_env_episode_distance(env, task, episode, pickup_order):\n",
    "    pathfinder = env._sim.pathfinder\n",
    "    agent_pos = episode.start_position\n",
    "    object_positions = [obj.position for obj in episode.objects]\n",
    "    goal_positions = [obj.position for obj in episode.goals]\n",
    "\n",
    "    prev_obj_end_pos = agent_pos\n",
    "    shortest_dist = 0\n",
    "\n",
    "    for i in range(len(pickup_order)):\n",
    "        curr_idx = pickup_order[i] - 1\n",
    "        curr_obj_start_pos = object_positions[curr_idx]\n",
    "        curr_obj_end_pos = goal_positions[curr_idx]\n",
    "        shortest_dist += geodesic_distance(\n",
    "                pathfinder, prev_obj_end_pos, [curr_obj_start_pos]\n",
    "            )\n",
    "\n",
    "        shortest_dist += geodesic_distance(\n",
    "                    pathfinder, curr_obj_start_pos, [curr_obj_end_pos]\n",
    "                )\n",
    "        prev_obj_end_pos = curr_obj_end_pos\n",
    "\n",
    "    return shortest_dist"
   ]
  },
  {
   "cell_type": "code",
   "execution_count": 14,
   "metadata": {},
   "outputs": [
    {
     "name": "stdout",
     "output_type": "stream",
     "text": [
      "0 1.0103155174669216\n"
     ]
    }
   ],
   "source": [
    "# When pickup order is not known! \n",
    "\n",
    "l2dists = []\n",
    "odists = []\n",
    "l2pos = []\n",
    "opos = []\n",
    "ids = []\n",
    "pod = {}\n",
    "l2pod = {}\n",
    "\n",
    "count = 0 \n",
    "overall_count = 0\n",
    "for episode in env.episodes: \n",
    "    obs = env.reset()\n",
    "    odata = compute_oracle_pickup_order(env)\n",
    "    \n",
    "    l2data = compute_l2dist_pickup_order(env)\n",
    "    \n",
    "    pod[odata['episode_id'] + '_' + odata['scene_id']] = odata\n",
    "    l2pod[l2data['episode_id'] + '_' + l2data['scene_id']] = l2data\n",
    "    \n",
    "    opo = odata['pickup_order']\n",
    "    l2po = l2data['pickup_order_l2dist']\n",
    "    opos.append(opo)\n",
    "    l2pos.append(l2po)\n",
    "    \n",
    "    odist = start_env_episode_distance(env, env._task, env.current_episode, opo)\n",
    "    l2dist = start_env_episode_distance(env, env._task, env.current_episode, l2po)\n",
    "    \n",
    "    odists.append(odist)\n",
    "    l2dists.append(l2dist)\n",
    "    \n",
    "    ids.append(env.current_episode.scene_id + '_' + str(env.current_episode.episode_id))\n",
    "    \n",
    "    if(overall_count % 10 == 0):\n",
    "        print(overall_count, sum(odists) / sum(l2dists))\n",
    "        \n",
    "    if l2dist > odist:\n",
    "        \n",
    "        count += 1\n",
    "        # print(count, overall_count, float(count/overall_count))\n",
    "        \n",
    "    overall_count +=1"
   ]
  },
  {
   "cell_type": "code",
   "execution_count": 17,
   "metadata": {},
   "outputs": [
    {
     "data": {
      "text/plain": [
       "(6, 10, 0.9969686382327528)"
      ]
     },
     "execution_count": 17,
     "metadata": {},
     "output_type": "execute_result"
    }
   ],
   "source": [
    "count, overall_count, sum(odists)/sum(l2dists)"
   ]
  },
  {
   "cell_type": "code",
   "execution_count": 31,
   "metadata": {},
   "outputs": [
    {
     "ename": "TypeError",
     "evalue": "object of type 'NoneType' has no len()",
     "output_type": "error",
     "traceback": [
      "\u001b[0;31m---------------------------------------------------------------------------\u001b[0m",
      "\u001b[0;31mTypeError\u001b[0m                                 Traceback (most recent call last)",
      "\u001b[0;32m<ipython-input-31-4d480f323491>\u001b[0m in \u001b[0;36m<module>\u001b[0;34m\u001b[0m\n\u001b[1;32m     19\u001b[0m     \u001b[0ml2pos\u001b[0m\u001b[0;34m.\u001b[0m\u001b[0mappend\u001b[0m\u001b[0;34m(\u001b[0m\u001b[0ml2po\u001b[0m\u001b[0;34m)\u001b[0m\u001b[0;34m\u001b[0m\u001b[0;34m\u001b[0m\u001b[0m\n\u001b[1;32m     20\u001b[0m \u001b[0;34m\u001b[0m\u001b[0m\n\u001b[0;32m---> 21\u001b[0;31m     \u001b[0modist\u001b[0m \u001b[0;34m=\u001b[0m \u001b[0mstart_env_episode_distance\u001b[0m\u001b[0;34m(\u001b[0m\u001b[0menv\u001b[0m\u001b[0;34m,\u001b[0m \u001b[0menv\u001b[0m\u001b[0;34m.\u001b[0m\u001b[0m_task\u001b[0m\u001b[0;34m,\u001b[0m \u001b[0menv\u001b[0m\u001b[0;34m.\u001b[0m\u001b[0mcurrent_episode\u001b[0m\u001b[0;34m,\u001b[0m \u001b[0mopo\u001b[0m\u001b[0;34m)\u001b[0m\u001b[0;34m\u001b[0m\u001b[0;34m\u001b[0m\u001b[0m\n\u001b[0m\u001b[1;32m     22\u001b[0m     \u001b[0ml2dist\u001b[0m \u001b[0;34m=\u001b[0m \u001b[0mstart_env_episode_distance\u001b[0m\u001b[0;34m(\u001b[0m\u001b[0menv\u001b[0m\u001b[0;34m,\u001b[0m \u001b[0menv\u001b[0m\u001b[0;34m.\u001b[0m\u001b[0m_task\u001b[0m\u001b[0;34m,\u001b[0m \u001b[0menv\u001b[0m\u001b[0;34m.\u001b[0m\u001b[0mcurrent_episode\u001b[0m\u001b[0;34m,\u001b[0m \u001b[0ml2po\u001b[0m\u001b[0;34m)\u001b[0m\u001b[0;34m\u001b[0m\u001b[0;34m\u001b[0m\u001b[0m\n\u001b[1;32m     23\u001b[0m \u001b[0;34m\u001b[0m\u001b[0m\n",
      "\u001b[0;32m<ipython-input-30-198dc530ef05>\u001b[0m in \u001b[0;36mstart_env_episode_distance\u001b[0;34m(env, task, episode, pickup_order)\u001b[0m\n\u001b[1;32m      8\u001b[0m     \u001b[0mshortest_dist\u001b[0m \u001b[0;34m=\u001b[0m \u001b[0;36m0\u001b[0m\u001b[0;34m\u001b[0m\u001b[0;34m\u001b[0m\u001b[0m\n\u001b[1;32m      9\u001b[0m \u001b[0;34m\u001b[0m\u001b[0m\n\u001b[0;32m---> 10\u001b[0;31m     \u001b[0;32mfor\u001b[0m \u001b[0mi\u001b[0m \u001b[0;32min\u001b[0m \u001b[0mrange\u001b[0m\u001b[0;34m(\u001b[0m\u001b[0mlen\u001b[0m\u001b[0;34m(\u001b[0m\u001b[0mpickup_order\u001b[0m\u001b[0;34m)\u001b[0m\u001b[0;34m)\u001b[0m\u001b[0;34m:\u001b[0m\u001b[0;34m\u001b[0m\u001b[0;34m\u001b[0m\u001b[0m\n\u001b[0m\u001b[1;32m     11\u001b[0m         \u001b[0mcurr_idx\u001b[0m \u001b[0;34m=\u001b[0m \u001b[0mpickup_order\u001b[0m\u001b[0;34m[\u001b[0m\u001b[0mi\u001b[0m\u001b[0;34m]\u001b[0m \u001b[0;34m-\u001b[0m \u001b[0;36m1\u001b[0m\u001b[0;34m\u001b[0m\u001b[0;34m\u001b[0m\u001b[0m\n\u001b[1;32m     12\u001b[0m         \u001b[0mcurr_obj_start_pos\u001b[0m \u001b[0;34m=\u001b[0m \u001b[0mobject_positions\u001b[0m\u001b[0;34m[\u001b[0m\u001b[0mcurr_idx\u001b[0m\u001b[0;34m]\u001b[0m\u001b[0;34m\u001b[0m\u001b[0;34m\u001b[0m\u001b[0m\n",
      "\u001b[0;31mTypeError\u001b[0m: object of type 'NoneType' has no len()"
     ]
    }
   ],
   "source": [
    "l2dists = []\n",
    "odists = []\n",
    "l2pos = []\n",
    "opos = []\n",
    "ids = []\n",
    "pod = {}\n",
    "l2pod = {}\n",
    "\n",
    "count = 0 \n",
    "overall_count = 0\n",
    "for ep in env.episodes: \n",
    "    obs = env.reset()\n",
    "    episode = env.current_episode\n",
    "    \n",
    "    opo = episode.pickup_order\n",
    "    l2po = episode.pickup_order_l2dist\n",
    "    \n",
    "    opos.append(opo)\n",
    "    l2pos.append(l2po)\n",
    "    \n",
    "    odist = start_env_episode_distance(env, env._task, env.current_episode, opo)\n",
    "    l2dist = start_env_episode_distance(env, env._task, env.current_episode, l2po)\n",
    "    \n",
    "    odists.append(odist)\n",
    "    l2dists.append(l2dist)\n",
    "    \n",
    "    ids.append(env.current_episode.scene_id + '_' + str(env.current_episode.episode_id))\n",
    "    \n",
    "    if(overall_count % 10 == 0):\n",
    "        print(overall_count, sum(odists) / sum(l2dists))\n",
    "    \n",
    "    overall_count +=1"
   ]
  },
  {
   "cell_type": "code",
   "execution_count": 84,
   "metadata": {},
   "outputs": [
    {
     "name": "stdout",
     "output_type": "stream",
     "text": [
      "Episode ID: 8 Done: 10  "
     ]
    },
    {
     "name": "stderr",
     "output_type": "stream",
     "text": [
      "I1030 06:38:43.626117 34157 simulator.py:168] Loaded navmesh data/scene_datasets/gibson_train_val/Sasakwa.navmesh\n",
      "I1030 06:38:43.627959 34157 simulator.py:180] Recomputing navmesh for agent's height 0.88 and radius 0.18.\n"
     ]
    },
    {
     "name": "stdout",
     "output_type": "stream",
     "text": [
      "Episode ID: 7 Done: 20  "
     ]
    },
    {
     "name": "stderr",
     "output_type": "stream",
     "text": [
      "I1030 06:39:00.113559 34157 simulator.py:168] Loaded navmesh data/scene_datasets/gibson_train_val/Eagerville.navmesh\n",
      "I1030 06:39:00.116208 34157 simulator.py:180] Recomputing navmesh for agent's height 0.88 and radius 0.18.\n"
     ]
    },
    {
     "name": "stdout",
     "output_type": "stream",
     "text": [
      "Episode ID: 2 Done: 30  "
     ]
    },
    {
     "name": "stderr",
     "output_type": "stream",
     "text": [
      "I1030 06:39:15.518285 34157 simulator.py:168] Loaded navmesh data/scene_datasets/gibson_train_val/Chrisney.navmesh\n",
      "I1030 06:39:15.520680 34157 simulator.py:180] Recomputing navmesh for agent's height 0.88 and radius 0.18.\n"
     ]
    },
    {
     "name": "stdout",
     "output_type": "stream",
     "text": [
      "Episode ID: 8 Done: 40  "
     ]
    },
    {
     "name": "stderr",
     "output_type": "stream",
     "text": [
      "I1030 06:39:31.416887 34157 simulator.py:168] Loaded navmesh data/scene_datasets/gibson_train_val/Hallettsville.navmesh\n",
      "I1030 06:39:31.419456 34157 simulator.py:180] Recomputing navmesh for agent's height 0.88 and radius 0.18.\n"
     ]
    },
    {
     "name": "stdout",
     "output_type": "stream",
     "text": [
      "Episode ID: 9 Done: 49  "
     ]
    },
    {
     "name": "stderr",
     "output_type": "stream",
     "text": [
      "I1030 06:39:50.063634 34157 simulator.py:168] Loaded navmesh data/scene_datasets/gibson_train_val/Sodaville.navmesh\n",
      "I1030 06:39:50.065386 34157 simulator.py:180] Recomputing navmesh for agent's height 0.88 and radius 0.18.\n"
     ]
    },
    {
     "name": "stdout",
     "output_type": "stream",
     "text": [
      "Episode ID: 2 Done: 60  "
     ]
    },
    {
     "name": "stderr",
     "output_type": "stream",
     "text": [
      "I1030 06:40:03.150881 34157 simulator.py:168] Loaded navmesh data/scene_datasets/gibson_train_val/Model.navmesh\n",
      "I1030 06:40:03.153353 34157 simulator.py:180] Recomputing navmesh for agent's height 0.88 and radius 0.18.\n"
     ]
    },
    {
     "name": "stdout",
     "output_type": "stream",
     "text": [
      "Episode ID: 8 Done: 69  "
     ]
    },
    {
     "name": "stderr",
     "output_type": "stream",
     "text": [
      "I1030 06:40:22.525498 34157 simulator.py:168] Loaded navmesh data/scene_datasets/gibson_train_val/Castor.navmesh\n",
      "I1030 06:40:22.527400 34157 simulator.py:180] Recomputing navmesh for agent's height 0.88 and radius 0.18.\n"
     ]
    },
    {
     "name": "stdout",
     "output_type": "stream",
     "text": [
      "Episode ID: 0 Done: 79  "
     ]
    },
    {
     "name": "stderr",
     "output_type": "stream",
     "text": [
      "I1030 06:40:38.543604 34157 simulator.py:168] Loaded navmesh data/scene_datasets/gibson_train_val/Kemblesville.navmesh\n",
      "I1030 06:40:38.545637 34157 simulator.py:180] Recomputing navmesh for agent's height 0.88 and radius 0.18.\n"
     ]
    },
    {
     "name": "stdout",
     "output_type": "stream",
     "text": [
      "Episode ID: 2 Done: 89  "
     ]
    },
    {
     "name": "stderr",
     "output_type": "stream",
     "text": [
      "I1030 06:40:53.617020 34157 simulator.py:168] Loaded navmesh data/scene_datasets/gibson_train_val/Willow.navmesh\n",
      "I1030 06:40:53.619477 34157 simulator.py:180] Recomputing navmesh for agent's height 0.88 and radius 0.18.\n"
     ]
    },
    {
     "name": "stdout",
     "output_type": "stream",
     "text": [
      "Episode ID: 8 Done: 100  "
     ]
    }
   ],
   "source": [
    "while(len(pickup_order)!=len(env.episodes)):\n",
    "    data = compute_oracle_pickup_order(env)\n",
    "    pickup_order[data['episode_id'] + '_' + data['scene_id']] = data\n",
    "    print('\\rEpisode ID: {} Done: {} '.format(data['episode_id'], len(pickup_order)), end=\" \")"
   ]
  },
  {
   "cell_type": "code",
   "execution_count": 93,
   "metadata": {},
   "outputs": [
    {
     "name": "stdout",
     "output_type": "stream",
     "text": [
      "Episode ID: 0 Done: 9  "
     ]
    },
    {
     "name": "stderr",
     "output_type": "stream",
     "text": [
      "I1030 10:23:23.899402 34157 simulator.py:168] Loaded navmesh data/scene_datasets/gibson_train_val/Sasakwa.navmesh\n",
      "I1030 10:23:23.901108 34157 simulator.py:180] Recomputing navmesh for agent's height 0.88 and radius 0.18.\n"
     ]
    },
    {
     "name": "stdout",
     "output_type": "stream",
     "text": [
      "Episode ID: 4 Done: 19  "
     ]
    },
    {
     "name": "stderr",
     "output_type": "stream",
     "text": [
      "I1030 10:23:40.001954 34157 simulator.py:168] Loaded navmesh data/scene_datasets/gibson_train_val/Eagerville.navmesh\n",
      "I1030 10:23:40.004197 34157 simulator.py:180] Recomputing navmesh for agent's height 0.88 and radius 0.18.\n"
     ]
    },
    {
     "name": "stdout",
     "output_type": "stream",
     "text": [
      "Episode ID: 6 Done: 29  "
     ]
    },
    {
     "name": "stderr",
     "output_type": "stream",
     "text": [
      "I1030 10:23:55.227985 34157 simulator.py:168] Loaded navmesh data/scene_datasets/gibson_train_val/Chrisney.navmesh\n",
      "I1030 10:23:55.230429 34157 simulator.py:180] Recomputing navmesh for agent's height 0.88 and radius 0.18.\n"
     ]
    },
    {
     "name": "stdout",
     "output_type": "stream",
     "text": [
      "Episode ID: 8 Done: 40  "
     ]
    },
    {
     "name": "stderr",
     "output_type": "stream",
     "text": [
      "I1030 10:24:10.863167 34157 simulator.py:168] Loaded navmesh data/scene_datasets/gibson_train_val/Hallettsville.navmesh\n",
      "I1030 10:24:10.865589 34157 simulator.py:180] Recomputing navmesh for agent's height 0.88 and radius 0.18.\n"
     ]
    },
    {
     "name": "stdout",
     "output_type": "stream",
     "text": [
      "Episode ID: 9 Done: 49  "
     ]
    },
    {
     "name": "stderr",
     "output_type": "stream",
     "text": [
      "I1030 10:24:29.179914 34157 simulator.py:168] Loaded navmesh data/scene_datasets/gibson_train_val/Sodaville.navmesh\n",
      "I1030 10:24:29.181638 34157 simulator.py:180] Recomputing navmesh for agent's height 0.88 and radius 0.18.\n"
     ]
    },
    {
     "name": "stdout",
     "output_type": "stream",
     "text": [
      "Episode ID: 1 Done: 59  "
     ]
    },
    {
     "name": "stderr",
     "output_type": "stream",
     "text": [
      "I1030 10:24:42.173394 34157 simulator.py:168] Loaded navmesh data/scene_datasets/gibson_train_val/Model.navmesh\n",
      "I1030 10:24:42.175254 34157 simulator.py:180] Recomputing navmesh for agent's height 0.88 and radius 0.18.\n"
     ]
    },
    {
     "name": "stdout",
     "output_type": "stream",
     "text": [
      "Episode ID: 4 Done: 70  "
     ]
    },
    {
     "name": "stderr",
     "output_type": "stream",
     "text": [
      "I1030 10:25:01.742082 34157 simulator.py:168] Loaded navmesh data/scene_datasets/gibson_train_val/Castor.navmesh\n",
      "I1030 10:25:01.744571 34157 simulator.py:180] Recomputing navmesh for agent's height 0.88 and radius 0.18.\n"
     ]
    },
    {
     "name": "stdout",
     "output_type": "stream",
     "text": [
      "Episode ID: 6 Done: 80  "
     ]
    },
    {
     "name": "stderr",
     "output_type": "stream",
     "text": [
      "I1030 10:25:17.771710 34157 simulator.py:168] Loaded navmesh data/scene_datasets/gibson_train_val/Kemblesville.navmesh\n",
      "I1030 10:25:17.774128 34157 simulator.py:180] Recomputing navmesh for agent's height 0.88 and radius 0.18.\n"
     ]
    },
    {
     "name": "stdout",
     "output_type": "stream",
     "text": [
      "Episode ID: 2 Done: 89  "
     ]
    },
    {
     "name": "stderr",
     "output_type": "stream",
     "text": [
      "I1030 10:25:32.636682 34157 simulator.py:168] Loaded navmesh data/scene_datasets/gibson_train_val/Willow.navmesh\n"
     ]
    },
    {
     "name": "stdout",
     "output_type": "stream",
     "text": [
      "Episode ID: 4 Done: 90  "
     ]
    },
    {
     "name": "stderr",
     "output_type": "stream",
     "text": [
      "I1030 10:25:32.640164 34157 simulator.py:180] Recomputing navmesh for agent's height 0.88 and radius 0.18.\n"
     ]
    },
    {
     "name": "stdout",
     "output_type": "stream",
     "text": [
      "Episode ID: 8 Done: 100  "
     ]
    }
   ],
   "source": [
    "while(len(pickup_order)!=len(env.episodes)):\n",
    "    data = compute_l2dist_pickup_order(env)\n",
    "    pickup_order[data['episode_id'] + '_' + data['scene_id']] = data\n",
    "    print('\\rEpisode ID: {} Done: {} '.format(data['episode_id'], len(pickup_order)), end=\" \")"
   ]
  },
  {
   "cell_type": "code",
   "execution_count": 94,
   "metadata": {},
   "outputs": [],
   "source": [
    "with open('data/pickup_order_l2dist_val_v4.json','w') as f:\n",
    "    json.dump(pickup_order, f)"
   ]
  },
  {
   "cell_type": "code",
   "execution_count": 95,
   "metadata": {},
   "outputs": [],
   "source": [
    "with open('data/pickup_order_l2dist_val_v4.json','r') as f:\n",
    "    pickup_order_l2dist = json.load(f)\n",
    "    \n",
    "with open('data/pickup_order_oracle_val_v4.json','r') as f:\n",
    "    pickup_order_tdmap = json.load(f)"
   ]
  },
  {
   "cell_type": "code",
   "execution_count": 107,
   "metadata": {},
   "outputs": [
    {
     "name": "stdout",
     "output_type": "stream",
     "text": [
      "rearrangement_v4_val_n=10_o=-1_Kemblesville.json.gz\n",
      "rearrangement_v4_val_n=10_o=-1_Hallettsville.json.gz\n",
      "rearrangement_v4_val_n=10_o=-1_Sodaville.json.gz\n",
      "rearrangement_v4_val_n=10_o=-1_Castor.json.gz\n",
      "rearrangement_v4_val_n=10_o=-1_Eagerville.json.gz\n",
      "rearrangement_v4_val_n=10_o=-1_Model.json.gz\n",
      "rearrangement_v4_val_n=10_o=-1_Willow.json.gz\n",
      "rearrangement_v4_val_n=10_o=-1_Sasakwa.json.gz\n",
      "rearrangement_v4_val_n=10_o=-1_Chrisney.json.gz\n",
      "rearrangement_v4_val_n=10_o=-1_Maugansville.json.gz\n"
     ]
    }
   ],
   "source": [
    "updated_scene_data = []\n",
    "split = 'val'\n",
    "\n",
    "for filename in os.listdir('data/datasets/rearrangement/gibson/v1/{}/content/'.format(split)):\n",
    "    scene_id = filename.split('.')[0].split('_')[-1]\n",
    "    with gzip.open('data/datasets/rearrangement/gibson/v1/{}/content/'.format(split) + filename, \"rt\") as f:\n",
    "        scene_data = json.load(f)\n",
    "    updated_scene_data = deepcopy(scene_data)\n",
    "    \n",
    "    for i, episode in enumerate(scene_data['episodes']):\n",
    "        episode_id = episode['episode_id']\n",
    "        assert updated_scene_data['episodes'][i]['episode_id'] == episode['episode_id']\n",
    "        assert updated_scene_data['episodes'][i]['scene_id'] == episode['scene_id']\n",
    "        updated_scene_data['episodes'][i]['pickup_order'] = pickup_order_tdmap[str(episode['episode_id']) + \"_\" + episode['scene_id']]['pickup_order']\n",
    "        updated_scene_data['episodes'][i]['pickup_order_l2dist'] = pickup_order_l2dist[str(episode['episode_id']) + \"_\" + episode['scene_id']]['pickup_order_l2dist']\n",
    "    \n",
    "    \n",
    "    with gzip.open('data/datasets/rearrangement/gibson/v1/{}/content/'.format(split) + filename, \"wt\") as f:\n",
    "        json.dump(updated_scene_data, f)\n",
    "        \n",
    "    print(filename)"
   ]
  },
  {
   "cell_type": "code",
   "execution_count": 97,
   "metadata": {},
   "outputs": [
    {
     "data": {
      "text/plain": [
       "'/coc/testnvme/hagrawal9/project/habitat/habitat-api'"
      ]
     },
     "execution_count": 97,
     "metadata": {},
     "output_type": "execute_result"
    }
   ],
   "source": [
    "pwd"
   ]
  },
  {
   "cell_type": "code",
   "execution_count": 100,
   "metadata": {},
   "outputs": [
    {
     "data": {
      "text/plain": [
       "(100, 100)"
      ]
     },
     "execution_count": 100,
     "metadata": {},
     "output_type": "execute_result"
    }
   ],
   "source": [
    "len(pickup_order_l2dist), len(pickup_order_tdmap)"
   ]
  }
 ],
 "metadata": {
  "kernelspec": {
   "display_name": "Python 3",
   "language": "python",
   "name": "python3"
  },
  "language_info": {
   "codemirror_mode": {
    "name": "ipython",
    "version": 3
   },
   "file_extension": ".py",
   "mimetype": "text/x-python",
   "name": "python",
   "nbconvert_exporter": "python",
   "pygments_lexer": "ipython3",
   "version": "3.6.10"
  }
 },
 "nbformat": 4,
 "nbformat_minor": 4
}
