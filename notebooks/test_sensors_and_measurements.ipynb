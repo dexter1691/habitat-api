{
 "cells": [
  {
   "cell_type": "code",
   "execution_count": 1,
   "metadata": {},
   "outputs": [],
   "source": [
    "import sys "
   ]
  },
  {
   "cell_type": "code",
   "execution_count": null,
   "metadata": {},
   "outputs": [],
   "source": [
    "cd '/srv/share3/hagrawal9/project/habitat/habitat-api/'"
   ]
  },
  {
   "cell_type": "code",
   "execution_count": null,
   "metadata": {},
   "outputs": [],
   "source": [
    "import gzip\n",
    "import json\n",
    "import os\n",
    "import sys\n",
    "from typing import Any, Dict, List, Optional, Type\n",
    "\n",
    "import attr\n",
    "import cv2\n",
    "import git\n",
    "import magnum as mn\n",
    "import numpy as np\n",
    "\n",
    "# %matplotlib inline\n",
    "from matplotlib import pyplot as plt\n",
    "from pathlib import Path\n",
    "from PIL import Image\n",
    "\n",
    "\n",
    "import habitat\n",
    "import habitat_sim\n",
    "from habitat.config import Config\n",
    "from habitat.core.registry import registry\n",
    "from habitat_sim.utils import viz_utils as vut\n",
    "from habitat.utils.visualizations import maps\n",
    "from habitat.utils.visualizations.utils import observations_to_image"
   ]
  },
  {
   "cell_type": "code",
   "execution_count": null,
   "metadata": {},
   "outputs": [],
   "source": [
    "from habitat.datasets.rearrangement.rearrangement_dataset import RearrangementDatasetV0\n",
    "from habitat.tasks.rearrangement.rearrangement_task import RearrangementEpisode"
   ]
  },
  {
   "cell_type": "code",
   "execution_count": null,
   "metadata": {},
   "outputs": [],
   "source": [
    "from rearrangement.task.sensors import *"
   ]
  },
  {
   "cell_type": "code",
   "execution_count": null,
   "metadata": {},
   "outputs": [],
   "source": [
    "repo = git.Repo(\".\", search_parent_directories=True)\n",
    "dir_path = repo.working_tree_dir\n",
    "# %cd $dir_path\n",
    "data_path = os.path.join(dir_path, \"data\")\n",
    "output_directory = \"data/tutorials/output/\"  # @param {type:\"string\"}\n",
    "output_path = os.path.join(dir_path, output_directory)"
   ]
  },
  {
   "cell_type": "code",
   "execution_count": null,
   "metadata": {},
   "outputs": [],
   "source": [
    "config = habitat.get_config(\"configs/tasks/rearrangement_gibson.yaml\")"
   ]
  },
  {
   "cell_type": "code",
   "execution_count": null,
   "metadata": {},
   "outputs": [],
   "source": [
    "config.defrost()\n",
    "config.TASK.MEASUREMENTS = ['OBJECT_TO_GOAL_DISTANCE', 'AGENT_TO_OBJECT_DISTANCE', 'TOP_DOWN_MAP']\n",
    "# config.TASK.SENSORS += ['CLOSEST_OBJECT_SENSOR', 'RANDOM_OBJECT_SENSOR', 'L2DIST_OBJECT_SENSOR']\n",
    "config.freeze()"
   ]
  },
  {
   "cell_type": "code",
   "execution_count": null,
   "metadata": {},
   "outputs": [],
   "source": [
    "config.TASK.SENSORS"
   ]
  },
  {
   "cell_type": "code",
   "execution_count": null,
   "metadata": {},
   "outputs": [],
   "source": [
    "try:\n",
    "    env.close()\n",
    "except:\n",
    "    pass\n",
    "env = habitat.Env(config)"
   ]
  },
  {
   "cell_type": "code",
   "execution_count": null,
   "metadata": {},
   "outputs": [],
   "source": [
    "len(env.episodes)"
   ]
  },
  {
   "cell_type": "code",
   "execution_count": 19,
   "metadata": {},
   "outputs": [],
   "source": [
    "obs = env.reset()\n",
    "obs_list = []\n",
    "# Get closer to the object"
   ]
  },
  {
   "cell_type": "code",
   "execution_count": 20,
   "metadata": {},
   "outputs": [
    {
     "data": {
      "text/plain": [
       "True"
      ]
     },
     "execution_count": 20,
     "metadata": {},
     "output_type": "execute_result"
    }
   ],
   "source": [
    "env.task.did_episode_reset()"
   ]
  },
  {
   "cell_type": "code",
   "execution_count": 21,
   "metadata": {},
   "outputs": [],
   "source": [
    "obs = env.step(1)\n",
    "# obs_list.append(obs)\n",
    "# metrics = env.get_metrics()\n",
    "# print_info(obs, metrics)\n",
    "\n",
    "# Grab the object\n",
    "# obs = env.step(2)\n",
    "obs_list.append(obs)\n",
    "metrics = env.get_metrics()"
   ]
  },
  {
   "cell_type": "code",
   "execution_count": 21,
   "metadata": {},
   "outputs": [
    {
     "name": "stdout",
     "output_type": "stream",
     "text": [
      "[[2.80626917 0.71417868]\n",
      " [4.87813616 1.90669417]\n",
      " [4.20784616 0.80834037]\n",
      " [3.34477758 0.97718459]\n",
      " [1.39506221 0.27217245]] [[ 3.78029633  1.77690125]\n",
      " [ 4.41814566  0.60751867]\n",
      " [ 3.65268302  1.98266733]\n",
      " [ 1.28899586 -0.67859042]\n",
      " [ 3.45452523  1.58779025]]\n",
      "[0.         2.80626917 0.71417868 3.78029633 1.77690125] [4.         1.39506221 0.27217245 3.45452523 1.58779025] [ 3.          3.34477758  0.97718459  1.28899586 -0.67859042] [4.         1.39506221 0.27217245 3.45452523 1.58779025]\n",
      "--\n",
      "{'pickup_order_navmesh': array([0, 1, 2, 3, 4], dtype=int8), 'current_obj_id_navmesh': 0, 'pickup_order_random': array([3, 0, 1, 2, 4], dtype=int8), 'current_obj_id_random': 3, 'pickup_order_closest': array([4], dtype=int8), 'current_obj_id_closest': 4, 'pickup_order_l2dist': array([4, 3, 0, 1, 2], dtype=int8), 'current_obj_id_l2dist': 4}\n",
      "{0: 4, 1: 3, 2: 2, 3: 1, 4: 0}\n"
     ]
    }
   ],
   "source": [
    "print(obs['all_object_positions'], obs['all_object_goals'])\n",
    "print(obs['oracle_next_object'], obs['closest_object'], obs['random_object'], obs['l2dist_object'])\n",
    "print('--')\n",
    "print(env._task.misc_dict)\n",
    "print(env._task.objid_to_sim_object_mapping)"
   ]
  },
  {
   "cell_type": "code",
   "execution_count": 23,
   "metadata": {},
   "outputs": [
    {
     "data": {
      "text/plain": [
       "{'object_to_goal_distance': {2: 3.2426986694335938,\n",
       "  1: 9.808216094970703,\n",
       "  0: 4.668937683105469,\n",
       "  3: 4.635879039764404},\n",
       " 'agent_to_object_distance': {2: 3.654841899871826,\n",
       "  1: 10.159601211547852,\n",
       "  0: 2.6525111198425293,\n",
       "  3: 5.96960973739624},\n",
       " 'top_down_map': {'map': array([[0, 0, 0, ..., 0, 0, 0],\n",
       "         [0, 0, 0, ..., 0, 0, 0],\n",
       "         [0, 0, 0, ..., 0, 0, 0],\n",
       "         ...,\n",
       "         [0, 0, 0, ..., 0, 0, 0],\n",
       "         [0, 0, 0, ..., 0, 0, 0],\n",
       "         [0, 0, 0, ..., 0, 0, 0]], dtype=uint8),\n",
       "  'fog_of_war_mask': array([[0, 0, 0, ..., 0, 0, 0],\n",
       "         [0, 0, 0, ..., 0, 0, 0],\n",
       "         [0, 0, 0, ..., 0, 0, 0],\n",
       "         ...,\n",
       "         [0, 0, 0, ..., 0, 0, 0],\n",
       "         [0, 0, 0, ..., 0, 0, 0],\n",
       "         [0, 0, 0, ..., 0, 0, 0]], dtype=uint8),\n",
       "  'agent_map_coord': (81, 191),\n",
       "  'agent_angle': 3.141592653589793}}"
      ]
     },
     "execution_count": 23,
     "metadata": {},
     "output_type": "execute_result"
    }
   ],
   "source": [
    "env.get_metrics()"
   ]
  },
  {
   "cell_type": "code",
   "execution_count": 14,
   "metadata": {},
   "outputs": [
    {
     "data": {
      "text/plain": [
       "<matplotlib.image.AxesImage at 0x7f7a1880b710>"
      ]
     },
     "execution_count": 14,
     "metadata": {},
     "output_type": "execute_result"
    },
    {
     "data": {
      "image/png": "[encoded data removed]",
      "text/plain": [
       "<Figure size 432x288 with 1 Axes>"
      ]
     },
     "metadata": {
      "needs_background": "light"
     },
     "output_type": "display_data"
    }
   ],
   "source": [
    "navmesh_settings = habitat_sim.NavMeshSettings()\n",
    "navmesh_settings.set_defaults()\n",
    "navmesh_settings.agent_radius = 0.2\n",
    "navmesh_settings.agent_height = 0.88\n",
    "navmesh_settings.agent_max_climb = 0.1\n",
    "env._sim.recompute_navmesh(env._sim.pathfinder, env._sim.navmesh_settings, False)\n",
    "\n",
    "top_down_map = maps.get_topdown_map(\n",
    "    env._sim.pathfinder,\n",
    "    env._sim.get_agent(0).state.position[1],\n",
    "    1024\n",
    ")\n",
    "\n",
    "top_down_map = maps.colorize_topdown_map(top_down_map)\n",
    "agent_position = env._sim.get_agent_state().position\n",
    "a_x, a_y = maps.to_grid(\n",
    "    agent_position[2],\n",
    "    agent_position[0],\n",
    "    top_down_map.shape[0:2],\n",
    "    sim=env._sim,\n",
    ")\n",
    "\n",
    "episode = env.current_episode\n",
    "object_positions = [obj.position for obj in episode.objects]\n",
    "goal_positions = [obj.position for obj in episode.goals]\n",
    "\n",
    "grid_object_positions = []\n",
    "grid_goal_positions = []\n",
    "\n",
    "for i, obj_pos in enumerate(object_positions):\n",
    "    tdm_pos = maps.to_grid(\n",
    "        obj_pos[2],\n",
    "        obj_pos[0],\n",
    "        top_down_map.shape[0:2],\n",
    "        sim=env._sim,\n",
    "    )\n",
    "    grid_object_positions.append(tdm_pos)\n",
    "\n",
    "# draw the objectgoal positions.\n",
    "for i, goal_pos in enumerate(goal_positions):\n",
    "    tdm_pos = maps.to_grid(\n",
    "        goal_pos[2],\n",
    "        goal_pos[0],\n",
    "        top_down_map.shape[0:2],\n",
    "        sim=env._sim,\n",
    "    )\n",
    "\n",
    "    grid_goal_positions.append(tdm_pos)\n",
    "    \n",
    "# top_down_map = maps.draw_agent(\n",
    "#     image=top_down_map,\n",
    "#     agent_center_coord=[a_x, a_y],\n",
    "#     agent_rotation=metrics[\"top_down_map\"][\"agent_angle\"],\n",
    "#     agent_radius_px=min(top_down_map.shape[0:2]) / 32,\n",
    "# )\n",
    "\n",
    "# top_down_map = maps.draw_object_info(top_down_map, grid_object_positions, grid_goal_positions)\n",
    "\n",
    "plt.imshow(top_down_map)"
   ]
  },
  {
   "cell_type": "code",
   "execution_count": 18,
   "metadata": {},
   "outputs": [
    {
     "data": {
      "text/plain": [
       "<matplotlib.image.AxesImage at 0x7f7a12e1d9e8>"
      ]
     },
     "execution_count": 18,
     "metadata": {},
     "output_type": "execute_result"
    },
    {
     "data": {
      "image/png": "[encoded data removed]",
      "text/plain": [
       "<Figure size 432x288 with 1 Axes>"
      ]
     },
     "metadata": {
      "needs_background": "light"
     },
     "output_type": "display_data"
    }
   ],
   "source": [
    "top_down_map = maps.draw_object_info(top_down_map, grid_object_positions, suffix=\"\")\n",
    "top_down_map = maps.draw_object_info(top_down_map, grid_goal_positions, suffix=\"g\")\n",
    "\n",
    "plt.imshow(top_down_map)"
   ]
  },
  {
   "cell_type": "code",
   "execution_count": 75,
   "metadata": {},
   "outputs": [
    {
     "data": {
      "text/plain": [
       "<matplotlib.image.AxesImage at 0x7fa1c833ff98>"
      ]
     },
     "execution_count": 75,
     "metadata": {},
     "output_type": "execute_result"
    },
    {
     "data": {
      "image/png": "[encoded data removed]",
      "text/plain": [
       "<Figure size 432x288 with 1 Axes>"
      ]
     },
     "metadata": {
      "needs_background": "light"
     },
     "output_type": "display_data"
    }
   ],
   "source": [
    "tdmap = top_down_map[:, :, 0]\n",
    "tdmap[tdmap < 200] = 0\n",
    "tdmap = np.invert(tdmap)\n",
    "plt.imshow(tdmap, cmap=\"gray\")"
   ]
  },
  {
   "cell_type": "code",
   "execution_count": 26,
   "metadata": {},
   "outputs": [],
   "source": [
    "np.random.shuffle(np.arange(1, 5))"
   ]
  },
  {
   "cell_type": "code",
   "execution_count": 27,
   "metadata": {},
   "outputs": [
    {
     "data": {
      "text/plain": [
       "\u001b[0;31mDocstring:\u001b[0m\n",
       "shuffle(x)\n",
       "\n",
       "Modify a sequence in-place by shuffling its contents.\n",
       "\n",
       "This function only shuffles the array along the first axis of a\n",
       "multi-dimensional array. The order of sub-arrays is changed but\n",
       "their contents remains the same.\n",
       "\n",
       ".. note::\n",
       "    New code should use the ``shuffle`` method of a ``default_rng()``\n",
       "    instance instead; see `random-quick-start`.\n",
       "\n",
       "Parameters\n",
       "----------\n",
       "x : array_like\n",
       "    The array or list to be shuffled.\n",
       "\n",
       "Returns\n",
       "-------\n",
       "None\n",
       "\n",
       "See Also\n",
       "--------\n",
       "Generator.shuffle: which should be used for new code.\n",
       "\n",
       "Examples\n",
       "--------\n",
       ">>> arr = np.arange(10)\n",
       ">>> np.random.shuffle(arr)\n",
       ">>> arr\n",
       "[1 7 5 2 9 4 3 6 0 8] # random\n",
       "\n",
       "Multi-dimensional arrays are only shuffled along the first axis:\n",
       "\n",
       ">>> arr = np.arange(9).reshape((3, 3))\n",
       ">>> np.random.shuffle(arr)\n",
       ">>> arr\n",
       "array([[3, 4, 5], # random\n",
       "       [6, 7, 8],\n",
       "       [0, 1, 2]])\n",
       "\u001b[0;31mType:\u001b[0m      builtin_function_or_method\n"
      ]
     },
     "metadata": {},
     "output_type": "display_data"
    }
   ],
   "source": [
    "np.random.shuffle?"
   ]
  },
  {
   "cell_type": "code",
   "execution_count": null,
   "metadata": {},
   "outputs": [],
   "source": []
  }
 ],
 "metadata": {
  "kernelspec": {
   "display_name": "Python 3",
   "language": "python",
   "name": "python3"
  },
  "language_info": {
   "codemirror_mode": {
    "name": "ipython",
    "version": 3
   },
   "file_extension": ".py",
   "mimetype": "text/x-python",
   "name": "python",
   "nbconvert_exporter": "python",
   "pygments_lexer": "ipython3",
   "version": "3.6.10"
  }
 },
 "nbformat": 4,
 "nbformat_minor": 4
}
